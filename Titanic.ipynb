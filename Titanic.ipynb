{
 "cells": [
  {
   "cell_type": "markdown",
   "metadata": {
    "_cell_guid": "543900aa-3602-41f8-b30d-cdeb3bf75b38",
    "_uuid": "ace8a56ad914f734b858032816bb257a63032580"
   },
   "source": [
    "# 1. Introduction"
   ]
  },
  {
   "cell_type": "markdown",
   "metadata": {
    "_cell_guid": "bc0ce59c-2ffc-45ba-820a-1b252b693f24",
    "_execution_state": "idle",
    "_uuid": "1bebf6de6cab3161775425559810b4d23c8df4dc"
   },
   "source": [
    "The main task in this project is to predict if a particular person would have survived in the titanic crush. We will use the given training data to develop a high performance predictive model.In this project, one can learn retrieving csv file, how to drop and add features to the dataset, identifying the numerical and categorical variables, identifying missing data, replacing missing data, transformation (mapping) of categorical variables into equivalent numerical values, transforming variable ranges into discrete bins, correlation between all features and survival, correlation between each features (Heat map), feature engineering, 10 predictive models, model evaluation and selection, parameter tuning for the selected model, KFold cross-validation for the selected model, variable importance for the proposed model, predicting the target value (Survival of the test data), and submitting the final results."
   ]
  },
  {
   "cell_type": "markdown",
   "metadata": {
    "_cell_guid": "831139c3-84fb-4a66-a341-337f314c9ffa",
    "_execution_state": "idle",
    "_uuid": "f838b7c1b07826af065f51bd9d1d233fe36731bd"
   },
   "source": [
    "## 1.1 Goal"
   ]
  },
  {
   "cell_type": "markdown",
   "metadata": {
    "_cell_guid": "9050ef01-0d1f-4eee-94f7-9a9713610491",
    "_execution_state": "idle",
    "_uuid": "255273a524024f37bcbbb0b26d8f42f7f99c9cdb"
   },
   "source": [
    "The goal of this project:\n",
    "\n",
    " 1. To study the correlation between the survival rate and the features\n",
    " 2. To identify the most correlated and least correlated features\n",
    " 3. To propose a predictive model\n",
    " 4. To practice machine learning algorithms"
   ]
  },
  {
   "cell_type": "markdown",
   "metadata": {
    "_cell_guid": "79c26b3d-2359-4efd-90fc-16ff27f86368",
    "_uuid": "0801aff727ac8c6b82df974fd4baafa0e487d90b"
   },
   "source": [
    "Some notes:\n",
    "\n",
    "- On the outset some of the features may not have direct correlation to survival such as:  \n",
    "    - name of a person, passenger ID, ticket \n",
    "- Some of the features may not have full/major set of data such as Cabin with multiple null \n",
    "\n",
    "As Feature Engineering:\n",
    "\n",
    "- We will consider the correlation between survival and the size of family. Hence, we will create a new FamilySize feature\n",
    "- We will consider the correlation between title of the passenger and survival. We will also create a new Title feature\n",
    "\n",
    "Transforming of categorical variables into their corresponding numeric values:\n",
    "- Dividing the age into range of ages.\n",
    "- Similarly dividing the fare into range (number of bins)  "
   ]
  },
  {
   "cell_type": "markdown",
   "metadata": {
    "_cell_guid": "183e98d4-858c-4e6b-b482-03bd434640de",
    "_uuid": "c258347e2d63581a289f69bf9cea232f545e1ba0"
   },
   "source": [
    "# 1.2 ASSUMPTIONS AND DESCRIBTION"
   ]
  },
  {
   "cell_type": "markdown",
   "metadata": {},
   "source": [
    "The sinking of the RMS Titanic is one of the most infamous shipwrecks in history.  On April 15, 1912, during her maiden voyage, the Titanic sank after colliding with an iceberg, killing 1502 out of 2224 passengers and crew. This sensational tragedy shocked the international community and led to better safety regulations for ships.\n",
    "\n",
    "One of the reasons that the shipwreck led to such loss of life was that there were not enough lifeboats for the passengers and crew. Although there was some element of luck involved in surviving the sinking."
   ]
  },
  {
   "cell_type": "markdown",
   "metadata": {
    "_cell_guid": "ed22e097-0bb4-4366-a0a1-602c5b9a1de9",
    "_uuid": "88e83da4780d57857c6bfb03cb7d9af9c7f07090"
   },
   "source": [
    "1. Children are more likely to survive more\n",
    "2. Female are more likely to survive \n",
    "3. First class passengers are more likely to survive "
   ]
  },
  {
   "cell_type": "markdown",
   "metadata": {
    "_cell_guid": "b88852cc-4e45-4762-85c1-2bc25abc367a",
    "_uuid": "7fed52aa1b2a47c5f9a934b24a49070cb9b878f4"
   },
   "source": [
    "## 1.3 Import Libraries"
   ]
  },
  {
   "cell_type": "code",
   "execution_count": 1,
   "metadata": {
    "_cell_guid": "806ef43e-3347-4a93-a858-a1f2e9ec5f3c",
    "_execution_state": "idle",
    "_uuid": "e31a4cc161be86ebf9371d8aafc8321ab0cc3b64"
   },
   "outputs": [
    {
     "data": {
      "text/html": [
       "<script type=\"text/javascript\">window.PlotlyConfig = {MathJaxConfig: 'local'};</script><script type=\"text/javascript\">if (window.MathJax) {MathJax.Hub.Config({SVG: {font: \"STIX-Web\"}});}</script><script>requirejs.config({paths: { 'plotly': ['https://cdn.plot.ly/plotly-latest.min']},});if(!window._Plotly) {require(['plotly'],function(plotly) {window._Plotly=plotly;});}</script>"
      ],
      "text/vnd.plotly.v1+html": [
       "<script type=\"text/javascript\">window.PlotlyConfig = {MathJaxConfig: 'local'};</script><script type=\"text/javascript\">if (window.MathJax) {MathJax.Hub.Config({SVG: {font: \"STIX-Web\"}});}</script><script>requirejs.config({paths: { 'plotly': ['https://cdn.plot.ly/plotly-latest.min']},});if(!window._Plotly) {require(['plotly'],function(plotly) {window._Plotly=plotly;});}</script>"
      ]
     },
     "metadata": {},
     "output_type": "display_data"
    },
    {
     "name": "stderr",
     "output_type": "stream",
     "text": [
      "/usr/local/anaconda3/envs/szczygiel/lib/python3.6/site-packages/sklearn/cross_validation.py:41: DeprecationWarning:\n",
      "\n",
      "This module was deprecated in version 0.18 in favor of the model_selection module into which all the refactored classes and functions are moved. Also note that the interface of the new CV iterators are different from that of this module. This module will be removed in 0.20.\n",
      "\n",
      "/usr/local/anaconda3/envs/szczygiel/lib/python3.6/site-packages/sklearn/grid_search.py:42: DeprecationWarning:\n",
      "\n",
      "This module was deprecated in version 0.18 in favor of the model_selection module into which all the refactored classes and functions are moved. This module will be removed in 0.20.\n",
      "\n"
     ]
    }
   ],
   "source": [
    "%matplotlib inline\n",
    "import numpy as np\n",
    "import pandas as pd\n",
    "\n",
    "import warnings\n",
    "warnings.filterwarnings('ignore')\n",
    "\n",
    "import matplotlib.pyplot as plt\n",
    "import seaborn as sns\n",
    "sns.set(style = \"whitegrid\", color_codes = True)\n",
    "np.random.seed(sum(map(ord, \"palettes\")))\n",
    "\n",
    "#plotly\n",
    "import plotly.plotly as py\n",
    "from plotly.offline import init_notebook_mode, iplot\n",
    "init_notebook_mode(connected=True)\n",
    "import plotly.graph_objs as go\n",
    "from plotly import tools\n",
    "\n",
    "from sklearn.metrics import roc_auc_score\n",
    "\n",
    "#Models\n",
    "from sklearn.ensemble import RandomForestRegressor\n",
    "from sklearn.ensemble import RandomForestClassifier\n",
    "from sklearn.linear_model import LogisticRegression, Perceptron, SGDClassifier\n",
    "from sklearn.neighbors import KNeighborsClassifier\n",
    "from sklearn.svm import SVC, LinearSVC\n",
    "from sklearn.naive_bayes import GaussianNB\n",
    "from sklearn.tree import DecisionTreeClassifier\n",
    "\n",
    "from sklearn.model_selection import cross_val_score,train_test_split\n",
    "from sklearn.metrics import classification_report \n",
    "from sklearn.metrics import confusion_matrix\n",
    "from sklearn.metrics import accuracy_score\n",
    "from sklearn.metrics import f1_score\n",
    "from sklearn.metrics import precision_score\n",
    "from sklearn.metrics import recall_score\n",
    "from sklearn.grid_search import GridSearchCV\n",
    "from sklearn.cross_validation import KFold\n"
   ]
  },
  {
   "cell_type": "markdown",
   "metadata": {
    "_cell_guid": "9d321c5a-92d6-419b-9c2e-51431f5242d7",
    "_uuid": "e3797b2fb9c9da24aad5cf2687e10c3bfba8f6b0"
   },
   "source": [
    "## 1.4 Data Retriving and Exploration"
   ]
  },
  {
   "cell_type": "markdown",
   "metadata": {},
   "source": [
    "####  Peek into the Data:"
   ]
  },
  {
   "cell_type": "code",
   "execution_count": 2,
   "metadata": {
    "_cell_guid": "5e3ff450-afcc-4f01-9847-3ef7bcc579a7",
    "_execution_state": "idle",
    "_uuid": "53cd99fea6f99634fc63d5540608aecb617cbb76"
   },
   "outputs": [],
   "source": [
    "train = pd.read_csv(\"/Users/klaudiaszczygiel/data_science/Projekt_ML/Titanic_dataset/train.csv\")\n",
    "test = pd.read_csv(\"/Users/klaudiaszczygiel/data_science/Projekt_ML/Titanic_dataset/test.csv\")"
   ]
  },
  {
   "cell_type": "code",
   "execution_count": 3,
   "metadata": {},
   "outputs": [
    {
     "data": {
      "text/html": [
       "<div>\n",
       "<style scoped>\n",
       "    .dataframe tbody tr th:only-of-type {\n",
       "        vertical-align: middle;\n",
       "    }\n",
       "\n",
       "    .dataframe tbody tr th {\n",
       "        vertical-align: top;\n",
       "    }\n",
       "\n",
       "    .dataframe thead th {\n",
       "        text-align: right;\n",
       "    }\n",
       "</style>\n",
       "<table border=\"1\" class=\"dataframe\">\n",
       "  <thead>\n",
       "    <tr style=\"text-align: right;\">\n",
       "      <th></th>\n",
       "      <th>PassengerId</th>\n",
       "      <th>Survived</th>\n",
       "      <th>Pclass</th>\n",
       "      <th>Name</th>\n",
       "      <th>Sex</th>\n",
       "      <th>Age</th>\n",
       "      <th>SibSp</th>\n",
       "      <th>Parch</th>\n",
       "      <th>Ticket</th>\n",
       "      <th>Fare</th>\n",
       "      <th>Cabin</th>\n",
       "      <th>Embarked</th>\n",
       "    </tr>\n",
       "  </thead>\n",
       "  <tbody>\n",
       "    <tr>\n",
       "      <th>0</th>\n",
       "      <td>1</td>\n",
       "      <td>0</td>\n",
       "      <td>3</td>\n",
       "      <td>Braund, Mr. Owen Harris</td>\n",
       "      <td>male</td>\n",
       "      <td>22.0</td>\n",
       "      <td>1</td>\n",
       "      <td>0</td>\n",
       "      <td>A/5 21171</td>\n",
       "      <td>7.2500</td>\n",
       "      <td>NaN</td>\n",
       "      <td>S</td>\n",
       "    </tr>\n",
       "    <tr>\n",
       "      <th>1</th>\n",
       "      <td>2</td>\n",
       "      <td>1</td>\n",
       "      <td>1</td>\n",
       "      <td>Cumings, Mrs. John Bradley (Florence Briggs Th...</td>\n",
       "      <td>female</td>\n",
       "      <td>38.0</td>\n",
       "      <td>1</td>\n",
       "      <td>0</td>\n",
       "      <td>PC 17599</td>\n",
       "      <td>71.2833</td>\n",
       "      <td>C85</td>\n",
       "      <td>C</td>\n",
       "    </tr>\n",
       "    <tr>\n",
       "      <th>2</th>\n",
       "      <td>3</td>\n",
       "      <td>1</td>\n",
       "      <td>3</td>\n",
       "      <td>Heikkinen, Miss. Laina</td>\n",
       "      <td>female</td>\n",
       "      <td>26.0</td>\n",
       "      <td>0</td>\n",
       "      <td>0</td>\n",
       "      <td>STON/O2. 3101282</td>\n",
       "      <td>7.9250</td>\n",
       "      <td>NaN</td>\n",
       "      <td>S</td>\n",
       "    </tr>\n",
       "    <tr>\n",
       "      <th>3</th>\n",
       "      <td>4</td>\n",
       "      <td>1</td>\n",
       "      <td>1</td>\n",
       "      <td>Futrelle, Mrs. Jacques Heath (Lily May Peel)</td>\n",
       "      <td>female</td>\n",
       "      <td>35.0</td>\n",
       "      <td>1</td>\n",
       "      <td>0</td>\n",
       "      <td>113803</td>\n",
       "      <td>53.1000</td>\n",
       "      <td>C123</td>\n",
       "      <td>S</td>\n",
       "    </tr>\n",
       "    <tr>\n",
       "      <th>4</th>\n",
       "      <td>5</td>\n",
       "      <td>0</td>\n",
       "      <td>3</td>\n",
       "      <td>Allen, Mr. William Henry</td>\n",
       "      <td>male</td>\n",
       "      <td>35.0</td>\n",
       "      <td>0</td>\n",
       "      <td>0</td>\n",
       "      <td>373450</td>\n",
       "      <td>8.0500</td>\n",
       "      <td>NaN</td>\n",
       "      <td>S</td>\n",
       "    </tr>\n",
       "  </tbody>\n",
       "</table>\n",
       "</div>"
      ],
      "text/plain": [
       "   PassengerId  Survived  Pclass  \\\n",
       "0            1         0       3   \n",
       "1            2         1       1   \n",
       "2            3         1       3   \n",
       "3            4         1       1   \n",
       "4            5         0       3   \n",
       "\n",
       "                                                Name     Sex   Age  SibSp  \\\n",
       "0                            Braund, Mr. Owen Harris    male  22.0      1   \n",
       "1  Cumings, Mrs. John Bradley (Florence Briggs Th...  female  38.0      1   \n",
       "2                             Heikkinen, Miss. Laina  female  26.0      0   \n",
       "3       Futrelle, Mrs. Jacques Heath (Lily May Peel)  female  35.0      1   \n",
       "4                           Allen, Mr. William Henry    male  35.0      0   \n",
       "\n",
       "   Parch            Ticket     Fare Cabin Embarked  \n",
       "0      0         A/5 21171   7.2500   NaN        S  \n",
       "1      0          PC 17599  71.2833   C85        C  \n",
       "2      0  STON/O2. 3101282   7.9250   NaN        S  \n",
       "3      0            113803  53.1000  C123        S  \n",
       "4      0            373450   8.0500   NaN        S  "
      ]
     },
     "execution_count": 3,
     "metadata": {},
     "output_type": "execute_result"
    }
   ],
   "source": [
    "train.head()"
   ]
  },
  {
   "cell_type": "code",
   "execution_count": 4,
   "metadata": {},
   "outputs": [
    {
     "data": {
      "text/plain": [
       "((891, 12), (418, 11))"
      ]
     },
     "execution_count": 4,
     "metadata": {},
     "output_type": "execute_result"
    }
   ],
   "source": [
    "train.shape, test.shape"
   ]
  },
  {
   "cell_type": "markdown",
   "metadata": {},
   "source": [
    "** Some insights :**\n",
    "* The data set consists of 12 attributes (PassengerId, Survived, Pclass, Name, Sex, Age, SibSp, Parch, Ticket, Fare, Cabin, Embarked)\n",
    "    1. PassengerId - Numeric data, it is unique for each passenger, not useful.\n",
    "    2. Survived - Target data to be predicted, with incators 0 (Passenger Died) or 1 (Passenger Survived).\n",
    "    3. Pclass - Numeric data, has 3 categories (1st, 2nd or 3rd), useful.\n",
    "    4. Name - String data type, mostly unique for each passenger, not useful.\n",
    "    5. Sex - Categorical data, has 2 categories (male, female), useful.\n",
    "    6. Age - Numeric data, max age is 80, it contains few nulls (can be imputed), useful.\n",
    "    7. SibSp - Numeric data, max number of siblings / spouses aboard is 8, useful.\n",
    "    8. Parch - Numeric data, max number of parents / children aboard is 6, useful.\n",
    "    9. Ticket - Categorical data, it has a prefix to the number,  it can be useful.\n",
    "    10. Fare - Numeric data, higher the class, higher is the fare (need to check), max fare is 512,32 (currency is $ I guess) , useful.\n",
    "    11. Cabin - Categorical data, it contains few nulls (can be imputed), it can be useful.\n",
    "    12. Embarked - Categorical data, with 3 categories, C = Cherbourg, Q = Queenstown, S = Southampton, it contains few nulls (can be imputed), useful. \n",
    "* The attribute 'Survived' would be the attribute to be predicted, i.e, target attribute.\n",
    "* Based on the values in the target attribute, i.e., 0/1 which states if the passenger survived or not, it is a Binary Classification."
   ]
  },
  {
   "cell_type": "markdown",
   "metadata": {},
   "source": [
    "#### Summary of the data:"
   ]
  },
  {
   "cell_type": "markdown",
   "metadata": {
    "_cell_guid": "9bff46db-a12d-4548-abd3-42f643aa9d72",
    "_uuid": "2a547f16381137a94cdb62025f1481f2549147f8"
   },
   "source": [
    "For the train data, the numerical features are PassengerId, pclass, Age, sibSp, Parch, and Fare."
   ]
  },
  {
   "cell_type": "code",
   "execution_count": 5,
   "metadata": {
    "_cell_guid": "b7cfb45c-0b7b-4163-95be-997473eb6b59",
    "_execution_state": "idle",
    "_uuid": "f4146ff5c5ffcef20c20225d1f297ab0eea66b55"
   },
   "outputs": [
    {
     "data": {
      "text/html": [
       "<div>\n",
       "<style scoped>\n",
       "    .dataframe tbody tr th:only-of-type {\n",
       "        vertical-align: middle;\n",
       "    }\n",
       "\n",
       "    .dataframe tbody tr th {\n",
       "        vertical-align: top;\n",
       "    }\n",
       "\n",
       "    .dataframe thead th {\n",
       "        text-align: right;\n",
       "    }\n",
       "</style>\n",
       "<table border=\"1\" class=\"dataframe\">\n",
       "  <thead>\n",
       "    <tr style=\"text-align: right;\">\n",
       "      <th></th>\n",
       "      <th>PassengerId</th>\n",
       "      <th>Pclass</th>\n",
       "      <th>Age</th>\n",
       "      <th>SibSp</th>\n",
       "      <th>Parch</th>\n",
       "      <th>Fare</th>\n",
       "    </tr>\n",
       "  </thead>\n",
       "  <tbody>\n",
       "    <tr>\n",
       "      <th>count</th>\n",
       "      <td>418.000000</td>\n",
       "      <td>418.000000</td>\n",
       "      <td>332.000000</td>\n",
       "      <td>418.000000</td>\n",
       "      <td>418.000000</td>\n",
       "      <td>417.000000</td>\n",
       "    </tr>\n",
       "    <tr>\n",
       "      <th>mean</th>\n",
       "      <td>1100.500000</td>\n",
       "      <td>2.265550</td>\n",
       "      <td>30.272590</td>\n",
       "      <td>0.447368</td>\n",
       "      <td>0.392344</td>\n",
       "      <td>35.627188</td>\n",
       "    </tr>\n",
       "    <tr>\n",
       "      <th>std</th>\n",
       "      <td>120.810458</td>\n",
       "      <td>0.841838</td>\n",
       "      <td>14.181209</td>\n",
       "      <td>0.896760</td>\n",
       "      <td>0.981429</td>\n",
       "      <td>55.907576</td>\n",
       "    </tr>\n",
       "    <tr>\n",
       "      <th>min</th>\n",
       "      <td>892.000000</td>\n",
       "      <td>1.000000</td>\n",
       "      <td>0.170000</td>\n",
       "      <td>0.000000</td>\n",
       "      <td>0.000000</td>\n",
       "      <td>0.000000</td>\n",
       "    </tr>\n",
       "    <tr>\n",
       "      <th>25%</th>\n",
       "      <td>996.250000</td>\n",
       "      <td>1.000000</td>\n",
       "      <td>21.000000</td>\n",
       "      <td>0.000000</td>\n",
       "      <td>0.000000</td>\n",
       "      <td>7.895800</td>\n",
       "    </tr>\n",
       "    <tr>\n",
       "      <th>50%</th>\n",
       "      <td>1100.500000</td>\n",
       "      <td>3.000000</td>\n",
       "      <td>27.000000</td>\n",
       "      <td>0.000000</td>\n",
       "      <td>0.000000</td>\n",
       "      <td>14.454200</td>\n",
       "    </tr>\n",
       "    <tr>\n",
       "      <th>75%</th>\n",
       "      <td>1204.750000</td>\n",
       "      <td>3.000000</td>\n",
       "      <td>39.000000</td>\n",
       "      <td>1.000000</td>\n",
       "      <td>0.000000</td>\n",
       "      <td>31.500000</td>\n",
       "    </tr>\n",
       "    <tr>\n",
       "      <th>max</th>\n",
       "      <td>1309.000000</td>\n",
       "      <td>3.000000</td>\n",
       "      <td>76.000000</td>\n",
       "      <td>8.000000</td>\n",
       "      <td>9.000000</td>\n",
       "      <td>512.329200</td>\n",
       "    </tr>\n",
       "  </tbody>\n",
       "</table>\n",
       "</div>"
      ],
      "text/plain": [
       "       PassengerId      Pclass         Age       SibSp       Parch        Fare\n",
       "count   418.000000  418.000000  332.000000  418.000000  418.000000  417.000000\n",
       "mean   1100.500000    2.265550   30.272590    0.447368    0.392344   35.627188\n",
       "std     120.810458    0.841838   14.181209    0.896760    0.981429   55.907576\n",
       "min     892.000000    1.000000    0.170000    0.000000    0.000000    0.000000\n",
       "25%     996.250000    1.000000   21.000000    0.000000    0.000000    7.895800\n",
       "50%    1100.500000    3.000000   27.000000    0.000000    0.000000   14.454200\n",
       "75%    1204.750000    3.000000   39.000000    1.000000    0.000000   31.500000\n",
       "max    1309.000000    3.000000   76.000000    8.000000    9.000000  512.329200"
      ]
     },
     "execution_count": 5,
     "metadata": {},
     "output_type": "execute_result"
    }
   ],
   "source": [
    "test.describe()"
   ]
  },
  {
   "cell_type": "markdown",
   "metadata": {
    "_cell_guid": "32c2af34-32cd-4b46-9508-1a01596de3b2",
    "_uuid": "3c8a696ed7d435e3e6fde4003e695f4d5e20bd8e"
   },
   "source": [
    "The test data has same numerical features: PassengerId, pclass, Age, sibSp, Parch, and Fare."
   ]
  },
  {
   "cell_type": "markdown",
   "metadata": {
    "_cell_guid": "0247c759-f523-4cc5-b5e6-cf0a2de37e70",
    "_uuid": "dcd5e42ab149fb0e4ffbc6b54dc04dc59903f1ab"
   },
   "source": [
    "####  df.info()  help us to see how many instances does the datasethave and the overall missing data"
   ]
  },
  {
   "cell_type": "code",
   "execution_count": 6,
   "metadata": {
    "_cell_guid": "6903fb9b-8c39-4510-beba-a611e405f226",
    "_execution_state": "idle",
    "_uuid": "2609244b364be1fad5e335b0613da7545f962ba0"
   },
   "outputs": [
    {
     "name": "stdout",
     "output_type": "stream",
     "text": [
      "<class 'pandas.core.frame.DataFrame'>\n",
      "RangeIndex: 891 entries, 0 to 890\n",
      "Data columns (total 12 columns):\n",
      "PassengerId    891 non-null int64\n",
      "Survived       891 non-null int64\n",
      "Pclass         891 non-null int64\n",
      "Name           891 non-null object\n",
      "Sex            891 non-null object\n",
      "Age            714 non-null float64\n",
      "SibSp          891 non-null int64\n",
      "Parch          891 non-null int64\n",
      "Ticket         891 non-null object\n",
      "Fare           891 non-null float64\n",
      "Cabin          204 non-null object\n",
      "Embarked       889 non-null object\n",
      "dtypes: float64(2), int64(5), object(5)\n",
      "memory usage: 83.6+ KB\n",
      "++++++++++++++++++++++++++++++++++++++\n",
      "\n",
      "<class 'pandas.core.frame.DataFrame'>\n",
      "RangeIndex: 418 entries, 0 to 417\n",
      "Data columns (total 11 columns):\n",
      "PassengerId    418 non-null int64\n",
      "Pclass         418 non-null int64\n",
      "Name           418 non-null object\n",
      "Sex            418 non-null object\n",
      "Age            332 non-null float64\n",
      "SibSp          418 non-null int64\n",
      "Parch          418 non-null int64\n",
      "Ticket         418 non-null object\n",
      "Fare           417 non-null float64\n",
      "Cabin          91 non-null object\n",
      "Embarked       418 non-null object\n",
      "dtypes: float64(2), int64(4), object(5)\n",
      "memory usage: 36.0+ KB\n"
     ]
    }
   ],
   "source": [
    "train.info()\n",
    "print(\"++++++++++++++++++++++++++++++++++++++\")\n",
    "print()\n",
    "test.info()"
   ]
  },
  {
   "cell_type": "markdown",
   "metadata": {
    "_cell_guid": "b25ab0c1-18ee-4c1b-ab63-be926b49852d",
    "_uuid": "c79b93416fef649a8d7c5c688146313818544ed3"
   },
   "source": [
    "#### The train data has 891 instances (rows) and Age, Cabin, Embarked  have missing data. The test data has 418 instances (rows) and Age, Fare, and Cabin have missing data"
   ]
  },
  {
   "cell_type": "code",
   "execution_count": 7,
   "metadata": {},
   "outputs": [
    {
     "data": {
      "text/html": [
       "<div>\n",
       "<style scoped>\n",
       "    .dataframe tbody tr th:only-of-type {\n",
       "        vertical-align: middle;\n",
       "    }\n",
       "\n",
       "    .dataframe tbody tr th {\n",
       "        vertical-align: top;\n",
       "    }\n",
       "\n",
       "    .dataframe thead th {\n",
       "        text-align: right;\n",
       "    }\n",
       "</style>\n",
       "<table border=\"1\" class=\"dataframe\">\n",
       "  <thead>\n",
       "    <tr style=\"text-align: right;\">\n",
       "      <th></th>\n",
       "      <th>percent_missing</th>\n",
       "    </tr>\n",
       "  </thead>\n",
       "  <tbody>\n",
       "    <tr>\n",
       "      <th>PassengerId</th>\n",
       "      <td>0.000000</td>\n",
       "    </tr>\n",
       "    <tr>\n",
       "      <th>Survived</th>\n",
       "      <td>0.000000</td>\n",
       "    </tr>\n",
       "    <tr>\n",
       "      <th>Pclass</th>\n",
       "      <td>0.000000</td>\n",
       "    </tr>\n",
       "    <tr>\n",
       "      <th>Name</th>\n",
       "      <td>0.000000</td>\n",
       "    </tr>\n",
       "    <tr>\n",
       "      <th>Sex</th>\n",
       "      <td>0.000000</td>\n",
       "    </tr>\n",
       "    <tr>\n",
       "      <th>Age</th>\n",
       "      <td>19.865320</td>\n",
       "    </tr>\n",
       "    <tr>\n",
       "      <th>SibSp</th>\n",
       "      <td>0.000000</td>\n",
       "    </tr>\n",
       "    <tr>\n",
       "      <th>Parch</th>\n",
       "      <td>0.000000</td>\n",
       "    </tr>\n",
       "    <tr>\n",
       "      <th>Ticket</th>\n",
       "      <td>0.000000</td>\n",
       "    </tr>\n",
       "    <tr>\n",
       "      <th>Fare</th>\n",
       "      <td>0.000000</td>\n",
       "    </tr>\n",
       "    <tr>\n",
       "      <th>Cabin</th>\n",
       "      <td>77.104377</td>\n",
       "    </tr>\n",
       "    <tr>\n",
       "      <th>Embarked</th>\n",
       "      <td>0.224467</td>\n",
       "    </tr>\n",
       "  </tbody>\n",
       "</table>\n",
       "</div>"
      ],
      "text/plain": [
       "             percent_missing\n",
       "PassengerId         0.000000\n",
       "Survived            0.000000\n",
       "Pclass              0.000000\n",
       "Name                0.000000\n",
       "Sex                 0.000000\n",
       "Age                19.865320\n",
       "SibSp               0.000000\n",
       "Parch               0.000000\n",
       "Ticket              0.000000\n",
       "Fare                0.000000\n",
       "Cabin              77.104377\n",
       "Embarked            0.224467"
      ]
     },
     "execution_count": 7,
     "metadata": {},
     "output_type": "execute_result"
    }
   ],
   "source": [
    "pd.DataFrame({'percent_missing': train.isnull().sum() * 100 / len(train)})"
   ]
  },
  {
   "cell_type": "code",
   "execution_count": 8,
   "metadata": {
    "_cell_guid": "cd8bcb14-2334-494f-a74b-db52e55dee7e",
    "_execution_state": "idle",
    "_uuid": "404ed61524070682354c3862dcde1349afb6de80"
   },
   "outputs": [
    {
     "data": {
      "text/html": [
       "<div>\n",
       "<style scoped>\n",
       "    .dataframe tbody tr th:only-of-type {\n",
       "        vertical-align: middle;\n",
       "    }\n",
       "\n",
       "    .dataframe tbody tr th {\n",
       "        vertical-align: top;\n",
       "    }\n",
       "\n",
       "    .dataframe thead th {\n",
       "        text-align: right;\n",
       "    }\n",
       "</style>\n",
       "<table border=\"1\" class=\"dataframe\">\n",
       "  <thead>\n",
       "    <tr style=\"text-align: right;\">\n",
       "      <th></th>\n",
       "      <th>PassengerId</th>\n",
       "      <th>Pclass</th>\n",
       "      <th>Name</th>\n",
       "      <th>Sex</th>\n",
       "      <th>Age</th>\n",
       "      <th>SibSp</th>\n",
       "      <th>Parch</th>\n",
       "      <th>Ticket</th>\n",
       "      <th>Fare</th>\n",
       "      <th>Cabin</th>\n",
       "      <th>Embarked</th>\n",
       "    </tr>\n",
       "  </thead>\n",
       "  <tbody>\n",
       "    <tr>\n",
       "      <th>0</th>\n",
       "      <td>892</td>\n",
       "      <td>3</td>\n",
       "      <td>Kelly, Mr. James</td>\n",
       "      <td>male</td>\n",
       "      <td>34.5</td>\n",
       "      <td>0</td>\n",
       "      <td>0</td>\n",
       "      <td>330911</td>\n",
       "      <td>7.8292</td>\n",
       "      <td>NaN</td>\n",
       "      <td>Q</td>\n",
       "    </tr>\n",
       "    <tr>\n",
       "      <th>1</th>\n",
       "      <td>893</td>\n",
       "      <td>3</td>\n",
       "      <td>Wilkes, Mrs. James (Ellen Needs)</td>\n",
       "      <td>female</td>\n",
       "      <td>47.0</td>\n",
       "      <td>1</td>\n",
       "      <td>0</td>\n",
       "      <td>363272</td>\n",
       "      <td>7.0000</td>\n",
       "      <td>NaN</td>\n",
       "      <td>S</td>\n",
       "    </tr>\n",
       "    <tr>\n",
       "      <th>2</th>\n",
       "      <td>894</td>\n",
       "      <td>2</td>\n",
       "      <td>Myles, Mr. Thomas Francis</td>\n",
       "      <td>male</td>\n",
       "      <td>62.0</td>\n",
       "      <td>0</td>\n",
       "      <td>0</td>\n",
       "      <td>240276</td>\n",
       "      <td>9.6875</td>\n",
       "      <td>NaN</td>\n",
       "      <td>Q</td>\n",
       "    </tr>\n",
       "    <tr>\n",
       "      <th>3</th>\n",
       "      <td>895</td>\n",
       "      <td>3</td>\n",
       "      <td>Wirz, Mr. Albert</td>\n",
       "      <td>male</td>\n",
       "      <td>27.0</td>\n",
       "      <td>0</td>\n",
       "      <td>0</td>\n",
       "      <td>315154</td>\n",
       "      <td>8.6625</td>\n",
       "      <td>NaN</td>\n",
       "      <td>S</td>\n",
       "    </tr>\n",
       "    <tr>\n",
       "      <th>4</th>\n",
       "      <td>896</td>\n",
       "      <td>3</td>\n",
       "      <td>Hirvonen, Mrs. Alexander (Helga E Lindqvist)</td>\n",
       "      <td>female</td>\n",
       "      <td>22.0</td>\n",
       "      <td>1</td>\n",
       "      <td>1</td>\n",
       "      <td>3101298</td>\n",
       "      <td>12.2875</td>\n",
       "      <td>NaN</td>\n",
       "      <td>S</td>\n",
       "    </tr>\n",
       "  </tbody>\n",
       "</table>\n",
       "</div>"
      ],
      "text/plain": [
       "   PassengerId  Pclass                                          Name     Sex  \\\n",
       "0          892       3                              Kelly, Mr. James    male   \n",
       "1          893       3              Wilkes, Mrs. James (Ellen Needs)  female   \n",
       "2          894       2                     Myles, Mr. Thomas Francis    male   \n",
       "3          895       3                              Wirz, Mr. Albert    male   \n",
       "4          896       3  Hirvonen, Mrs. Alexander (Helga E Lindqvist)  female   \n",
       "\n",
       "    Age  SibSp  Parch   Ticket     Fare Cabin Embarked  \n",
       "0  34.5      0      0   330911   7.8292   NaN        Q  \n",
       "1  47.0      1      0   363272   7.0000   NaN        S  \n",
       "2  62.0      0      0   240276   9.6875   NaN        Q  \n",
       "3  27.0      0      0   315154   8.6625   NaN        S  \n",
       "4  22.0      1      1  3101298  12.2875   NaN        S  "
      ]
     },
     "execution_count": 8,
     "metadata": {},
     "output_type": "execute_result"
    }
   ],
   "source": [
    "test.head()"
   ]
  },
  {
   "cell_type": "markdown",
   "metadata": {
    "_cell_guid": "90964826-b347-4049-af87-0b667902cacf",
    "_uuid": "65e253bd3a80796e3095234ea90a71128f57c617"
   },
   "source": [
    "###  Information about the categorical variables"
   ]
  },
  {
   "cell_type": "code",
   "execution_count": 9,
   "metadata": {
    "_cell_guid": "4094bd0d-6b06-41f9-b42a-9d1915df74b7",
    "_execution_state": "idle",
    "_uuid": "d87ec541f0f487cd0cf3233007655b7d032370a6"
   },
   "outputs": [
    {
     "data": {
      "text/html": [
       "<div>\n",
       "<style scoped>\n",
       "    .dataframe tbody tr th:only-of-type {\n",
       "        vertical-align: middle;\n",
       "    }\n",
       "\n",
       "    .dataframe tbody tr th {\n",
       "        vertical-align: top;\n",
       "    }\n",
       "\n",
       "    .dataframe thead th {\n",
       "        text-align: right;\n",
       "    }\n",
       "</style>\n",
       "<table border=\"1\" class=\"dataframe\">\n",
       "  <thead>\n",
       "    <tr style=\"text-align: right;\">\n",
       "      <th></th>\n",
       "      <th>Name</th>\n",
       "      <th>Sex</th>\n",
       "      <th>Ticket</th>\n",
       "      <th>Cabin</th>\n",
       "      <th>Embarked</th>\n",
       "    </tr>\n",
       "  </thead>\n",
       "  <tbody>\n",
       "    <tr>\n",
       "      <th>count</th>\n",
       "      <td>891</td>\n",
       "      <td>891</td>\n",
       "      <td>891</td>\n",
       "      <td>204</td>\n",
       "      <td>889</td>\n",
       "    </tr>\n",
       "    <tr>\n",
       "      <th>unique</th>\n",
       "      <td>891</td>\n",
       "      <td>2</td>\n",
       "      <td>681</td>\n",
       "      <td>147</td>\n",
       "      <td>3</td>\n",
       "    </tr>\n",
       "    <tr>\n",
       "      <th>top</th>\n",
       "      <td>Olsen, Mr. Karl Siegwart Andreas</td>\n",
       "      <td>male</td>\n",
       "      <td>347082</td>\n",
       "      <td>C23 C25 C27</td>\n",
       "      <td>S</td>\n",
       "    </tr>\n",
       "    <tr>\n",
       "      <th>freq</th>\n",
       "      <td>1</td>\n",
       "      <td>577</td>\n",
       "      <td>7</td>\n",
       "      <td>4</td>\n",
       "      <td>644</td>\n",
       "    </tr>\n",
       "  </tbody>\n",
       "</table>\n",
       "</div>"
      ],
      "text/plain": [
       "                                    Name   Sex  Ticket        Cabin Embarked\n",
       "count                                891   891     891          204      889\n",
       "unique                               891     2     681          147        3\n",
       "top     Olsen, Mr. Karl Siegwart Andreas  male  347082  C23 C25 C27        S\n",
       "freq                                   1   577       7            4      644"
      ]
     },
     "execution_count": 9,
     "metadata": {},
     "output_type": "execute_result"
    }
   ],
   "source": [
    "train.describe(include = ['O'])"
   ]
  },
  {
   "cell_type": "code",
   "execution_count": 10,
   "metadata": {
    "_cell_guid": "238905c7-76cd-4aff-bfe5-35c689a0c611",
    "_execution_state": "idle",
    "_uuid": "0c6c030d0d842ea207e57c75c66f50e233271bda"
   },
   "outputs": [
    {
     "data": {
      "text/html": [
       "<div>\n",
       "<style scoped>\n",
       "    .dataframe tbody tr th:only-of-type {\n",
       "        vertical-align: middle;\n",
       "    }\n",
       "\n",
       "    .dataframe tbody tr th {\n",
       "        vertical-align: top;\n",
       "    }\n",
       "\n",
       "    .dataframe thead th {\n",
       "        text-align: right;\n",
       "    }\n",
       "</style>\n",
       "<table border=\"1\" class=\"dataframe\">\n",
       "  <thead>\n",
       "    <tr style=\"text-align: right;\">\n",
       "      <th></th>\n",
       "      <th>Name</th>\n",
       "      <th>Sex</th>\n",
       "      <th>Ticket</th>\n",
       "      <th>Cabin</th>\n",
       "      <th>Embarked</th>\n",
       "    </tr>\n",
       "  </thead>\n",
       "  <tbody>\n",
       "    <tr>\n",
       "      <th>count</th>\n",
       "      <td>418</td>\n",
       "      <td>418</td>\n",
       "      <td>418</td>\n",
       "      <td>91</td>\n",
       "      <td>418</td>\n",
       "    </tr>\n",
       "    <tr>\n",
       "      <th>unique</th>\n",
       "      <td>418</td>\n",
       "      <td>2</td>\n",
       "      <td>363</td>\n",
       "      <td>76</td>\n",
       "      <td>3</td>\n",
       "    </tr>\n",
       "    <tr>\n",
       "      <th>top</th>\n",
       "      <td>Bentham, Miss. Lilian W</td>\n",
       "      <td>male</td>\n",
       "      <td>PC 17608</td>\n",
       "      <td>B57 B59 B63 B66</td>\n",
       "      <td>S</td>\n",
       "    </tr>\n",
       "    <tr>\n",
       "      <th>freq</th>\n",
       "      <td>1</td>\n",
       "      <td>266</td>\n",
       "      <td>5</td>\n",
       "      <td>3</td>\n",
       "      <td>270</td>\n",
       "    </tr>\n",
       "  </tbody>\n",
       "</table>\n",
       "</div>"
      ],
      "text/plain": [
       "                           Name   Sex    Ticket            Cabin Embarked\n",
       "count                       418   418       418               91      418\n",
       "unique                      418     2       363               76        3\n",
       "top     Bentham, Miss. Lilian W  male  PC 17608  B57 B59 B63 B66        S\n",
       "freq                          1   266         5                3      270"
      ]
     },
     "execution_count": 10,
     "metadata": {},
     "output_type": "execute_result"
    }
   ],
   "source": [
    "test.describe(include = ['O'])"
   ]
  },
  {
   "cell_type": "code",
   "execution_count": 11,
   "metadata": {},
   "outputs": [
    {
     "data": {
      "text/html": [
       "<div>\n",
       "<style scoped>\n",
       "    .dataframe tbody tr th:only-of-type {\n",
       "        vertical-align: middle;\n",
       "    }\n",
       "\n",
       "    .dataframe tbody tr th {\n",
       "        vertical-align: top;\n",
       "    }\n",
       "\n",
       "    .dataframe thead th {\n",
       "        text-align: right;\n",
       "    }\n",
       "</style>\n",
       "<table border=\"1\" class=\"dataframe\">\n",
       "  <thead>\n",
       "    <tr style=\"text-align: right;\">\n",
       "      <th></th>\n",
       "      <th>percent_unique</th>\n",
       "    </tr>\n",
       "  </thead>\n",
       "  <tbody>\n",
       "    <tr>\n",
       "      <th>PassengerId</th>\n",
       "      <td>100.000000</td>\n",
       "    </tr>\n",
       "    <tr>\n",
       "      <th>Survived</th>\n",
       "      <td>0.224467</td>\n",
       "    </tr>\n",
       "    <tr>\n",
       "      <th>Pclass</th>\n",
       "      <td>0.336700</td>\n",
       "    </tr>\n",
       "    <tr>\n",
       "      <th>Name</th>\n",
       "      <td>100.000000</td>\n",
       "    </tr>\n",
       "    <tr>\n",
       "      <th>Sex</th>\n",
       "      <td>0.224467</td>\n",
       "    </tr>\n",
       "    <tr>\n",
       "      <th>Age</th>\n",
       "      <td>9.988777</td>\n",
       "    </tr>\n",
       "    <tr>\n",
       "      <th>SibSp</th>\n",
       "      <td>0.785634</td>\n",
       "    </tr>\n",
       "    <tr>\n",
       "      <th>Parch</th>\n",
       "      <td>0.785634</td>\n",
       "    </tr>\n",
       "    <tr>\n",
       "      <th>Ticket</th>\n",
       "      <td>76.430976</td>\n",
       "    </tr>\n",
       "    <tr>\n",
       "      <th>Fare</th>\n",
       "      <td>27.833895</td>\n",
       "    </tr>\n",
       "    <tr>\n",
       "      <th>Cabin</th>\n",
       "      <td>16.610550</td>\n",
       "    </tr>\n",
       "    <tr>\n",
       "      <th>Embarked</th>\n",
       "      <td>0.448934</td>\n",
       "    </tr>\n",
       "  </tbody>\n",
       "</table>\n",
       "</div>"
      ],
      "text/plain": [
       "             percent_unique\n",
       "PassengerId      100.000000\n",
       "Survived           0.224467\n",
       "Pclass             0.336700\n",
       "Name             100.000000\n",
       "Sex                0.224467\n",
       "Age                9.988777\n",
       "SibSp              0.785634\n",
       "Parch              0.785634\n",
       "Ticket            76.430976\n",
       "Fare              27.833895\n",
       "Cabin             16.610550\n",
       "Embarked           0.448934"
      ]
     },
     "execution_count": 11,
     "metadata": {},
     "output_type": "execute_result"
    }
   ],
   "source": [
    "pd.DataFrame({'percent_unique': train.apply(lambda x: x.unique().size/x.size*100)})"
   ]
  },
  {
   "cell_type": "markdown",
   "metadata": {
    "_cell_guid": "55cc4b95-c03a-45a1-b4ce-4c5c4b608704",
    "_uuid": "cca61cd2c90f81455a3b28d2e0f2c2a086a6e57d"
   },
   "source": [
    "#### Get familiarize with the features information of the dataset"
   ]
  },
  {
   "cell_type": "markdown",
   "metadata": {
    "_cell_guid": "5b5f9b5c-fe19-4b95-86df-c7c85b77f7aa",
    "_uuid": "2338898a439171bd94f284f0c30501e1cbf693ae"
   },
   "source": [
    "- Categorical or discrete variables (features):\n",
    "    - Sex (male or female) the most frequent being male\n",
    "    - Embarked: (C, Q or S) the most frequent being S\n",
    "    - Cabin (this feature has several duplicates 147 unique and missing data (this could be a candidate to remove from the features)\n",
    "    - Ticket with unique 681"
   ]
  },
  {
   "cell_type": "markdown",
   "metadata": {
    "_cell_guid": "826ccd8c-d7af-40f6-bbaf-5333c350d6f9",
    "_uuid": "273026c7c17b235de2024f995d40cd53bd4e5816"
   },
   "source": [
    "# 2. Preparing Data for Model Prediction and Data Analysis"
   ]
  },
  {
   "cell_type": "markdown",
   "metadata": {
    "_cell_guid": "5884cb39-0381-4b1b-a5b7-da56abe77b00",
    "_uuid": "ad00c7c86f04619f9abf8181f2a6fb665985222c"
   },
   "source": [
    "- Filling missing Data \n",
    "- Feature engineering\n",
    "- Feature vs Survival correlation\n",
    "- Transforming categorical variables into equivalent numerical values"
   ]
  },
  {
   "cell_type": "markdown",
   "metadata": {
    "_cell_guid": "449475d8-c8c2-49b2-a943-880274c57b0e",
    "_uuid": "15c0cd4bcc2b5dd9926d7e4f472635b06728f294"
   },
   "source": [
    "First let us combine the train and test data for preprocessing. But this combination is not used for scaling or identifying the outliers (data leakage). We will start by removing the data which are not important for data analysis and model prediction. The cabin has more missing data than available data, the PassengerId and Name wouldn't have relationship with survival. Moreover, class of the passengers is relevant to survival but I am assuming that the ticket will not have an effect. Hence, I am not considering the Ticket for further analysis."
   ]
  },
  {
   "cell_type": "markdown",
   "metadata": {
    "_cell_guid": "4676b686-c7c7-438a-965e-923391bed128",
    "_uuid": "78aa96548a8bdcec17425e51ac643b0886acdd64"
   },
   "source": [
    "As we stated above, there is no importance of the Name and PassengerId for the data analysis. however, we need Name to generate the Title feature in the feature engineering. So, we will not drop the Name feature for now. We also need the PassengerId for submitting the final result. "
   ]
  },
  {
   "cell_type": "code",
   "execution_count": 12,
   "metadata": {
    "_cell_guid": "39268063-9bdc-4f30-bc8f-366954f85a3b",
    "_execution_state": "idle",
    "_uuid": "083c7e4cdb966d207306bab32cd1428323727be2"
   },
   "outputs": [],
   "source": [
    "test_PassengerId = test[\"PassengerId\"]  # save the id for submiting the final results\n",
    "\n",
    "train.drop(['PassengerId', \"Ticket\", 'Cabin'], axis = 1, inplace = True)\n",
    "test.drop(['PassengerId', \"Ticket\", 'Cabin'], axis=1, inplace = True)\n",
    "train_test_data = [train, test] "
   ]
  },
  {
   "cell_type": "markdown",
   "metadata": {
    "_cell_guid": "2a5b9cf9-b505-4560-8993-3d019efae49a",
    "_uuid": "6ef7c91e69bc4a493a75ead8fac602a096a81cec"
   },
   "source": [
    "## 2. 1. Sex"
   ]
  },
  {
   "cell_type": "markdown",
   "metadata": {
    "_cell_guid": "b9185d97-d011-401e-91d2-4523fd73136f",
    "_uuid": "6f715eb302598e6fb2c7ee6daae12cb4a5449655"
   },
   "source": [
    "- No missing data\n",
    "- Categorical variable\n",
    "- Transform the Sex categorical variable into equivalent discrete numerical value (Sex: male being 1 and female = 0). "
   ]
  },
  {
   "cell_type": "code",
   "execution_count": 13,
   "metadata": {
    "_cell_guid": "ce493ec8-d2ab-42a0-8fe3-474bbb36e6e5",
    "_execution_state": "idle",
    "_uuid": "cf6e76d49b2c827da9bbc0008bdb2d12b9f2a029"
   },
   "outputs": [],
   "source": [
    "for dataset in train_test_data:\n",
    "    dataset['Sex'] = dataset['Sex'].map({'male': 1, 'female': 0}).astype(int)"
   ]
  },
  {
   "cell_type": "code",
   "execution_count": 14,
   "metadata": {
    "_cell_guid": "db0258e8-0720-4b29-b4b3-98404df865de",
    "_execution_state": "idle",
    "_uuid": "6ec8d8799b2edeb35b18ed8e9789a0421d09b31c"
   },
   "outputs": [
    {
     "data": {
      "text/html": [
       "<div>\n",
       "<style scoped>\n",
       "    .dataframe tbody tr th:only-of-type {\n",
       "        vertical-align: middle;\n",
       "    }\n",
       "\n",
       "    .dataframe tbody tr th {\n",
       "        vertical-align: top;\n",
       "    }\n",
       "\n",
       "    .dataframe thead th {\n",
       "        text-align: right;\n",
       "    }\n",
       "</style>\n",
       "<table border=\"1\" class=\"dataframe\">\n",
       "  <thead>\n",
       "    <tr style=\"text-align: right;\">\n",
       "      <th></th>\n",
       "      <th>Survived</th>\n",
       "      <th>Pclass</th>\n",
       "      <th>Name</th>\n",
       "      <th>Sex</th>\n",
       "      <th>Age</th>\n",
       "      <th>SibSp</th>\n",
       "      <th>Parch</th>\n",
       "      <th>Fare</th>\n",
       "      <th>Embarked</th>\n",
       "    </tr>\n",
       "  </thead>\n",
       "  <tbody>\n",
       "    <tr>\n",
       "      <th>0</th>\n",
       "      <td>0</td>\n",
       "      <td>3</td>\n",
       "      <td>Braund, Mr. Owen Harris</td>\n",
       "      <td>1</td>\n",
       "      <td>22.0</td>\n",
       "      <td>1</td>\n",
       "      <td>0</td>\n",
       "      <td>7.2500</td>\n",
       "      <td>S</td>\n",
       "    </tr>\n",
       "    <tr>\n",
       "      <th>1</th>\n",
       "      <td>1</td>\n",
       "      <td>1</td>\n",
       "      <td>Cumings, Mrs. John Bradley (Florence Briggs Th...</td>\n",
       "      <td>0</td>\n",
       "      <td>38.0</td>\n",
       "      <td>1</td>\n",
       "      <td>0</td>\n",
       "      <td>71.2833</td>\n",
       "      <td>C</td>\n",
       "    </tr>\n",
       "    <tr>\n",
       "      <th>2</th>\n",
       "      <td>1</td>\n",
       "      <td>3</td>\n",
       "      <td>Heikkinen, Miss. Laina</td>\n",
       "      <td>0</td>\n",
       "      <td>26.0</td>\n",
       "      <td>0</td>\n",
       "      <td>0</td>\n",
       "      <td>7.9250</td>\n",
       "      <td>S</td>\n",
       "    </tr>\n",
       "    <tr>\n",
       "      <th>3</th>\n",
       "      <td>1</td>\n",
       "      <td>1</td>\n",
       "      <td>Futrelle, Mrs. Jacques Heath (Lily May Peel)</td>\n",
       "      <td>0</td>\n",
       "      <td>35.0</td>\n",
       "      <td>1</td>\n",
       "      <td>0</td>\n",
       "      <td>53.1000</td>\n",
       "      <td>S</td>\n",
       "    </tr>\n",
       "    <tr>\n",
       "      <th>4</th>\n",
       "      <td>0</td>\n",
       "      <td>3</td>\n",
       "      <td>Allen, Mr. William Henry</td>\n",
       "      <td>1</td>\n",
       "      <td>35.0</td>\n",
       "      <td>0</td>\n",
       "      <td>0</td>\n",
       "      <td>8.0500</td>\n",
       "      <td>S</td>\n",
       "    </tr>\n",
       "  </tbody>\n",
       "</table>\n",
       "</div>"
      ],
      "text/plain": [
       "   Survived  Pclass                                               Name  Sex  \\\n",
       "0         0       3                            Braund, Mr. Owen Harris    1   \n",
       "1         1       1  Cumings, Mrs. John Bradley (Florence Briggs Th...    0   \n",
       "2         1       3                             Heikkinen, Miss. Laina    0   \n",
       "3         1       1       Futrelle, Mrs. Jacques Heath (Lily May Peel)    0   \n",
       "4         0       3                           Allen, Mr. William Henry    1   \n",
       "\n",
       "    Age  SibSp  Parch     Fare Embarked  \n",
       "0  22.0      1      0   7.2500        S  \n",
       "1  38.0      1      0  71.2833        C  \n",
       "2  26.0      0      0   7.9250        S  \n",
       "3  35.0      1      0  53.1000        S  \n",
       "4  35.0      0      0   8.0500        S  "
      ]
     },
     "execution_count": 14,
     "metadata": {},
     "output_type": "execute_result"
    }
   ],
   "source": [
    "train_test_data[0].head() # train data"
   ]
  },
  {
   "cell_type": "code",
   "execution_count": 15,
   "metadata": {
    "_cell_guid": "c084a12e-5fbc-414a-b4fd-3838fcb6ba5e",
    "_execution_state": "idle",
    "_uuid": "9b110a1ddbe9641bbac0dde7cc01b7966161f9de"
   },
   "outputs": [
    {
     "data": {
      "text/html": [
       "<div>\n",
       "<style scoped>\n",
       "    .dataframe tbody tr th:only-of-type {\n",
       "        vertical-align: middle;\n",
       "    }\n",
       "\n",
       "    .dataframe tbody tr th {\n",
       "        vertical-align: top;\n",
       "    }\n",
       "\n",
       "    .dataframe thead th {\n",
       "        text-align: right;\n",
       "    }\n",
       "</style>\n",
       "<table border=\"1\" class=\"dataframe\">\n",
       "  <thead>\n",
       "    <tr style=\"text-align: right;\">\n",
       "      <th></th>\n",
       "      <th>Pclass</th>\n",
       "      <th>Name</th>\n",
       "      <th>Sex</th>\n",
       "      <th>Age</th>\n",
       "      <th>SibSp</th>\n",
       "      <th>Parch</th>\n",
       "      <th>Fare</th>\n",
       "      <th>Embarked</th>\n",
       "    </tr>\n",
       "  </thead>\n",
       "  <tbody>\n",
       "    <tr>\n",
       "      <th>0</th>\n",
       "      <td>3</td>\n",
       "      <td>Kelly, Mr. James</td>\n",
       "      <td>1</td>\n",
       "      <td>34.5</td>\n",
       "      <td>0</td>\n",
       "      <td>0</td>\n",
       "      <td>7.8292</td>\n",
       "      <td>Q</td>\n",
       "    </tr>\n",
       "    <tr>\n",
       "      <th>1</th>\n",
       "      <td>3</td>\n",
       "      <td>Wilkes, Mrs. James (Ellen Needs)</td>\n",
       "      <td>0</td>\n",
       "      <td>47.0</td>\n",
       "      <td>1</td>\n",
       "      <td>0</td>\n",
       "      <td>7.0000</td>\n",
       "      <td>S</td>\n",
       "    </tr>\n",
       "    <tr>\n",
       "      <th>2</th>\n",
       "      <td>2</td>\n",
       "      <td>Myles, Mr. Thomas Francis</td>\n",
       "      <td>1</td>\n",
       "      <td>62.0</td>\n",
       "      <td>0</td>\n",
       "      <td>0</td>\n",
       "      <td>9.6875</td>\n",
       "      <td>Q</td>\n",
       "    </tr>\n",
       "    <tr>\n",
       "      <th>3</th>\n",
       "      <td>3</td>\n",
       "      <td>Wirz, Mr. Albert</td>\n",
       "      <td>1</td>\n",
       "      <td>27.0</td>\n",
       "      <td>0</td>\n",
       "      <td>0</td>\n",
       "      <td>8.6625</td>\n",
       "      <td>S</td>\n",
       "    </tr>\n",
       "    <tr>\n",
       "      <th>4</th>\n",
       "      <td>3</td>\n",
       "      <td>Hirvonen, Mrs. Alexander (Helga E Lindqvist)</td>\n",
       "      <td>0</td>\n",
       "      <td>22.0</td>\n",
       "      <td>1</td>\n",
       "      <td>1</td>\n",
       "      <td>12.2875</td>\n",
       "      <td>S</td>\n",
       "    </tr>\n",
       "  </tbody>\n",
       "</table>\n",
       "</div>"
      ],
      "text/plain": [
       "   Pclass                                          Name  Sex   Age  SibSp  \\\n",
       "0       3                              Kelly, Mr. James    1  34.5      0   \n",
       "1       3              Wilkes, Mrs. James (Ellen Needs)    0  47.0      1   \n",
       "2       2                     Myles, Mr. Thomas Francis    1  62.0      0   \n",
       "3       3                              Wirz, Mr. Albert    1  27.0      0   \n",
       "4       3  Hirvonen, Mrs. Alexander (Helga E Lindqvist)    0  22.0      1   \n",
       "\n",
       "   Parch     Fare Embarked  \n",
       "0      0   7.8292        Q  \n",
       "1      0   7.0000        S  \n",
       "2      0   9.6875        Q  \n",
       "3      0   8.6625        S  \n",
       "4      1  12.2875        S  "
      ]
     },
     "execution_count": 15,
     "metadata": {},
     "output_type": "execute_result"
    }
   ],
   "source": [
    "train_test_data[1].head()  # test data"
   ]
  },
  {
   "cell_type": "markdown",
   "metadata": {
    "_cell_guid": "21817fe7-df6f-4895-a399-5fa142a913cc",
    "_uuid": "3392d941ba86fab688fa5199117885844052b8d6"
   },
   "source": [
    "- Sex feature correlation with survival by pivoting on Sex feature"
   ]
  },
  {
   "cell_type": "code",
   "execution_count": 16,
   "metadata": {
    "_cell_guid": "28d3c16d-bb4e-4e3a-9bd8-8f90e2c8b8c1",
    "_execution_state": "idle",
    "_uuid": "b93f7fbe78cca79ee41e0f9e7e03815da80dfcb8"
   },
   "outputs": [
    {
     "data": {
      "text/html": [
       "<div>\n",
       "<style scoped>\n",
       "    .dataframe tbody tr th:only-of-type {\n",
       "        vertical-align: middle;\n",
       "    }\n",
       "\n",
       "    .dataframe tbody tr th {\n",
       "        vertical-align: top;\n",
       "    }\n",
       "\n",
       "    .dataframe thead th {\n",
       "        text-align: right;\n",
       "    }\n",
       "</style>\n",
       "<table border=\"1\" class=\"dataframe\">\n",
       "  <thead>\n",
       "    <tr style=\"text-align: right;\">\n",
       "      <th></th>\n",
       "      <th>Sex</th>\n",
       "      <th>Survived</th>\n",
       "    </tr>\n",
       "  </thead>\n",
       "  <tbody>\n",
       "    <tr>\n",
       "      <th>1</th>\n",
       "      <td>1</td>\n",
       "      <td>0.188908</td>\n",
       "    </tr>\n",
       "    <tr>\n",
       "      <th>0</th>\n",
       "      <td>0</td>\n",
       "      <td>0.742038</td>\n",
       "    </tr>\n",
       "  </tbody>\n",
       "</table>\n",
       "</div>"
      ],
      "text/plain": [
       "   Sex  Survived\n",
       "1    1  0.188908\n",
       "0    0  0.742038"
      ]
     },
     "execution_count": 16,
     "metadata": {},
     "output_type": "execute_result"
    }
   ],
   "source": [
    "train[['Sex', 'Survived']].groupby(['Sex'], as_index = False).mean().sort_values(by = 'Survived', ascending = True)"
   ]
  },
  {
   "cell_type": "code",
   "execution_count": 17,
   "metadata": {},
   "outputs": [],
   "source": [
    "#Definition of plotGraph\n",
    "\n",
    "def plotGraph(plotData,msg):\n",
    "    trace1 = go.Bar(\n",
    "    x=plotData.columns.values,\n",
    "    y=plotData.values[0],\n",
    "    name='No'\n",
    "    )\n",
    "    trace2 = go.Bar(\n",
    "        x=plotData.columns.values,\n",
    "        y=plotData.values[1],\n",
    "        name='Yes'\n",
    "    )\n",
    "    data = [trace1, trace2]\n",
    "    layout = dict(\n",
    "        title = msg,\n",
    "        xaxis= dict(title = plotData.columns.name),\n",
    "        yaxis= dict(title= 'Number of people'),\n",
    "        barmode='group',\n",
    "        autosize=False,\n",
    "        width=800,\n",
    "        height=500\n",
    "    )\n",
    "    fig = dict(data=data, layout=layout)\n",
    "    iplot(fig)"
   ]
  },
  {
   "cell_type": "code",
   "execution_count": 18,
   "metadata": {},
   "outputs": [
    {
     "data": {
      "application/vnd.plotly.v1+json": {
       "config": {
        "linkText": "Export to plot.ly",
        "plotlyServerURL": "https://plot.ly",
        "showLink": false
       },
       "data": [
        {
         "name": "No",
         "type": "bar",
         "uid": "6b6f85e9-cae6-49da-a1c3-5cc923639b20",
         "x": [
          0,
          1
         ],
         "y": [
          81,
          468
         ]
        },
        {
         "name": "Yes",
         "type": "bar",
         "uid": "ea705623-c2cc-46e3-aabe-4fd49900c51d",
         "x": [
          0,
          1
         ],
         "y": [
          233,
          109
         ]
        }
       ],
       "layout": {
        "autosize": false,
        "barmode": "group",
        "height": 500,
        "title": {
         "text": "Survived based on sex"
        },
        "width": 800,
        "xaxis": {
         "title": {
          "text": "Sex"
         }
        },
        "yaxis": {
         "title": {
          "text": "Number of people"
         }
        }
       }
      },
      "text/html": [
       "<div id=\"7378d4da-09b7-4b7e-a7aa-6032133e3592\" style=\"height: 500px; width: 800px;\" class=\"plotly-graph-div\"></div><script type=\"text/javascript\">require([\"plotly\"], function(Plotly) { window.PLOTLYENV=window.PLOTLYENV || {};window.PLOTLYENV.BASE_URL=\"https://plot.ly\";Plotly.newPlot(\"7378d4da-09b7-4b7e-a7aa-6032133e3592\", [{\"name\": \"No\", \"x\": [0, 1], \"y\": [81, 468], \"type\": \"bar\", \"uid\": \"7a9ebd1e-c88d-49b4-a730-08e4113a0879\"}, {\"name\": \"Yes\", \"x\": [0, 1], \"y\": [233, 109], \"type\": \"bar\", \"uid\": \"48a72ef1-6426-40ef-9067-88b916627116\"}], {\"autosize\": false, \"barmode\": \"group\", \"height\": 500, \"title\": {\"text\": \"Survived based on sex\"}, \"width\": 800, \"xaxis\": {\"title\": {\"text\": \"Sex\"}}, \"yaxis\": {\"title\": {\"text\": \"Number of people\"}}}, {\"showLink\": false, \"linkText\": \"Export to plot.ly\", \"plotlyServerURL\": \"https://plot.ly\"})});</script>"
      ],
      "text/vnd.plotly.v1+html": [
       "<div id=\"7378d4da-09b7-4b7e-a7aa-6032133e3592\" style=\"height: 500px; width: 800px;\" class=\"plotly-graph-div\"></div><script type=\"text/javascript\">require([\"plotly\"], function(Plotly) { window.PLOTLYENV=window.PLOTLYENV || {};window.PLOTLYENV.BASE_URL=\"https://plot.ly\";Plotly.newPlot(\"7378d4da-09b7-4b7e-a7aa-6032133e3592\", [{\"name\": \"No\", \"x\": [0, 1], \"y\": [81, 468], \"type\": \"bar\", \"uid\": \"7a9ebd1e-c88d-49b4-a730-08e4113a0879\"}, {\"name\": \"Yes\", \"x\": [0, 1], \"y\": [233, 109], \"type\": \"bar\", \"uid\": \"48a72ef1-6426-40ef-9067-88b916627116\"}], {\"autosize\": false, \"barmode\": \"group\", \"height\": 500, \"title\": {\"text\": \"Survived based on sex\"}, \"width\": 800, \"xaxis\": {\"title\": {\"text\": \"Sex\"}}, \"yaxis\": {\"title\": {\"text\": \"Number of people\"}}}, {\"showLink\": false, \"linkText\": \"Export to plot.ly\", \"plotlyServerURL\": \"https://plot.ly\"})});</script>"
      ]
     },
     "metadata": {},
     "output_type": "display_data"
    }
   ],
   "source": [
    "sex = pd.crosstab([train.Survived], train.Sex)\n",
    "plotGraph(sex, 'Survived based on sex')"
   ]
  },
  {
   "cell_type": "markdown",
   "metadata": {
    "_cell_guid": "e9c66650-0619-4fd1-9cc0-abc5e6d37900",
    "_uuid": "ddc166408712a7af674a63ac1246736def06759a"
   },
   "source": [
    "One of our assumption was the female passengers are more likely to survive than male and the correlation coefficient for the female shown in the table as 0.742. Hence, our assumption is supported by the data analysis.\n",
    "Females are more likely to survive "
   ]
  },
  {
   "cell_type": "markdown",
   "metadata": {
    "_cell_guid": "3b713989-9e92-4b34-9061-d9bf11d9ec2e",
    "_uuid": "1306e26277b898531dc9265ac5e80f41423ddeee"
   },
   "source": [
    "## 2. 2. Pclass"
   ]
  },
  {
   "cell_type": "markdown",
   "metadata": {
    "_cell_guid": "10798b8e-cb0a-4354-a16b-2199aeb0e69f",
    "_uuid": "9ad0dc57a0d6be0fe2009290ca9dff2841b19a1d"
   },
   "source": [
    "- No missing data\n",
    "- Categorical variable\n",
    "- Pclass feature correlation with survival by pivoting on Pclass feature\n"
   ]
  },
  {
   "cell_type": "code",
   "execution_count": 19,
   "metadata": {
    "_cell_guid": "5756356f-1b67-4d3e-b6fd-3360163b875a",
    "_execution_state": "idle",
    "_uuid": "aebf1c69e78a512ca096f162686dcb80e79351c3"
   },
   "outputs": [
    {
     "data": {
      "text/html": [
       "<div>\n",
       "<style scoped>\n",
       "    .dataframe tbody tr th:only-of-type {\n",
       "        vertical-align: middle;\n",
       "    }\n",
       "\n",
       "    .dataframe tbody tr th {\n",
       "        vertical-align: top;\n",
       "    }\n",
       "\n",
       "    .dataframe thead th {\n",
       "        text-align: right;\n",
       "    }\n",
       "</style>\n",
       "<table border=\"1\" class=\"dataframe\">\n",
       "  <thead>\n",
       "    <tr style=\"text-align: right;\">\n",
       "      <th></th>\n",
       "      <th>Pclass</th>\n",
       "      <th>Survived</th>\n",
       "    </tr>\n",
       "  </thead>\n",
       "  <tbody>\n",
       "    <tr>\n",
       "      <th>2</th>\n",
       "      <td>3</td>\n",
       "      <td>0.242363</td>\n",
       "    </tr>\n",
       "    <tr>\n",
       "      <th>1</th>\n",
       "      <td>2</td>\n",
       "      <td>0.472826</td>\n",
       "    </tr>\n",
       "    <tr>\n",
       "      <th>0</th>\n",
       "      <td>1</td>\n",
       "      <td>0.629630</td>\n",
       "    </tr>\n",
       "  </tbody>\n",
       "</table>\n",
       "</div>"
      ],
      "text/plain": [
       "   Pclass  Survived\n",
       "2       3  0.242363\n",
       "1       2  0.472826\n",
       "0       1  0.629630"
      ]
     },
     "execution_count": 19,
     "metadata": {},
     "output_type": "execute_result"
    }
   ],
   "source": [
    "train[['Pclass', 'Survived']].groupby(['Pclass'], as_index = False).mean().sort_values(by = 'Survived', ascending = True)"
   ]
  },
  {
   "cell_type": "code",
   "execution_count": 20,
   "metadata": {},
   "outputs": [
    {
     "data": {
      "application/vnd.plotly.v1+json": {
       "config": {
        "linkText": "Export to plot.ly",
        "plotlyServerURL": "https://plot.ly",
        "showLink": false
       },
       "data": [
        {
         "name": "No",
         "type": "bar",
         "uid": "7e976ccd-25a9-4a6d-b5fa-dc22b60086c5",
         "x": [
          1,
          2,
          3
         ],
         "y": [
          80,
          97,
          372
         ]
        },
        {
         "name": "Yes",
         "type": "bar",
         "uid": "c083a7a7-71d5-41dd-a728-28306dabaa60",
         "x": [
          1,
          2,
          3
         ],
         "y": [
          136,
          87,
          119
         ]
        }
       ],
       "layout": {
        "autosize": false,
        "barmode": "group",
        "height": 500,
        "title": {
         "text": "Survived based on Pclass"
        },
        "width": 800,
        "xaxis": {
         "title": {
          "text": "Pclass"
         }
        },
        "yaxis": {
         "title": {
          "text": "Number of people"
         }
        }
       }
      },
      "text/html": [
       "<div id=\"7e0ede82-af51-4720-a39a-5a5c62d62ddb\" style=\"height: 500px; width: 800px;\" class=\"plotly-graph-div\"></div><script type=\"text/javascript\">require([\"plotly\"], function(Plotly) { window.PLOTLYENV=window.PLOTLYENV || {};window.PLOTLYENV.BASE_URL=\"https://plot.ly\";Plotly.newPlot(\"7e0ede82-af51-4720-a39a-5a5c62d62ddb\", [{\"name\": \"No\", \"x\": [1, 2, 3], \"y\": [80, 97, 372], \"type\": \"bar\", \"uid\": \"d80a3b67-a09d-47bc-93dd-8ca7b4ef2f16\"}, {\"name\": \"Yes\", \"x\": [1, 2, 3], \"y\": [136, 87, 119], \"type\": \"bar\", \"uid\": \"c2fea3c6-edfa-4f85-b982-cf45b4adb6c1\"}], {\"autosize\": false, \"barmode\": \"group\", \"height\": 500, \"title\": {\"text\": \"Survived based on Pclass\"}, \"width\": 800, \"xaxis\": {\"title\": {\"text\": \"Pclass\"}}, \"yaxis\": {\"title\": {\"text\": \"Number of people\"}}}, {\"showLink\": false, \"linkText\": \"Export to plot.ly\", \"plotlyServerURL\": \"https://plot.ly\"})});</script>"
      ],
      "text/vnd.plotly.v1+html": [
       "<div id=\"7e0ede82-af51-4720-a39a-5a5c62d62ddb\" style=\"height: 500px; width: 800px;\" class=\"plotly-graph-div\"></div><script type=\"text/javascript\">require([\"plotly\"], function(Plotly) { window.PLOTLYENV=window.PLOTLYENV || {};window.PLOTLYENV.BASE_URL=\"https://plot.ly\";Plotly.newPlot(\"7e0ede82-af51-4720-a39a-5a5c62d62ddb\", [{\"name\": \"No\", \"x\": [1, 2, 3], \"y\": [80, 97, 372], \"type\": \"bar\", \"uid\": \"d80a3b67-a09d-47bc-93dd-8ca7b4ef2f16\"}, {\"name\": \"Yes\", \"x\": [1, 2, 3], \"y\": [136, 87, 119], \"type\": \"bar\", \"uid\": \"c2fea3c6-edfa-4f85-b982-cf45b4adb6c1\"}], {\"autosize\": false, \"barmode\": \"group\", \"height\": 500, \"title\": {\"text\": \"Survived based on Pclass\"}, \"width\": 800, \"xaxis\": {\"title\": {\"text\": \"Pclass\"}}, \"yaxis\": {\"title\": {\"text\": \"Number of people\"}}}, {\"showLink\": false, \"linkText\": \"Export to plot.ly\", \"plotlyServerURL\": \"https://plot.ly\"})});</script>"
      ]
     },
     "metadata": {},
     "output_type": "display_data"
    }
   ],
   "source": [
    "pclass = pd.crosstab([train.Survived], train.Pclass)\n",
    "plotGraph(pclass,'Survived based on Pclass')"
   ]
  },
  {
   "cell_type": "markdown",
   "metadata": {
    "_cell_guid": "7eb46fd5-df2c-40ba-a2a6-54b52cc43e36",
    "_uuid": "ab0c4d0c29776817b5bc11d0124398a6cacea1f8"
   },
   "source": [
    "One of our assumption was the first class passengers are more likely to survive and the correlation coefficient for the first class is shown in the table as 0.63. Hence, our assumption is supported by the data analysis."
   ]
  },
  {
   "cell_type": "markdown",
   "metadata": {
    "_cell_guid": "8340b09c-d6a0-4ed0-8284-74bc451e5241",
    "_uuid": "dd998c3be2074282cab0d07bf8dc260fe7aa5adb"
   },
   "source": [
    "## 2. 3. Age"
   ]
  },
  {
   "cell_type": "code",
   "execution_count": 21,
   "metadata": {},
   "outputs": [],
   "source": [
    "#Definition of plotLine\n",
    "\n",
    "def plotLine(plotData,msg):\n",
    "    trace1 = go.Scatter(\n",
    "    x=plotData.columns.values,\n",
    "    y=plotData.values[0],\n",
    "    mode='lines',\n",
    "    name='No'\n",
    "    )\n",
    "    trace2 = go.Scatter(\n",
    "        x=plotData.columns.values,\n",
    "        y=plotData.values[1],\n",
    "        mode='lines',\n",
    "        name='Yes'\n",
    "    )\n",
    "    data = [trace1, trace2]\n",
    "    layout = dict(\n",
    "        title = msg,\n",
    "        xaxis= dict(title = plotData.columns.name),\n",
    "        yaxis= dict(title= 'Number of people'),\n",
    "        autosize=False,\n",
    "        width=800,\n",
    "        height=500\n",
    "    )\n",
    "    fig = dict(data=data, layout=layout)\n",
    "    iplot(fig)"
   ]
  },
  {
   "cell_type": "code",
   "execution_count": 22,
   "metadata": {},
   "outputs": [
    {
     "data": {
      "application/vnd.plotly.v1+json": {
       "config": {
        "linkText": "Export to plot.ly",
        "plotlyServerURL": "https://plot.ly",
        "showLink": false
       },
       "data": [
        {
         "mode": "lines",
         "name": "No",
         "type": "scatter",
         "uid": "c26750b5-c92f-41ee-a862-1ef2361e5eea",
         "x": [
          0.42,
          0.67,
          0.75,
          0.83,
          0.92,
          1,
          2,
          3,
          4,
          5,
          6,
          7,
          8,
          9,
          10,
          11,
          12,
          13,
          14,
          14.5,
          15,
          16,
          17,
          18,
          19,
          20,
          20.5,
          21,
          22,
          23,
          23.5,
          24,
          24.5,
          25,
          26,
          27,
          28,
          28.5,
          29,
          30,
          30.5,
          31,
          32,
          32.5,
          33,
          34,
          34.5,
          35,
          36,
          36.5,
          37,
          38,
          39,
          40,
          40.5,
          41,
          42,
          43,
          44,
          45,
          45.5,
          46,
          47,
          48,
          49,
          50,
          51,
          52,
          53,
          54,
          55,
          55.5,
          56,
          57,
          58,
          59,
          60,
          61,
          62,
          63,
          64,
          65,
          66,
          70,
          70.5,
          71,
          74,
          80
         ],
         "y": [
          0,
          0,
          0,
          0,
          0,
          2,
          7,
          1,
          3,
          0,
          1,
          2,
          2,
          6,
          2,
          3,
          0,
          0,
          3,
          1,
          1,
          11,
          7,
          17,
          16,
          12,
          1,
          19,
          16,
          10,
          1,
          15,
          1,
          17,
          12,
          7,
          18,
          2,
          12,
          15,
          2,
          9,
          9,
          1,
          9,
          9,
          1,
          7,
          11,
          1,
          5,
          6,
          9,
          7,
          2,
          4,
          7,
          4,
          6,
          7,
          2,
          3,
          8,
          3,
          2,
          5,
          5,
          3,
          0,
          5,
          1,
          1,
          2,
          2,
          2,
          2,
          2,
          3,
          2,
          0,
          2,
          3,
          1,
          2,
          1,
          2,
          1,
          0
         ]
        },
        {
         "mode": "lines",
         "name": "Yes",
         "type": "scatter",
         "uid": "9b6cff92-aa3f-4325-a6cb-497b0935336e",
         "x": [
          0.42,
          0.67,
          0.75,
          0.83,
          0.92,
          1,
          2,
          3,
          4,
          5,
          6,
          7,
          8,
          9,
          10,
          11,
          12,
          13,
          14,
          14.5,
          15,
          16,
          17,
          18,
          19,
          20,
          20.5,
          21,
          22,
          23,
          23.5,
          24,
          24.5,
          25,
          26,
          27,
          28,
          28.5,
          29,
          30,
          30.5,
          31,
          32,
          32.5,
          33,
          34,
          34.5,
          35,
          36,
          36.5,
          37,
          38,
          39,
          40,
          40.5,
          41,
          42,
          43,
          44,
          45,
          45.5,
          46,
          47,
          48,
          49,
          50,
          51,
          52,
          53,
          54,
          55,
          55.5,
          56,
          57,
          58,
          59,
          60,
          61,
          62,
          63,
          64,
          65,
          66,
          70,
          70.5,
          71,
          74,
          80
         ],
         "y": [
          1,
          1,
          2,
          2,
          1,
          5,
          3,
          5,
          7,
          4,
          2,
          1,
          2,
          2,
          0,
          1,
          1,
          2,
          3,
          0,
          4,
          6,
          6,
          9,
          9,
          3,
          0,
          5,
          11,
          5,
          0,
          15,
          0,
          6,
          6,
          11,
          7,
          0,
          8,
          10,
          0,
          8,
          9,
          1,
          6,
          6,
          0,
          11,
          11,
          0,
          1,
          5,
          5,
          6,
          0,
          2,
          6,
          1,
          3,
          5,
          0,
          0,
          1,
          6,
          4,
          5,
          2,
          3,
          1,
          3,
          1,
          0,
          2,
          0,
          3,
          0,
          2,
          0,
          2,
          2,
          0,
          0,
          0,
          0,
          0,
          0,
          0,
          1
         ]
        }
       ],
       "layout": {
        "autosize": false,
        "height": 500,
        "title": {
         "text": "Survival based on Age"
        },
        "width": 800,
        "xaxis": {
         "title": {
          "text": "Age"
         }
        },
        "yaxis": {
         "title": {
          "text": "Number of people"
         }
        }
       }
      },
      "text/html": [
       "<div id=\"474fc175-3289-4a42-b69f-2941547c2e87\" style=\"height: 500px; width: 800px;\" class=\"plotly-graph-div\"></div><script type=\"text/javascript\">require([\"plotly\"], function(Plotly) { window.PLOTLYENV=window.PLOTLYENV || {};window.PLOTLYENV.BASE_URL=\"https://plot.ly\";Plotly.newPlot(\"474fc175-3289-4a42-b69f-2941547c2e87\", [{\"mode\": \"lines\", \"name\": \"No\", \"x\": [0.42, 0.67, 0.75, 0.83, 0.92, 1.0, 2.0, 3.0, 4.0, 5.0, 6.0, 7.0, 8.0, 9.0, 10.0, 11.0, 12.0, 13.0, 14.0, 14.5, 15.0, 16.0, 17.0, 18.0, 19.0, 20.0, 20.5, 21.0, 22.0, 23.0, 23.5, 24.0, 24.5, 25.0, 26.0, 27.0, 28.0, 28.5, 29.0, 30.0, 30.5, 31.0, 32.0, 32.5, 33.0, 34.0, 34.5, 35.0, 36.0, 36.5, 37.0, 38.0, 39.0, 40.0, 40.5, 41.0, 42.0, 43.0, 44.0, 45.0, 45.5, 46.0, 47.0, 48.0, 49.0, 50.0, 51.0, 52.0, 53.0, 54.0, 55.0, 55.5, 56.0, 57.0, 58.0, 59.0, 60.0, 61.0, 62.0, 63.0, 64.0, 65.0, 66.0, 70.0, 70.5, 71.0, 74.0, 80.0], \"y\": [0, 0, 0, 0, 0, 2, 7, 1, 3, 0, 1, 2, 2, 6, 2, 3, 0, 0, 3, 1, 1, 11, 7, 17, 16, 12, 1, 19, 16, 10, 1, 15, 1, 17, 12, 7, 18, 2, 12, 15, 2, 9, 9, 1, 9, 9, 1, 7, 11, 1, 5, 6, 9, 7, 2, 4, 7, 4, 6, 7, 2, 3, 8, 3, 2, 5, 5, 3, 0, 5, 1, 1, 2, 2, 2, 2, 2, 3, 2, 0, 2, 3, 1, 2, 1, 2, 1, 0], \"type\": \"scatter\", \"uid\": \"da350288-5d0c-402c-885d-19bb7e633b80\"}, {\"mode\": \"lines\", \"name\": \"Yes\", \"x\": [0.42, 0.67, 0.75, 0.83, 0.92, 1.0, 2.0, 3.0, 4.0, 5.0, 6.0, 7.0, 8.0, 9.0, 10.0, 11.0, 12.0, 13.0, 14.0, 14.5, 15.0, 16.0, 17.0, 18.0, 19.0, 20.0, 20.5, 21.0, 22.0, 23.0, 23.5, 24.0, 24.5, 25.0, 26.0, 27.0, 28.0, 28.5, 29.0, 30.0, 30.5, 31.0, 32.0, 32.5, 33.0, 34.0, 34.5, 35.0, 36.0, 36.5, 37.0, 38.0, 39.0, 40.0, 40.5, 41.0, 42.0, 43.0, 44.0, 45.0, 45.5, 46.0, 47.0, 48.0, 49.0, 50.0, 51.0, 52.0, 53.0, 54.0, 55.0, 55.5, 56.0, 57.0, 58.0, 59.0, 60.0, 61.0, 62.0, 63.0, 64.0, 65.0, 66.0, 70.0, 70.5, 71.0, 74.0, 80.0], \"y\": [1, 1, 2, 2, 1, 5, 3, 5, 7, 4, 2, 1, 2, 2, 0, 1, 1, 2, 3, 0, 4, 6, 6, 9, 9, 3, 0, 5, 11, 5, 0, 15, 0, 6, 6, 11, 7, 0, 8, 10, 0, 8, 9, 1, 6, 6, 0, 11, 11, 0, 1, 5, 5, 6, 0, 2, 6, 1, 3, 5, 0, 0, 1, 6, 4, 5, 2, 3, 1, 3, 1, 0, 2, 0, 3, 0, 2, 0, 2, 2, 0, 0, 0, 0, 0, 0, 0, 1], \"type\": \"scatter\", \"uid\": \"38e439cc-f08e-47c7-be1a-1b6ad1f6c5ac\"}], {\"autosize\": false, \"height\": 500, \"title\": {\"text\": \"Survival based on Age\"}, \"width\": 800, \"xaxis\": {\"title\": {\"text\": \"Age\"}}, \"yaxis\": {\"title\": {\"text\": \"Number of people\"}}}, {\"showLink\": false, \"linkText\": \"Export to plot.ly\", \"plotlyServerURL\": \"https://plot.ly\"})});</script>"
      ],
      "text/vnd.plotly.v1+html": [
       "<div id=\"474fc175-3289-4a42-b69f-2941547c2e87\" style=\"height: 500px; width: 800px;\" class=\"plotly-graph-div\"></div><script type=\"text/javascript\">require([\"plotly\"], function(Plotly) { window.PLOTLYENV=window.PLOTLYENV || {};window.PLOTLYENV.BASE_URL=\"https://plot.ly\";Plotly.newPlot(\"474fc175-3289-4a42-b69f-2941547c2e87\", [{\"mode\": \"lines\", \"name\": \"No\", \"x\": [0.42, 0.67, 0.75, 0.83, 0.92, 1.0, 2.0, 3.0, 4.0, 5.0, 6.0, 7.0, 8.0, 9.0, 10.0, 11.0, 12.0, 13.0, 14.0, 14.5, 15.0, 16.0, 17.0, 18.0, 19.0, 20.0, 20.5, 21.0, 22.0, 23.0, 23.5, 24.0, 24.5, 25.0, 26.0, 27.0, 28.0, 28.5, 29.0, 30.0, 30.5, 31.0, 32.0, 32.5, 33.0, 34.0, 34.5, 35.0, 36.0, 36.5, 37.0, 38.0, 39.0, 40.0, 40.5, 41.0, 42.0, 43.0, 44.0, 45.0, 45.5, 46.0, 47.0, 48.0, 49.0, 50.0, 51.0, 52.0, 53.0, 54.0, 55.0, 55.5, 56.0, 57.0, 58.0, 59.0, 60.0, 61.0, 62.0, 63.0, 64.0, 65.0, 66.0, 70.0, 70.5, 71.0, 74.0, 80.0], \"y\": [0, 0, 0, 0, 0, 2, 7, 1, 3, 0, 1, 2, 2, 6, 2, 3, 0, 0, 3, 1, 1, 11, 7, 17, 16, 12, 1, 19, 16, 10, 1, 15, 1, 17, 12, 7, 18, 2, 12, 15, 2, 9, 9, 1, 9, 9, 1, 7, 11, 1, 5, 6, 9, 7, 2, 4, 7, 4, 6, 7, 2, 3, 8, 3, 2, 5, 5, 3, 0, 5, 1, 1, 2, 2, 2, 2, 2, 3, 2, 0, 2, 3, 1, 2, 1, 2, 1, 0], \"type\": \"scatter\", \"uid\": \"da350288-5d0c-402c-885d-19bb7e633b80\"}, {\"mode\": \"lines\", \"name\": \"Yes\", \"x\": [0.42, 0.67, 0.75, 0.83, 0.92, 1.0, 2.0, 3.0, 4.0, 5.0, 6.0, 7.0, 8.0, 9.0, 10.0, 11.0, 12.0, 13.0, 14.0, 14.5, 15.0, 16.0, 17.0, 18.0, 19.0, 20.0, 20.5, 21.0, 22.0, 23.0, 23.5, 24.0, 24.5, 25.0, 26.0, 27.0, 28.0, 28.5, 29.0, 30.0, 30.5, 31.0, 32.0, 32.5, 33.0, 34.0, 34.5, 35.0, 36.0, 36.5, 37.0, 38.0, 39.0, 40.0, 40.5, 41.0, 42.0, 43.0, 44.0, 45.0, 45.5, 46.0, 47.0, 48.0, 49.0, 50.0, 51.0, 52.0, 53.0, 54.0, 55.0, 55.5, 56.0, 57.0, 58.0, 59.0, 60.0, 61.0, 62.0, 63.0, 64.0, 65.0, 66.0, 70.0, 70.5, 71.0, 74.0, 80.0], \"y\": [1, 1, 2, 2, 1, 5, 3, 5, 7, 4, 2, 1, 2, 2, 0, 1, 1, 2, 3, 0, 4, 6, 6, 9, 9, 3, 0, 5, 11, 5, 0, 15, 0, 6, 6, 11, 7, 0, 8, 10, 0, 8, 9, 1, 6, 6, 0, 11, 11, 0, 1, 5, 5, 6, 0, 2, 6, 1, 3, 5, 0, 0, 1, 6, 4, 5, 2, 3, 1, 3, 1, 0, 2, 0, 3, 0, 2, 0, 2, 2, 0, 0, 0, 0, 0, 0, 0, 1], \"type\": \"scatter\", \"uid\": \"38e439cc-f08e-47c7-be1a-1b6ad1f6c5ac\"}], {\"autosize\": false, \"height\": 500, \"title\": {\"text\": \"Survival based on Age\"}, \"width\": 800, \"xaxis\": {\"title\": {\"text\": \"Age\"}}, \"yaxis\": {\"title\": {\"text\": \"Number of people\"}}}, {\"showLink\": false, \"linkText\": \"Export to plot.ly\", \"plotlyServerURL\": \"https://plot.ly\"})});</script>"
      ]
     },
     "metadata": {},
     "output_type": "display_data"
    }
   ],
   "source": [
    "Age = pd.crosstab([train.Survived],train.Age)\n",
    "plotLine(Age,'Survival based on Age')"
   ]
  },
  {
   "cell_type": "markdown",
   "metadata": {},
   "source": [
    "### Filling the missing value"
   ]
  },
  {
   "cell_type": "markdown",
   "metadata": {
    "_cell_guid": "6c38a72a-8f82-4d16-8524-1fe050af7bc4",
    "_uuid": "f0c352d3696629608ede29ec48159d8a868eafe8"
   },
   "source": [
    "From the .describe() and .info() we can see that there are missing data. If we look the \"Age\" column there are 891-714 = 177 missing age data.\n",
    "\n",
    "- One way to replace these missing data is to fill them using the average value **Age_mean = Age.mean()**\n",
    "- second approach is sampling from a normal distribution using mean and standard deviation of the available data in the training and test data respectively **Age.std(), Age_add = rnd.uniform(age_mean - age_std, age_mean + age_std)**\n",
    "- third method that we use here is to use the median based on Sex and Pclass (From Kaggle computation project)"
   ]
  },
  {
   "cell_type": "code",
   "execution_count": 23,
   "metadata": {
    "_cell_guid": "e702d92a-dd9f-42ef-ab07-ef3a6a0a0131",
    "_execution_state": "idle",
    "_uuid": "0d02bdaa0d87bbd1ff60ade0f02ad03a9910cfb3"
   },
   "outputs": [
    {
     "name": "stdout",
     "output_type": "stream",
     "text": [
      "[[0. 0. 0.]\n",
      " [0. 0. 0.]]\n"
     ]
    }
   ],
   "source": [
    "age_fill = np.zeros((2,3)) # 2 for sex and 3 for Pclass\n",
    "print(age_fill)\n"
   ]
  },
  {
   "cell_type": "code",
   "execution_count": 24,
   "metadata": {
    "_cell_guid": "eab2c357-386e-4afa-a0a6-728500be8917",
    "_execution_state": "idle",
    "_uuid": "819df40bb1b036fc13ca28a0ab059402c1b8a2e9"
   },
   "outputs": [
    {
     "data": {
      "text/html": [
       "<div>\n",
       "<style scoped>\n",
       "    .dataframe tbody tr th:only-of-type {\n",
       "        vertical-align: middle;\n",
       "    }\n",
       "\n",
       "    .dataframe tbody tr th {\n",
       "        vertical-align: top;\n",
       "    }\n",
       "\n",
       "    .dataframe thead th {\n",
       "        text-align: right;\n",
       "    }\n",
       "</style>\n",
       "<table border=\"1\" class=\"dataframe\">\n",
       "  <thead>\n",
       "    <tr style=\"text-align: right;\">\n",
       "      <th></th>\n",
       "      <th>Survived</th>\n",
       "      <th>Pclass</th>\n",
       "      <th>Name</th>\n",
       "      <th>Sex</th>\n",
       "      <th>Age</th>\n",
       "      <th>SibSp</th>\n",
       "      <th>Parch</th>\n",
       "      <th>Fare</th>\n",
       "      <th>Embarked</th>\n",
       "    </tr>\n",
       "  </thead>\n",
       "  <tbody>\n",
       "    <tr>\n",
       "      <th>0</th>\n",
       "      <td>0</td>\n",
       "      <td>3</td>\n",
       "      <td>Braund, Mr. Owen Harris</td>\n",
       "      <td>1</td>\n",
       "      <td>22</td>\n",
       "      <td>1</td>\n",
       "      <td>0</td>\n",
       "      <td>7.2500</td>\n",
       "      <td>S</td>\n",
       "    </tr>\n",
       "    <tr>\n",
       "      <th>1</th>\n",
       "      <td>1</td>\n",
       "      <td>1</td>\n",
       "      <td>Cumings, Mrs. John Bradley (Florence Briggs Th...</td>\n",
       "      <td>0</td>\n",
       "      <td>38</td>\n",
       "      <td>1</td>\n",
       "      <td>0</td>\n",
       "      <td>71.2833</td>\n",
       "      <td>C</td>\n",
       "    </tr>\n",
       "    <tr>\n",
       "      <th>2</th>\n",
       "      <td>1</td>\n",
       "      <td>3</td>\n",
       "      <td>Heikkinen, Miss. Laina</td>\n",
       "      <td>0</td>\n",
       "      <td>26</td>\n",
       "      <td>0</td>\n",
       "      <td>0</td>\n",
       "      <td>7.9250</td>\n",
       "      <td>S</td>\n",
       "    </tr>\n",
       "    <tr>\n",
       "      <th>3</th>\n",
       "      <td>1</td>\n",
       "      <td>1</td>\n",
       "      <td>Futrelle, Mrs. Jacques Heath (Lily May Peel)</td>\n",
       "      <td>0</td>\n",
       "      <td>35</td>\n",
       "      <td>1</td>\n",
       "      <td>0</td>\n",
       "      <td>53.1000</td>\n",
       "      <td>S</td>\n",
       "    </tr>\n",
       "    <tr>\n",
       "      <th>4</th>\n",
       "      <td>0</td>\n",
       "      <td>3</td>\n",
       "      <td>Allen, Mr. William Henry</td>\n",
       "      <td>1</td>\n",
       "      <td>35</td>\n",
       "      <td>0</td>\n",
       "      <td>0</td>\n",
       "      <td>8.0500</td>\n",
       "      <td>S</td>\n",
       "    </tr>\n",
       "  </tbody>\n",
       "</table>\n",
       "</div>"
      ],
      "text/plain": [
       "   Survived  Pclass                                               Name  Sex  \\\n",
       "0         0       3                            Braund, Mr. Owen Harris    1   \n",
       "1         1       1  Cumings, Mrs. John Bradley (Florence Briggs Th...    0   \n",
       "2         1       3                             Heikkinen, Miss. Laina    0   \n",
       "3         1       1       Futrelle, Mrs. Jacques Heath (Lily May Peel)    0   \n",
       "4         0       3                           Allen, Mr. William Henry    1   \n",
       "\n",
       "   Age  SibSp  Parch     Fare Embarked  \n",
       "0   22      1      0   7.2500        S  \n",
       "1   38      1      0  71.2833        C  \n",
       "2   26      0      0   7.9250        S  \n",
       "3   35      1      0  53.1000        S  \n",
       "4   35      0      0   8.0500        S  "
      ]
     },
     "execution_count": 24,
     "metadata": {},
     "output_type": "execute_result"
    }
   ],
   "source": [
    "age_fill = np.zeros((2,3)) \n",
    "for dataset in train_test_data:\n",
    "    for s in range(0, 2):\n",
    "        for p in range(0, 3):\n",
    "            age_fill_df = dataset[(dataset['Sex'] == s) &\\\n",
    "                               (dataset['Pclass'] == p + 1)]['Age'].dropna()\n",
    "            age_to_fill = age_fill_df.median()\n",
    "\n",
    "            # Convert random age float to nearest .5 age\n",
    "            age_fill[s,p] = int( age_to_fill/0.5 + 0.5 ) * 0.5\n",
    "            \n",
    "    for s in range(0, 2):\n",
    "        for p in range(0, 3):\n",
    "            dataset.loc[(dataset.Age.isnull()) & (dataset.Sex == s) & (dataset.Pclass == p + 1),\\\n",
    "                    'Age'] = age_fill[s,p]\n",
    "\n",
    "    dataset['Age'] = dataset['Age'].astype(int)\n",
    "\n",
    "train.head()"
   ]
  },
  {
   "cell_type": "code",
   "execution_count": 25,
   "metadata": {
    "_cell_guid": "c7fbce11-551c-4010-a12c-321214c1b864",
    "_execution_state": "idle",
    "_uuid": "4cbbd5b1fe37a7af2ca186e1310a2c699094fefb"
   },
   "outputs": [
    {
     "data": {
      "text/html": [
       "<div>\n",
       "<style scoped>\n",
       "    .dataframe tbody tr th:only-of-type {\n",
       "        vertical-align: middle;\n",
       "    }\n",
       "\n",
       "    .dataframe tbody tr th {\n",
       "        vertical-align: top;\n",
       "    }\n",
       "\n",
       "    .dataframe thead th {\n",
       "        text-align: right;\n",
       "    }\n",
       "</style>\n",
       "<table border=\"1\" class=\"dataframe\">\n",
       "  <thead>\n",
       "    <tr style=\"text-align: right;\">\n",
       "      <th></th>\n",
       "      <th>Pclass</th>\n",
       "      <th>Name</th>\n",
       "      <th>Sex</th>\n",
       "      <th>Age</th>\n",
       "      <th>SibSp</th>\n",
       "      <th>Parch</th>\n",
       "      <th>Fare</th>\n",
       "      <th>Embarked</th>\n",
       "    </tr>\n",
       "  </thead>\n",
       "  <tbody>\n",
       "    <tr>\n",
       "      <th>0</th>\n",
       "      <td>3</td>\n",
       "      <td>Kelly, Mr. James</td>\n",
       "      <td>1</td>\n",
       "      <td>34</td>\n",
       "      <td>0</td>\n",
       "      <td>0</td>\n",
       "      <td>7.8292</td>\n",
       "      <td>Q</td>\n",
       "    </tr>\n",
       "    <tr>\n",
       "      <th>1</th>\n",
       "      <td>3</td>\n",
       "      <td>Wilkes, Mrs. James (Ellen Needs)</td>\n",
       "      <td>0</td>\n",
       "      <td>47</td>\n",
       "      <td>1</td>\n",
       "      <td>0</td>\n",
       "      <td>7.0000</td>\n",
       "      <td>S</td>\n",
       "    </tr>\n",
       "    <tr>\n",
       "      <th>2</th>\n",
       "      <td>2</td>\n",
       "      <td>Myles, Mr. Thomas Francis</td>\n",
       "      <td>1</td>\n",
       "      <td>62</td>\n",
       "      <td>0</td>\n",
       "      <td>0</td>\n",
       "      <td>9.6875</td>\n",
       "      <td>Q</td>\n",
       "    </tr>\n",
       "    <tr>\n",
       "      <th>3</th>\n",
       "      <td>3</td>\n",
       "      <td>Wirz, Mr. Albert</td>\n",
       "      <td>1</td>\n",
       "      <td>27</td>\n",
       "      <td>0</td>\n",
       "      <td>0</td>\n",
       "      <td>8.6625</td>\n",
       "      <td>S</td>\n",
       "    </tr>\n",
       "    <tr>\n",
       "      <th>4</th>\n",
       "      <td>3</td>\n",
       "      <td>Hirvonen, Mrs. Alexander (Helga E Lindqvist)</td>\n",
       "      <td>0</td>\n",
       "      <td>22</td>\n",
       "      <td>1</td>\n",
       "      <td>1</td>\n",
       "      <td>12.2875</td>\n",
       "      <td>S</td>\n",
       "    </tr>\n",
       "  </tbody>\n",
       "</table>\n",
       "</div>"
      ],
      "text/plain": [
       "   Pclass                                          Name  Sex  Age  SibSp  \\\n",
       "0       3                              Kelly, Mr. James    1   34      0   \n",
       "1       3              Wilkes, Mrs. James (Ellen Needs)    0   47      1   \n",
       "2       2                     Myles, Mr. Thomas Francis    1   62      0   \n",
       "3       3                              Wirz, Mr. Albert    1   27      0   \n",
       "4       3  Hirvonen, Mrs. Alexander (Helga E Lindqvist)    0   22      1   \n",
       "\n",
       "   Parch     Fare Embarked  \n",
       "0      0   7.8292        Q  \n",
       "1      0   7.0000        S  \n",
       "2      0   9.6875        Q  \n",
       "3      0   8.6625        S  \n",
       "4      1  12.2875        S  "
      ]
     },
     "execution_count": 25,
     "metadata": {},
     "output_type": "execute_result"
    }
   ],
   "source": [
    "test.head()"
   ]
  },
  {
   "cell_type": "markdown",
   "metadata": {
    "_cell_guid": "3f984b86-8ea1-4593-8468-328b67cf6e5c",
    "_uuid": "5524acd1cc4dce8070c063fa2c5df11d096becbb"
   },
   "source": [
    "Divide age into groups of bins:  min is 0 and max 80 so let us divide it into 8 and determine the correlation with Survival. I use 10 years of age gap"
   ]
  },
  {
   "cell_type": "code",
   "execution_count": 26,
   "metadata": {
    "_cell_guid": "cb23b234-dd5a-4526-be7e-37f272b0abdf",
    "_execution_state": "idle",
    "_uuid": "47db51aa90ea13955c721ba7fc88dac6d24f02ad"
   },
   "outputs": [
    {
     "data": {
      "text/plain": [
       "(0, 80)"
      ]
     },
     "execution_count": 26,
     "metadata": {},
     "output_type": "execute_result"
    }
   ],
   "source": [
    "min(train['Age']), max(train['Age'])"
   ]
  },
  {
   "cell_type": "code",
   "execution_count": 27,
   "metadata": {
    "_cell_guid": "b3bb5809-1fa6-41a8-97d1-c4a992d4f987",
    "_execution_state": "idle",
    "_uuid": "1823b1ccec8e6ca561f0dedb3b23b965a089e5f8"
   },
   "outputs": [],
   "source": [
    "train['AgeBins'] = pd.cut(train['Age'], 8)"
   ]
  },
  {
   "cell_type": "markdown",
   "metadata": {
    "_cell_guid": "66157545-9565-421c-b6c4-a82b6fc16ede",
    "_uuid": "d780eeec243a5b6a10fe29dfaa187b7da34b39be"
   },
   "source": [
    "- Age feature correlation with survival by pivoting on Age feature"
   ]
  },
  {
   "cell_type": "code",
   "execution_count": 28,
   "metadata": {
    "_cell_guid": "445f9657-8886-4045-ae91-8d9b169838ea",
    "_execution_state": "idle",
    "_uuid": "663ee2a7f8330472f6bc692fe7045ab0c6cb46a6"
   },
   "outputs": [
    {
     "data": {
      "text/html": [
       "<div>\n",
       "<style scoped>\n",
       "    .dataframe tbody tr th:only-of-type {\n",
       "        vertical-align: middle;\n",
       "    }\n",
       "\n",
       "    .dataframe tbody tr th {\n",
       "        vertical-align: top;\n",
       "    }\n",
       "\n",
       "    .dataframe thead th {\n",
       "        text-align: right;\n",
       "    }\n",
       "</style>\n",
       "<table border=\"1\" class=\"dataframe\">\n",
       "  <thead>\n",
       "    <tr style=\"text-align: right;\">\n",
       "      <th></th>\n",
       "      <th>AgeBins</th>\n",
       "      <th>Survived</th>\n",
       "    </tr>\n",
       "  </thead>\n",
       "  <tbody>\n",
       "    <tr>\n",
       "      <th>6</th>\n",
       "      <td>(60.0, 70.0]</td>\n",
       "      <td>0.222222</td>\n",
       "    </tr>\n",
       "    <tr>\n",
       "      <th>7</th>\n",
       "      <td>(70.0, 80.0]</td>\n",
       "      <td>0.250000</td>\n",
       "    </tr>\n",
       "    <tr>\n",
       "      <th>2</th>\n",
       "      <td>(20.0, 30.0]</td>\n",
       "      <td>0.322751</td>\n",
       "    </tr>\n",
       "    <tr>\n",
       "      <th>1</th>\n",
       "      <td>(10.0, 20.0]</td>\n",
       "      <td>0.379310</td>\n",
       "    </tr>\n",
       "    <tr>\n",
       "      <th>4</th>\n",
       "      <td>(40.0, 50.0]</td>\n",
       "      <td>0.392857</td>\n",
       "    </tr>\n",
       "    <tr>\n",
       "      <th>5</th>\n",
       "      <td>(50.0, 60.0]</td>\n",
       "      <td>0.404762</td>\n",
       "    </tr>\n",
       "    <tr>\n",
       "      <th>3</th>\n",
       "      <td>(30.0, 40.0]</td>\n",
       "      <td>0.448649</td>\n",
       "    </tr>\n",
       "    <tr>\n",
       "      <th>0</th>\n",
       "      <td>(-0.08, 10.0]</td>\n",
       "      <td>0.593750</td>\n",
       "    </tr>\n",
       "  </tbody>\n",
       "</table>\n",
       "</div>"
      ],
      "text/plain": [
       "         AgeBins  Survived\n",
       "6   (60.0, 70.0]  0.222222\n",
       "7   (70.0, 80.0]  0.250000\n",
       "2   (20.0, 30.0]  0.322751\n",
       "1   (10.0, 20.0]  0.379310\n",
       "4   (40.0, 50.0]  0.392857\n",
       "5   (50.0, 60.0]  0.404762\n",
       "3   (30.0, 40.0]  0.448649\n",
       "0  (-0.08, 10.0]  0.593750"
      ]
     },
     "execution_count": 28,
     "metadata": {},
     "output_type": "execute_result"
    }
   ],
   "source": [
    "train[['AgeBins', 'Survived']].groupby(['AgeBins'], \n",
    "                                       as_index = False).mean().sort_values(by = 'Survived', ascending = True)"
   ]
  },
  {
   "cell_type": "markdown",
   "metadata": {
    "_cell_guid": "7a7e8abd-6562-43a8-b7af-fe36afbe4d0e",
    "_uuid": "e29624e38c010d86c3b063be06ac5c1045c6738b"
   },
   "source": [
    "One of our assumption was children are more likely to survive and the correlation coefficient for under age 10 is 0.594. Hence, the assumption is validated by the data analysis. "
   ]
  },
  {
   "cell_type": "markdown",
   "metadata": {
    "_cell_guid": "ddad9150-739e-4dff-afbe-981a4f88bd27",
    "_uuid": "37026cf2682a27048abf16e15aa7dc8505464adb"
   },
   "source": [
    "###### Transforming the Age categorical feature into ordinal numerical values based in the AgeBins"
   ]
  },
  {
   "cell_type": "code",
   "execution_count": 29,
   "metadata": {
    "_cell_guid": "5e6a2ca8-31a7-48a0-8e1b-99bb635d36cd",
    "_execution_state": "idle",
    "_uuid": "5df82565be5ac075a26e45c2dd285ce5abf124b6"
   },
   "outputs": [],
   "source": [
    "for dataset in train_test_data:    \n",
    "    dataset.loc[dataset['Age'] <= 10, 'Age'] = 0\n",
    "    dataset.loc[(dataset['Age'] > 10) & (dataset['Age'] <= 20), 'Age'] = 1\n",
    "    dataset.loc[(dataset['Age'] > 20) & (dataset['Age'] <= 30), 'Age'] = 2\n",
    "    dataset.loc[(dataset['Age'] > 30) & (dataset['Age'] <= 40), 'Age'] = 3\n",
    "    dataset.loc[(dataset['Age'] > 40) & (dataset['Age'] <= 50), 'Age'] = 4\n",
    "    dataset.loc[(dataset['Age'] > 50) & (dataset['Age'] <= 60), 'Age'] = 5\n",
    "    dataset.loc[(dataset['Age'] > 60) & (dataset['Age'] <= 70), 'Age'] = 6\n",
    "    dataset.loc[ dataset['Age'] > 70, 'Age'] = 7"
   ]
  },
  {
   "cell_type": "code",
   "execution_count": 31,
   "metadata": {
    "_cell_guid": "53c0b915-f572-4d83-9185-8d8fbcee1be1",
    "_execution_state": "idle",
    "_uuid": "4b79b80b7837831f7ddd182f183ccf664dd09918"
   },
   "outputs": [],
   "source": [
    "#fig = sns.barplot(x=\"Sex\", y=\"Survived\", hue=\"Pclass\", data=train)\n",
    "#fig.get_axes().set_xticklabels([\"Female\", \"Male\"])\n",
    "#fig.get_axes().legend([\"First Class\", \"Second Class\", \"Third Class\"], \n",
    " #                   loc='upper right');"
   ]
  },
  {
   "cell_type": "markdown",
   "metadata": {
    "_cell_guid": "aea7c358-766c-4f2f-bc4b-2e92b27a2206",
    "_uuid": "8686a2f6fd106beb41d189137cdbdfbfc5ac79b3"
   },
   "source": [
    "- From the baplot we can see that female of all class survived more than the male.  This can be seen also using the point plot below. "
   ]
  },
  {
   "cell_type": "code",
   "execution_count": 32,
   "metadata": {
    "_cell_guid": "d2c0fc64-f43c-4b5a-9314-104ddc0c66e5",
    "_execution_state": "idle",
    "_uuid": "b95d910f8e5d1651625799338bd9f9e77a1f9784"
   },
   "outputs": [
    {
     "data": {
      "image/png": "[encoded data removed]",
      "text/plain": [
       "<Figure size 432x288 with 1 Axes>"
      ]
     },
     "metadata": {},
     "output_type": "display_data"
    }
   ],
   "source": [
    "sns.countplot(x=\"AgeBins\", data = train, palette = \"GnBu_d\");"
   ]
  },
  {
   "cell_type": "code",
   "execution_count": 33,
   "metadata": {
    "_cell_guid": "bbe1202b-79b2-477f-8805-4f16407321fb",
    "_execution_state": "idle",
    "_uuid": "3049dbb9f63a0782220856bff1bd64e14a4d524a"
   },
   "outputs": [
    {
     "data": {
      "image/png": "[encoded data removed]",
      "text/plain": [
       "<Figure size 432x288 with 1 Axes>"
      ]
     },
     "metadata": {},
     "output_type": "display_data"
    }
   ],
   "source": [
    "sns.countplot( x =\"AgeBins\", hue=\"Pclass\", data = train, palette=\"PuBuGn_d\");"
   ]
  },
  {
   "cell_type": "code",
   "execution_count": 34,
   "metadata": {
    "_cell_guid": "62a47a6d-5273-4f4e-bedd-1cd1099e39e1",
    "_execution_state": "idle",
    "_uuid": "96f3f8f922373b8bac6d998f124c3c9f980c4a83"
   },
   "outputs": [
    {
     "data": {
      "text/html": [
       "<div>\n",
       "<style scoped>\n",
       "    .dataframe tbody tr th:only-of-type {\n",
       "        vertical-align: middle;\n",
       "    }\n",
       "\n",
       "    .dataframe tbody tr th {\n",
       "        vertical-align: top;\n",
       "    }\n",
       "\n",
       "    .dataframe thead th {\n",
       "        text-align: right;\n",
       "    }\n",
       "</style>\n",
       "<table border=\"1\" class=\"dataframe\">\n",
       "  <thead>\n",
       "    <tr style=\"text-align: right;\">\n",
       "      <th></th>\n",
       "      <th>Survived</th>\n",
       "      <th>Pclass</th>\n",
       "      <th>Name</th>\n",
       "      <th>Sex</th>\n",
       "      <th>Age</th>\n",
       "      <th>SibSp</th>\n",
       "      <th>Parch</th>\n",
       "      <th>Fare</th>\n",
       "      <th>Embarked</th>\n",
       "      <th>AgeBins</th>\n",
       "    </tr>\n",
       "  </thead>\n",
       "  <tbody>\n",
       "    <tr>\n",
       "      <th>0</th>\n",
       "      <td>0</td>\n",
       "      <td>3</td>\n",
       "      <td>Braund, Mr. Owen Harris</td>\n",
       "      <td>1</td>\n",
       "      <td>2</td>\n",
       "      <td>1</td>\n",
       "      <td>0</td>\n",
       "      <td>7.2500</td>\n",
       "      <td>S</td>\n",
       "      <td>(20.0, 30.0]</td>\n",
       "    </tr>\n",
       "    <tr>\n",
       "      <th>1</th>\n",
       "      <td>1</td>\n",
       "      <td>1</td>\n",
       "      <td>Cumings, Mrs. John Bradley (Florence Briggs Th...</td>\n",
       "      <td>0</td>\n",
       "      <td>3</td>\n",
       "      <td>1</td>\n",
       "      <td>0</td>\n",
       "      <td>71.2833</td>\n",
       "      <td>C</td>\n",
       "      <td>(30.0, 40.0]</td>\n",
       "    </tr>\n",
       "    <tr>\n",
       "      <th>2</th>\n",
       "      <td>1</td>\n",
       "      <td>3</td>\n",
       "      <td>Heikkinen, Miss. Laina</td>\n",
       "      <td>0</td>\n",
       "      <td>2</td>\n",
       "      <td>0</td>\n",
       "      <td>0</td>\n",
       "      <td>7.9250</td>\n",
       "      <td>S</td>\n",
       "      <td>(20.0, 30.0]</td>\n",
       "    </tr>\n",
       "    <tr>\n",
       "      <th>3</th>\n",
       "      <td>1</td>\n",
       "      <td>1</td>\n",
       "      <td>Futrelle, Mrs. Jacques Heath (Lily May Peel)</td>\n",
       "      <td>0</td>\n",
       "      <td>3</td>\n",
       "      <td>1</td>\n",
       "      <td>0</td>\n",
       "      <td>53.1000</td>\n",
       "      <td>S</td>\n",
       "      <td>(30.0, 40.0]</td>\n",
       "    </tr>\n",
       "    <tr>\n",
       "      <th>4</th>\n",
       "      <td>0</td>\n",
       "      <td>3</td>\n",
       "      <td>Allen, Mr. William Henry</td>\n",
       "      <td>1</td>\n",
       "      <td>3</td>\n",
       "      <td>0</td>\n",
       "      <td>0</td>\n",
       "      <td>8.0500</td>\n",
       "      <td>S</td>\n",
       "      <td>(30.0, 40.0]</td>\n",
       "    </tr>\n",
       "  </tbody>\n",
       "</table>\n",
       "</div>"
      ],
      "text/plain": [
       "   Survived  Pclass                                               Name  Sex  \\\n",
       "0         0       3                            Braund, Mr. Owen Harris    1   \n",
       "1         1       1  Cumings, Mrs. John Bradley (Florence Briggs Th...    0   \n",
       "2         1       3                             Heikkinen, Miss. Laina    0   \n",
       "3         1       1       Futrelle, Mrs. Jacques Heath (Lily May Peel)    0   \n",
       "4         0       3                           Allen, Mr. William Henry    1   \n",
       "\n",
       "   Age  SibSp  Parch     Fare Embarked       AgeBins  \n",
       "0    2      1      0   7.2500        S  (20.0, 30.0]  \n",
       "1    3      1      0  71.2833        C  (30.0, 40.0]  \n",
       "2    2      0      0   7.9250        S  (20.0, 30.0]  \n",
       "3    3      1      0  53.1000        S  (30.0, 40.0]  \n",
       "4    3      0      0   8.0500        S  (30.0, 40.0]  "
      ]
     },
     "execution_count": 34,
     "metadata": {},
     "output_type": "execute_result"
    }
   ],
   "source": [
    "train.head()"
   ]
  },
  {
   "cell_type": "markdown",
   "metadata": {
    "_cell_guid": "e7ea3a67-cf43-498b-800f-23006efaa4d2",
    "_uuid": "c9367f1244cf91caf53bed4c28c7143f63f4107a"
   },
   "source": [
    "Because we have transformed the age values into 8 categorical values, we don't need the AgeBins feature that we have created above. so we can drop it"
   ]
  },
  {
   "cell_type": "code",
   "execution_count": 35,
   "metadata": {
    "_cell_guid": "80b16fe3-bd50-4267-8855-fcb98760563b",
    "_execution_state": "idle",
    "_uuid": "6ea944563a902177b09fe6f27c1a04ae076f8a61"
   },
   "outputs": [
    {
     "data": {
      "text/html": [
       "<div>\n",
       "<style scoped>\n",
       "    .dataframe tbody tr th:only-of-type {\n",
       "        vertical-align: middle;\n",
       "    }\n",
       "\n",
       "    .dataframe tbody tr th {\n",
       "        vertical-align: top;\n",
       "    }\n",
       "\n",
       "    .dataframe thead th {\n",
       "        text-align: right;\n",
       "    }\n",
       "</style>\n",
       "<table border=\"1\" class=\"dataframe\">\n",
       "  <thead>\n",
       "    <tr style=\"text-align: right;\">\n",
       "      <th></th>\n",
       "      <th>Survived</th>\n",
       "      <th>Pclass</th>\n",
       "      <th>Name</th>\n",
       "      <th>Sex</th>\n",
       "      <th>Age</th>\n",
       "      <th>SibSp</th>\n",
       "      <th>Parch</th>\n",
       "      <th>Fare</th>\n",
       "      <th>Embarked</th>\n",
       "    </tr>\n",
       "  </thead>\n",
       "  <tbody>\n",
       "    <tr>\n",
       "      <th>0</th>\n",
       "      <td>0</td>\n",
       "      <td>3</td>\n",
       "      <td>Braund, Mr. Owen Harris</td>\n",
       "      <td>1</td>\n",
       "      <td>2</td>\n",
       "      <td>1</td>\n",
       "      <td>0</td>\n",
       "      <td>7.2500</td>\n",
       "      <td>S</td>\n",
       "    </tr>\n",
       "    <tr>\n",
       "      <th>1</th>\n",
       "      <td>1</td>\n",
       "      <td>1</td>\n",
       "      <td>Cumings, Mrs. John Bradley (Florence Briggs Th...</td>\n",
       "      <td>0</td>\n",
       "      <td>3</td>\n",
       "      <td>1</td>\n",
       "      <td>0</td>\n",
       "      <td>71.2833</td>\n",
       "      <td>C</td>\n",
       "    </tr>\n",
       "    <tr>\n",
       "      <th>2</th>\n",
       "      <td>1</td>\n",
       "      <td>3</td>\n",
       "      <td>Heikkinen, Miss. Laina</td>\n",
       "      <td>0</td>\n",
       "      <td>2</td>\n",
       "      <td>0</td>\n",
       "      <td>0</td>\n",
       "      <td>7.9250</td>\n",
       "      <td>S</td>\n",
       "    </tr>\n",
       "    <tr>\n",
       "      <th>3</th>\n",
       "      <td>1</td>\n",
       "      <td>1</td>\n",
       "      <td>Futrelle, Mrs. Jacques Heath (Lily May Peel)</td>\n",
       "      <td>0</td>\n",
       "      <td>3</td>\n",
       "      <td>1</td>\n",
       "      <td>0</td>\n",
       "      <td>53.1000</td>\n",
       "      <td>S</td>\n",
       "    </tr>\n",
       "    <tr>\n",
       "      <th>4</th>\n",
       "      <td>0</td>\n",
       "      <td>3</td>\n",
       "      <td>Allen, Mr. William Henry</td>\n",
       "      <td>1</td>\n",
       "      <td>3</td>\n",
       "      <td>0</td>\n",
       "      <td>0</td>\n",
       "      <td>8.0500</td>\n",
       "      <td>S</td>\n",
       "    </tr>\n",
       "  </tbody>\n",
       "</table>\n",
       "</div>"
      ],
      "text/plain": [
       "   Survived  Pclass                                               Name  Sex  \\\n",
       "0         0       3                            Braund, Mr. Owen Harris    1   \n",
       "1         1       1  Cumings, Mrs. John Bradley (Florence Briggs Th...    0   \n",
       "2         1       3                             Heikkinen, Miss. Laina    0   \n",
       "3         1       1       Futrelle, Mrs. Jacques Heath (Lily May Peel)    0   \n",
       "4         0       3                           Allen, Mr. William Henry    1   \n",
       "\n",
       "   Age  SibSp  Parch     Fare Embarked  \n",
       "0    2      1      0   7.2500        S  \n",
       "1    3      1      0  71.2833        C  \n",
       "2    2      0      0   7.9250        S  \n",
       "3    3      1      0  53.1000        S  \n",
       "4    3      0      0   8.0500        S  "
      ]
     },
     "execution_count": 35,
     "metadata": {},
     "output_type": "execute_result"
    }
   ],
   "source": [
    "train = train.drop(['AgeBins'], axis = 1)\n",
    "train_test_data = [train, test]\n",
    "train.head()"
   ]
  },
  {
   "cell_type": "markdown",
   "metadata": {
    "_cell_guid": "a790238d-c5a5-4cb7-a08c-546c74837007",
    "_uuid": "c248724d95edde424249d296406ce4afb39deae5"
   },
   "source": [
    "##  2. 4. Family Size (SibSp + Parch)"
   ]
  },
  {
   "cell_type": "markdown",
   "metadata": {
    "_cell_guid": "dc54da1c-1031-4485-9999-a49ea67104c2",
    "_uuid": "dca7438c624140eb505e041e00a4275d9542e357"
   },
   "source": [
    "- No missing data\n",
    "- Discrete variable\n",
    "- If we assume the survival is dependent on the family size and to analyze this assumption, we will combine SibSp (# of siblings / Spouses aboard ) and Parch (# of parents  / children aboard ) features together."
   ]
  },
  {
   "cell_type": "code",
   "execution_count": 36,
   "metadata": {},
   "outputs": [
    {
     "data": {
      "application/vnd.plotly.v1+json": {
       "config": {
        "linkText": "Export to plot.ly",
        "plotlyServerURL": "https://plot.ly",
        "showLink": false
       },
       "data": [
        {
         "name": "No",
         "type": "bar",
         "uid": "5b4d300c-8fda-43c8-b721-384ec61c197c",
         "x": [
          0,
          1,
          2,
          3,
          4,
          5,
          8
         ],
         "y": [
          398,
          97,
          15,
          12,
          15,
          5,
          7
         ]
        },
        {
         "name": "Yes",
         "type": "bar",
         "uid": "448ec27f-8b6c-4431-96a6-fe4d2a6e63c9",
         "x": [
          0,
          1,
          2,
          3,
          4,
          5,
          8
         ],
         "y": [
          210,
          112,
          13,
          4,
          3,
          0,
          0
         ]
        }
       ],
       "layout": {
        "autosize": false,
        "barmode": "group",
        "height": 500,
        "title": {
         "text": "Survived based on SibSp"
        },
        "width": 800,
        "xaxis": {
         "title": {
          "text": "SibSp"
         }
        },
        "yaxis": {
         "title": {
          "text": "Number of people"
         }
        }
       }
      },
      "text/html": [
       "<div id=\"a8132b92-0ec4-40b4-8d47-fcd3ab9ab3d9\" style=\"height: 500px; width: 800px;\" class=\"plotly-graph-div\"></div><script type=\"text/javascript\">require([\"plotly\"], function(Plotly) { window.PLOTLYENV=window.PLOTLYENV || {};window.PLOTLYENV.BASE_URL=\"https://plot.ly\";Plotly.newPlot(\"a8132b92-0ec4-40b4-8d47-fcd3ab9ab3d9\", [{\"name\": \"No\", \"x\": [0, 1, 2, 3, 4, 5, 8], \"y\": [398, 97, 15, 12, 15, 5, 7], \"type\": \"bar\", \"uid\": \"7c5c8665-9183-4090-bb09-5cd282b9b7ad\"}, {\"name\": \"Yes\", \"x\": [0, 1, 2, 3, 4, 5, 8], \"y\": [210, 112, 13, 4, 3, 0, 0], \"type\": \"bar\", \"uid\": \"4aabf08e-b5a4-4630-93fa-1591ad890a20\"}], {\"autosize\": false, \"barmode\": \"group\", \"height\": 500, \"title\": {\"text\": \"Survived based on SibSp\"}, \"width\": 800, \"xaxis\": {\"title\": {\"text\": \"SibSp\"}}, \"yaxis\": {\"title\": {\"text\": \"Number of people\"}}}, {\"showLink\": false, \"linkText\": \"Export to plot.ly\", \"plotlyServerURL\": \"https://plot.ly\"})});</script>"
      ],
      "text/vnd.plotly.v1+html": [
       "<div id=\"a8132b92-0ec4-40b4-8d47-fcd3ab9ab3d9\" style=\"height: 500px; width: 800px;\" class=\"plotly-graph-div\"></div><script type=\"text/javascript\">require([\"plotly\"], function(Plotly) { window.PLOTLYENV=window.PLOTLYENV || {};window.PLOTLYENV.BASE_URL=\"https://plot.ly\";Plotly.newPlot(\"a8132b92-0ec4-40b4-8d47-fcd3ab9ab3d9\", [{\"name\": \"No\", \"x\": [0, 1, 2, 3, 4, 5, 8], \"y\": [398, 97, 15, 12, 15, 5, 7], \"type\": \"bar\", \"uid\": \"7c5c8665-9183-4090-bb09-5cd282b9b7ad\"}, {\"name\": \"Yes\", \"x\": [0, 1, 2, 3, 4, 5, 8], \"y\": [210, 112, 13, 4, 3, 0, 0], \"type\": \"bar\", \"uid\": \"4aabf08e-b5a4-4630-93fa-1591ad890a20\"}], {\"autosize\": false, \"barmode\": \"group\", \"height\": 500, \"title\": {\"text\": \"Survived based on SibSp\"}, \"width\": 800, \"xaxis\": {\"title\": {\"text\": \"SibSp\"}}, \"yaxis\": {\"title\": {\"text\": \"Number of people\"}}}, {\"showLink\": false, \"linkText\": \"Export to plot.ly\", \"plotlyServerURL\": \"https://plot.ly\"})});</script>"
      ]
     },
     "metadata": {},
     "output_type": "display_data"
    }
   ],
   "source": [
    "SibSp = pd.crosstab([train.Survived], train.SibSp)\n",
    "plotGraph(SibSp, 'Survived based on SibSp')"
   ]
  },
  {
   "cell_type": "code",
   "execution_count": 37,
   "metadata": {},
   "outputs": [
    {
     "data": {
      "application/vnd.plotly.v1+json": {
       "config": {
        "linkText": "Export to plot.ly",
        "plotlyServerURL": "https://plot.ly",
        "showLink": false
       },
       "data": [
        {
         "name": "No",
         "type": "bar",
         "uid": "7a4d2e7f-7511-42bd-ada9-754ce5c3fdbe",
         "x": [
          0,
          1,
          2,
          3,
          4,
          5,
          6
         ],
         "y": [
          445,
          53,
          40,
          2,
          4,
          4,
          1
         ]
        },
        {
         "name": "Yes",
         "type": "bar",
         "uid": "2d4860e4-2aca-4df0-a047-e75982097b06",
         "x": [
          0,
          1,
          2,
          3,
          4,
          5,
          6
         ],
         "y": [
          233,
          65,
          40,
          3,
          0,
          1,
          0
         ]
        }
       ],
       "layout": {
        "autosize": false,
        "barmode": "group",
        "height": 500,
        "title": {
         "text": "Survived based on Parch"
        },
        "width": 800,
        "xaxis": {
         "title": {
          "text": "Parch"
         }
        },
        "yaxis": {
         "title": {
          "text": "Number of people"
         }
        }
       }
      },
      "text/html": [
       "<div id=\"d384e3b8-d615-4aac-aef3-9bf76a797def\" style=\"height: 500px; width: 800px;\" class=\"plotly-graph-div\"></div><script type=\"text/javascript\">require([\"plotly\"], function(Plotly) { window.PLOTLYENV=window.PLOTLYENV || {};window.PLOTLYENV.BASE_URL=\"https://plot.ly\";Plotly.newPlot(\"d384e3b8-d615-4aac-aef3-9bf76a797def\", [{\"name\": \"No\", \"x\": [0, 1, 2, 3, 4, 5, 6], \"y\": [445, 53, 40, 2, 4, 4, 1], \"type\": \"bar\", \"uid\": \"bf35135e-7974-4d22-988f-f4527cd02947\"}, {\"name\": \"Yes\", \"x\": [0, 1, 2, 3, 4, 5, 6], \"y\": [233, 65, 40, 3, 0, 1, 0], \"type\": \"bar\", \"uid\": \"cf68805d-1fa5-49b7-818a-b4f2e6a24019\"}], {\"autosize\": false, \"barmode\": \"group\", \"height\": 500, \"title\": {\"text\": \"Survived based on Parch\"}, \"width\": 800, \"xaxis\": {\"title\": {\"text\": \"Parch\"}}, \"yaxis\": {\"title\": {\"text\": \"Number of people\"}}}, {\"showLink\": false, \"linkText\": \"Export to plot.ly\", \"plotlyServerURL\": \"https://plot.ly\"})});</script>"
      ],
      "text/vnd.plotly.v1+html": [
       "<div id=\"d384e3b8-d615-4aac-aef3-9bf76a797def\" style=\"height: 500px; width: 800px;\" class=\"plotly-graph-div\"></div><script type=\"text/javascript\">require([\"plotly\"], function(Plotly) { window.PLOTLYENV=window.PLOTLYENV || {};window.PLOTLYENV.BASE_URL=\"https://plot.ly\";Plotly.newPlot(\"d384e3b8-d615-4aac-aef3-9bf76a797def\", [{\"name\": \"No\", \"x\": [0, 1, 2, 3, 4, 5, 6], \"y\": [445, 53, 40, 2, 4, 4, 1], \"type\": \"bar\", \"uid\": \"bf35135e-7974-4d22-988f-f4527cd02947\"}, {\"name\": \"Yes\", \"x\": [0, 1, 2, 3, 4, 5, 6], \"y\": [233, 65, 40, 3, 0, 1, 0], \"type\": \"bar\", \"uid\": \"cf68805d-1fa5-49b7-818a-b4f2e6a24019\"}], {\"autosize\": false, \"barmode\": \"group\", \"height\": 500, \"title\": {\"text\": \"Survived based on Parch\"}, \"width\": 800, \"xaxis\": {\"title\": {\"text\": \"Parch\"}}, \"yaxis\": {\"title\": {\"text\": \"Number of people\"}}}, {\"showLink\": false, \"linkText\": \"Export to plot.ly\", \"plotlyServerURL\": \"https://plot.ly\"})});</script>"
      ]
     },
     "metadata": {},
     "output_type": "display_data"
    }
   ],
   "source": [
    "Parch = pd.crosstab([train.Survived], train.Parch)\n",
    "plotGraph(Parch, 'Survived based on Parch')"
   ]
  },
  {
   "cell_type": "code",
   "execution_count": 38,
   "metadata": {
    "_cell_guid": "b7a8236a-ad6b-408b-b243-b18b34b1200f",
    "_execution_state": "idle",
    "_uuid": "f590362631a95a5780f85f73dfd22ea61182c567"
   },
   "outputs": [
    {
     "data": {
      "text/html": [
       "<div>\n",
       "<style scoped>\n",
       "    .dataframe tbody tr th:only-of-type {\n",
       "        vertical-align: middle;\n",
       "    }\n",
       "\n",
       "    .dataframe tbody tr th {\n",
       "        vertical-align: top;\n",
       "    }\n",
       "\n",
       "    .dataframe thead th {\n",
       "        text-align: right;\n",
       "    }\n",
       "</style>\n",
       "<table border=\"1\" class=\"dataframe\">\n",
       "  <thead>\n",
       "    <tr style=\"text-align: right;\">\n",
       "      <th></th>\n",
       "      <th>Survived</th>\n",
       "      <th>Pclass</th>\n",
       "      <th>Name</th>\n",
       "      <th>Sex</th>\n",
       "      <th>Age</th>\n",
       "      <th>SibSp</th>\n",
       "      <th>Parch</th>\n",
       "      <th>Fare</th>\n",
       "      <th>Embarked</th>\n",
       "      <th>FamilySize</th>\n",
       "    </tr>\n",
       "  </thead>\n",
       "  <tbody>\n",
       "    <tr>\n",
       "      <th>0</th>\n",
       "      <td>0</td>\n",
       "      <td>3</td>\n",
       "      <td>Braund, Mr. Owen Harris</td>\n",
       "      <td>1</td>\n",
       "      <td>2</td>\n",
       "      <td>1</td>\n",
       "      <td>0</td>\n",
       "      <td>7.2500</td>\n",
       "      <td>S</td>\n",
       "      <td>1</td>\n",
       "    </tr>\n",
       "    <tr>\n",
       "      <th>1</th>\n",
       "      <td>1</td>\n",
       "      <td>1</td>\n",
       "      <td>Cumings, Mrs. John Bradley (Florence Briggs Th...</td>\n",
       "      <td>0</td>\n",
       "      <td>3</td>\n",
       "      <td>1</td>\n",
       "      <td>0</td>\n",
       "      <td>71.2833</td>\n",
       "      <td>C</td>\n",
       "      <td>1</td>\n",
       "    </tr>\n",
       "    <tr>\n",
       "      <th>2</th>\n",
       "      <td>1</td>\n",
       "      <td>3</td>\n",
       "      <td>Heikkinen, Miss. Laina</td>\n",
       "      <td>0</td>\n",
       "      <td>2</td>\n",
       "      <td>0</td>\n",
       "      <td>0</td>\n",
       "      <td>7.9250</td>\n",
       "      <td>S</td>\n",
       "      <td>0</td>\n",
       "    </tr>\n",
       "    <tr>\n",
       "      <th>3</th>\n",
       "      <td>1</td>\n",
       "      <td>1</td>\n",
       "      <td>Futrelle, Mrs. Jacques Heath (Lily May Peel)</td>\n",
       "      <td>0</td>\n",
       "      <td>3</td>\n",
       "      <td>1</td>\n",
       "      <td>0</td>\n",
       "      <td>53.1000</td>\n",
       "      <td>S</td>\n",
       "      <td>1</td>\n",
       "    </tr>\n",
       "    <tr>\n",
       "      <th>4</th>\n",
       "      <td>0</td>\n",
       "      <td>3</td>\n",
       "      <td>Allen, Mr. William Henry</td>\n",
       "      <td>1</td>\n",
       "      <td>3</td>\n",
       "      <td>0</td>\n",
       "      <td>0</td>\n",
       "      <td>8.0500</td>\n",
       "      <td>S</td>\n",
       "      <td>0</td>\n",
       "    </tr>\n",
       "  </tbody>\n",
       "</table>\n",
       "</div>"
      ],
      "text/plain": [
       "   Survived  Pclass                                               Name  Sex  \\\n",
       "0         0       3                            Braund, Mr. Owen Harris    1   \n",
       "1         1       1  Cumings, Mrs. John Bradley (Florence Briggs Th...    0   \n",
       "2         1       3                             Heikkinen, Miss. Laina    0   \n",
       "3         1       1       Futrelle, Mrs. Jacques Heath (Lily May Peel)    0   \n",
       "4         0       3                           Allen, Mr. William Henry    1   \n",
       "\n",
       "   Age  SibSp  Parch     Fare Embarked  FamilySize  \n",
       "0    2      1      0   7.2500        S           1  \n",
       "1    3      1      0  71.2833        C           1  \n",
       "2    2      0      0   7.9250        S           0  \n",
       "3    3      1      0  53.1000        S           1  \n",
       "4    3      0      0   8.0500        S           0  "
      ]
     },
     "execution_count": 38,
     "metadata": {},
     "output_type": "execute_result"
    }
   ],
   "source": [
    "for dataset in train_test_data:\n",
    "    dataset[\"FamilySize\"] = dataset['SibSp'] + dataset['Parch']\n",
    "train, test = train_test_data[0], train_test_data[1]\n",
    "train.head()"
   ]
  },
  {
   "cell_type": "markdown",
   "metadata": {
    "_cell_guid": "221d259e-23e9-407c-abfb-d017aa06293f",
    "_uuid": "827833f75377d0faa2d79fdd7a19f3e761f0315b"
   },
   "source": [
    "- FamilySize feature correlation with survival by pivoting on FamilySize feature"
   ]
  },
  {
   "cell_type": "code",
   "execution_count": 39,
   "metadata": {
    "_cell_guid": "fff2414c-56a0-45e5-9e8a-647a64451504",
    "_execution_state": "idle",
    "_uuid": "6b57f76be518ae51d1ee5bf5e8cb431a74aeaffb"
   },
   "outputs": [
    {
     "data": {
      "text/html": [
       "<div>\n",
       "<style scoped>\n",
       "    .dataframe tbody tr th:only-of-type {\n",
       "        vertical-align: middle;\n",
       "    }\n",
       "\n",
       "    .dataframe tbody tr th {\n",
       "        vertical-align: top;\n",
       "    }\n",
       "\n",
       "    .dataframe thead th {\n",
       "        text-align: right;\n",
       "    }\n",
       "</style>\n",
       "<table border=\"1\" class=\"dataframe\">\n",
       "  <thead>\n",
       "    <tr style=\"text-align: right;\">\n",
       "      <th></th>\n",
       "      <th>FamilySize</th>\n",
       "      <th>Survived</th>\n",
       "    </tr>\n",
       "  </thead>\n",
       "  <tbody>\n",
       "    <tr>\n",
       "      <th>3</th>\n",
       "      <td>3</td>\n",
       "      <td>0.724138</td>\n",
       "    </tr>\n",
       "    <tr>\n",
       "      <th>2</th>\n",
       "      <td>2</td>\n",
       "      <td>0.578431</td>\n",
       "    </tr>\n",
       "    <tr>\n",
       "      <th>1</th>\n",
       "      <td>1</td>\n",
       "      <td>0.552795</td>\n",
       "    </tr>\n",
       "    <tr>\n",
       "      <th>6</th>\n",
       "      <td>6</td>\n",
       "      <td>0.333333</td>\n",
       "    </tr>\n",
       "    <tr>\n",
       "      <th>0</th>\n",
       "      <td>0</td>\n",
       "      <td>0.303538</td>\n",
       "    </tr>\n",
       "    <tr>\n",
       "      <th>4</th>\n",
       "      <td>4</td>\n",
       "      <td>0.200000</td>\n",
       "    </tr>\n",
       "    <tr>\n",
       "      <th>5</th>\n",
       "      <td>5</td>\n",
       "      <td>0.136364</td>\n",
       "    </tr>\n",
       "    <tr>\n",
       "      <th>7</th>\n",
       "      <td>7</td>\n",
       "      <td>0.000000</td>\n",
       "    </tr>\n",
       "    <tr>\n",
       "      <th>8</th>\n",
       "      <td>10</td>\n",
       "      <td>0.000000</td>\n",
       "    </tr>\n",
       "  </tbody>\n",
       "</table>\n",
       "</div>"
      ],
      "text/plain": [
       "   FamilySize  Survived\n",
       "3           3  0.724138\n",
       "2           2  0.578431\n",
       "1           1  0.552795\n",
       "6           6  0.333333\n",
       "0           0  0.303538\n",
       "4           4  0.200000\n",
       "5           5  0.136364\n",
       "7           7  0.000000\n",
       "8          10  0.000000"
      ]
     },
     "execution_count": 39,
     "metadata": {},
     "output_type": "execute_result"
    }
   ],
   "source": [
    "train[['FamilySize', 'Survived']].groupby(['FamilySize'], \n",
    "                                        as_index = False).mean().sort_values(by = 'Survived', ascending = False)"
   ]
  },
  {
   "cell_type": "code",
   "execution_count": 40,
   "metadata": {
    "_cell_guid": "f0ed77bf-c19a-47f0-9e6f-d3a6c4840b53",
    "_execution_state": "idle",
    "_uuid": "dcba5862de4ca18dc372fc2aee46b16b2d14ee14"
   },
   "outputs": [
    {
     "data": {
      "image/png": "[encoded data removed]",
      "text/plain": [
       "<Figure size 432x288 with 1 Axes>"
      ]
     },
     "metadata": {},
     "output_type": "display_data"
    }
   ],
   "source": [
    "sns.countplot(x=\"FamilySize\", data = train, palette = \"GnBu_d\");"
   ]
  },
  {
   "cell_type": "markdown",
   "metadata": {
    "_cell_guid": "951614d4-711b-49c0-b772-1c71df4d452a",
    "_uuid": "3db600f6f3255c78b6f8d05a117caadc6ff48f57"
   },
   "source": [
    "-We are considering the FamilySize feature. So we don't need the SibSp, and Parch. We will drop them next in favor of FamilySize"
   ]
  },
  {
   "cell_type": "code",
   "execution_count": 41,
   "metadata": {
    "_cell_guid": "9a4e4233-a0fe-4fec-a430-c76aeb734256",
    "_execution_state": "idle",
    "_uuid": "214742ad3cf34c5c8a1377be12bd6126e78df013"
   },
   "outputs": [
    {
     "data": {
      "text/html": [
       "<div>\n",
       "<style scoped>\n",
       "    .dataframe tbody tr th:only-of-type {\n",
       "        vertical-align: middle;\n",
       "    }\n",
       "\n",
       "    .dataframe tbody tr th {\n",
       "        vertical-align: top;\n",
       "    }\n",
       "\n",
       "    .dataframe thead th {\n",
       "        text-align: right;\n",
       "    }\n",
       "</style>\n",
       "<table border=\"1\" class=\"dataframe\">\n",
       "  <thead>\n",
       "    <tr style=\"text-align: right;\">\n",
       "      <th></th>\n",
       "      <th>Survived</th>\n",
       "      <th>Pclass</th>\n",
       "      <th>Name</th>\n",
       "      <th>Sex</th>\n",
       "      <th>Age</th>\n",
       "      <th>Fare</th>\n",
       "      <th>Embarked</th>\n",
       "      <th>FamilySize</th>\n",
       "    </tr>\n",
       "  </thead>\n",
       "  <tbody>\n",
       "    <tr>\n",
       "      <th>0</th>\n",
       "      <td>0</td>\n",
       "      <td>3</td>\n",
       "      <td>Braund, Mr. Owen Harris</td>\n",
       "      <td>1</td>\n",
       "      <td>2</td>\n",
       "      <td>7.2500</td>\n",
       "      <td>S</td>\n",
       "      <td>1</td>\n",
       "    </tr>\n",
       "    <tr>\n",
       "      <th>1</th>\n",
       "      <td>1</td>\n",
       "      <td>1</td>\n",
       "      <td>Cumings, Mrs. John Bradley (Florence Briggs Th...</td>\n",
       "      <td>0</td>\n",
       "      <td>3</td>\n",
       "      <td>71.2833</td>\n",
       "      <td>C</td>\n",
       "      <td>1</td>\n",
       "    </tr>\n",
       "    <tr>\n",
       "      <th>2</th>\n",
       "      <td>1</td>\n",
       "      <td>3</td>\n",
       "      <td>Heikkinen, Miss. Laina</td>\n",
       "      <td>0</td>\n",
       "      <td>2</td>\n",
       "      <td>7.9250</td>\n",
       "      <td>S</td>\n",
       "      <td>0</td>\n",
       "    </tr>\n",
       "    <tr>\n",
       "      <th>3</th>\n",
       "      <td>1</td>\n",
       "      <td>1</td>\n",
       "      <td>Futrelle, Mrs. Jacques Heath (Lily May Peel)</td>\n",
       "      <td>0</td>\n",
       "      <td>3</td>\n",
       "      <td>53.1000</td>\n",
       "      <td>S</td>\n",
       "      <td>1</td>\n",
       "    </tr>\n",
       "    <tr>\n",
       "      <th>4</th>\n",
       "      <td>0</td>\n",
       "      <td>3</td>\n",
       "      <td>Allen, Mr. William Henry</td>\n",
       "      <td>1</td>\n",
       "      <td>3</td>\n",
       "      <td>8.0500</td>\n",
       "      <td>S</td>\n",
       "      <td>0</td>\n",
       "    </tr>\n",
       "  </tbody>\n",
       "</table>\n",
       "</div>"
      ],
      "text/plain": [
       "   Survived  Pclass                                               Name  Sex  \\\n",
       "0         0       3                            Braund, Mr. Owen Harris    1   \n",
       "1         1       1  Cumings, Mrs. John Bradley (Florence Briggs Th...    0   \n",
       "2         1       3                             Heikkinen, Miss. Laina    0   \n",
       "3         1       1       Futrelle, Mrs. Jacques Heath (Lily May Peel)    0   \n",
       "4         0       3                           Allen, Mr. William Henry    1   \n",
       "\n",
       "   Age     Fare Embarked  FamilySize  \n",
       "0    2   7.2500        S           1  \n",
       "1    3  71.2833        C           1  \n",
       "2    2   7.9250        S           0  \n",
       "3    3  53.1000        S           1  \n",
       "4    3   8.0500        S           0  "
      ]
     },
     "execution_count": 41,
     "metadata": {},
     "output_type": "execute_result"
    }
   ],
   "source": [
    "train = train.drop(['Parch', 'SibSp'], axis = 1)\n",
    "test = test.drop(['Parch', 'SibSp'], axis = 1)\n",
    "train_test_data = [train, test]\n",
    "train.head()"
   ]
  },
  {
   "cell_type": "code",
   "execution_count": 42,
   "metadata": {
    "_cell_guid": "182c4210-d2a3-4b28-8605-772371dd4598",
    "_execution_state": "idle",
    "_uuid": "68e79fd5aa4e98adebee8a3bd6c9ee9b09e6519d"
   },
   "outputs": [
    {
     "data": {
      "text/html": [
       "<div>\n",
       "<style scoped>\n",
       "    .dataframe tbody tr th:only-of-type {\n",
       "        vertical-align: middle;\n",
       "    }\n",
       "\n",
       "    .dataframe tbody tr th {\n",
       "        vertical-align: top;\n",
       "    }\n",
       "\n",
       "    .dataframe thead th {\n",
       "        text-align: right;\n",
       "    }\n",
       "</style>\n",
       "<table border=\"1\" class=\"dataframe\">\n",
       "  <thead>\n",
       "    <tr style=\"text-align: right;\">\n",
       "      <th></th>\n",
       "      <th>Pclass</th>\n",
       "      <th>Name</th>\n",
       "      <th>Sex</th>\n",
       "      <th>Age</th>\n",
       "      <th>Fare</th>\n",
       "      <th>Embarked</th>\n",
       "      <th>FamilySize</th>\n",
       "    </tr>\n",
       "  </thead>\n",
       "  <tbody>\n",
       "    <tr>\n",
       "      <th>0</th>\n",
       "      <td>3</td>\n",
       "      <td>Kelly, Mr. James</td>\n",
       "      <td>1</td>\n",
       "      <td>3</td>\n",
       "      <td>7.8292</td>\n",
       "      <td>Q</td>\n",
       "      <td>0</td>\n",
       "    </tr>\n",
       "    <tr>\n",
       "      <th>1</th>\n",
       "      <td>3</td>\n",
       "      <td>Wilkes, Mrs. James (Ellen Needs)</td>\n",
       "      <td>0</td>\n",
       "      <td>4</td>\n",
       "      <td>7.0000</td>\n",
       "      <td>S</td>\n",
       "      <td>1</td>\n",
       "    </tr>\n",
       "    <tr>\n",
       "      <th>2</th>\n",
       "      <td>2</td>\n",
       "      <td>Myles, Mr. Thomas Francis</td>\n",
       "      <td>1</td>\n",
       "      <td>6</td>\n",
       "      <td>9.6875</td>\n",
       "      <td>Q</td>\n",
       "      <td>0</td>\n",
       "    </tr>\n",
       "    <tr>\n",
       "      <th>3</th>\n",
       "      <td>3</td>\n",
       "      <td>Wirz, Mr. Albert</td>\n",
       "      <td>1</td>\n",
       "      <td>2</td>\n",
       "      <td>8.6625</td>\n",
       "      <td>S</td>\n",
       "      <td>0</td>\n",
       "    </tr>\n",
       "    <tr>\n",
       "      <th>4</th>\n",
       "      <td>3</td>\n",
       "      <td>Hirvonen, Mrs. Alexander (Helga E Lindqvist)</td>\n",
       "      <td>0</td>\n",
       "      <td>2</td>\n",
       "      <td>12.2875</td>\n",
       "      <td>S</td>\n",
       "      <td>2</td>\n",
       "    </tr>\n",
       "  </tbody>\n",
       "</table>\n",
       "</div>"
      ],
      "text/plain": [
       "   Pclass                                          Name  Sex  Age     Fare  \\\n",
       "0       3                              Kelly, Mr. James    1    3   7.8292   \n",
       "1       3              Wilkes, Mrs. James (Ellen Needs)    0    4   7.0000   \n",
       "2       2                     Myles, Mr. Thomas Francis    1    6   9.6875   \n",
       "3       3                              Wirz, Mr. Albert    1    2   8.6625   \n",
       "4       3  Hirvonen, Mrs. Alexander (Helga E Lindqvist)    0    2  12.2875   \n",
       "\n",
       "  Embarked  FamilySize  \n",
       "0        Q           0  \n",
       "1        S           1  \n",
       "2        Q           0  \n",
       "3        S           0  \n",
       "4        S           2  "
      ]
     },
     "execution_count": 42,
     "metadata": {},
     "output_type": "execute_result"
    }
   ],
   "source": [
    "test.head()"
   ]
  },
  {
   "cell_type": "markdown",
   "metadata": {
    "_cell_guid": "8a07bde8-d1f7-41ab-a56d-89dc71ff96ad",
    "_uuid": "71f7f9cfeacf1f924d61aa0f168ced914debbe3e"
   },
   "source": [
    "##  2. 5. Embarked"
   ]
  },
  {
   "cell_type": "markdown",
   "metadata": {
    "_cell_guid": "68f3821e-2472-423a-811d-e36feb7886fa",
    "_uuid": "044bc141e170b22ca5e3242d884176edfb075da4"
   },
   "source": [
    "- 2 missing data\n",
    "- Categorical variable\n",
    "- The embarking feature takes S, Q and C categorical values for port embarkation. \n",
    "- The missing values are filled using the most frequent value"
   ]
  },
  {
   "cell_type": "code",
   "execution_count": 43,
   "metadata": {},
   "outputs": [
    {
     "data": {
      "application/vnd.plotly.v1+json": {
       "config": {
        "linkText": "Export to plot.ly",
        "plotlyServerURL": "https://plot.ly",
        "showLink": false
       },
       "data": [
        {
         "name": "No",
         "type": "bar",
         "uid": "eae5bfb3-3fd3-4c1e-b6d1-63f3d595ddd7",
         "x": [
          "C",
          "Q",
          "S"
         ],
         "y": [
          75,
          47,
          427
         ]
        },
        {
         "name": "Yes",
         "type": "bar",
         "uid": "f0881f4c-94dc-426c-bf58-af6a5467a178",
         "x": [
          "C",
          "Q",
          "S"
         ],
         "y": [
          93,
          30,
          217
         ]
        }
       ],
       "layout": {
        "autosize": false,
        "barmode": "group",
        "height": 500,
        "title": {
         "text": "Survived based on embarked"
        },
        "width": 800,
        "xaxis": {
         "title": {
          "text": "Embarked"
         }
        },
        "yaxis": {
         "title": {
          "text": "Number of people"
         }
        }
       }
      },
      "text/html": [
       "<div id=\"51c88e87-97de-4077-bef4-15cec0201cb2\" style=\"height: 500px; width: 800px;\" class=\"plotly-graph-div\"></div><script type=\"text/javascript\">require([\"plotly\"], function(Plotly) { window.PLOTLYENV=window.PLOTLYENV || {};window.PLOTLYENV.BASE_URL=\"https://plot.ly\";Plotly.newPlot(\"51c88e87-97de-4077-bef4-15cec0201cb2\", [{\"name\": \"No\", \"x\": [\"C\", \"Q\", \"S\"], \"y\": [75, 47, 427], \"type\": \"bar\", \"uid\": \"91f5023e-7114-4875-8b6d-c636e800a94a\"}, {\"name\": \"Yes\", \"x\": [\"C\", \"Q\", \"S\"], \"y\": [93, 30, 217], \"type\": \"bar\", \"uid\": \"c21bbd2f-b869-4802-858c-51abdcb16dcf\"}], {\"autosize\": false, \"barmode\": \"group\", \"height\": 500, \"title\": {\"text\": \"Survived based on embarked\"}, \"width\": 800, \"xaxis\": {\"title\": {\"text\": \"Embarked\"}}, \"yaxis\": {\"title\": {\"text\": \"Number of people\"}}}, {\"showLink\": false, \"linkText\": \"Export to plot.ly\", \"plotlyServerURL\": \"https://plot.ly\"})});</script>"
      ],
      "text/vnd.plotly.v1+html": [
       "<div id=\"51c88e87-97de-4077-bef4-15cec0201cb2\" style=\"height: 500px; width: 800px;\" class=\"plotly-graph-div\"></div><script type=\"text/javascript\">require([\"plotly\"], function(Plotly) { window.PLOTLYENV=window.PLOTLYENV || {};window.PLOTLYENV.BASE_URL=\"https://plot.ly\";Plotly.newPlot(\"51c88e87-97de-4077-bef4-15cec0201cb2\", [{\"name\": \"No\", \"x\": [\"C\", \"Q\", \"S\"], \"y\": [75, 47, 427], \"type\": \"bar\", \"uid\": \"91f5023e-7114-4875-8b6d-c636e800a94a\"}, {\"name\": \"Yes\", \"x\": [\"C\", \"Q\", \"S\"], \"y\": [93, 30, 217], \"type\": \"bar\", \"uid\": \"c21bbd2f-b869-4802-858c-51abdcb16dcf\"}], {\"autosize\": false, \"barmode\": \"group\", \"height\": 500, \"title\": {\"text\": \"Survived based on embarked\"}, \"width\": 800, \"xaxis\": {\"title\": {\"text\": \"Embarked\"}}, \"yaxis\": {\"title\": {\"text\": \"Number of people\"}}}, {\"showLink\": false, \"linkText\": \"Export to plot.ly\", \"plotlyServerURL\": \"https://plot.ly\"})});</script>"
      ]
     },
     "metadata": {},
     "output_type": "display_data"
    }
   ],
   "source": [
    "embarked = pd.crosstab([train.Survived], train.Embarked)\n",
    "plotGraph(embarked, 'Survived based on embarked')"
   ]
  },
  {
   "cell_type": "code",
   "execution_count": 44,
   "metadata": {
    "_cell_guid": "ad0198f2-6e54-41e7-8728-82c806449fdd",
    "_execution_state": "idle",
    "_uuid": "0f13ecdfacd00e41584b467ac4c903ba6cbce326"
   },
   "outputs": [
    {
     "data": {
      "text/html": [
       "<div>\n",
       "<style scoped>\n",
       "    .dataframe tbody tr th:only-of-type {\n",
       "        vertical-align: middle;\n",
       "    }\n",
       "\n",
       "    .dataframe tbody tr th {\n",
       "        vertical-align: top;\n",
       "    }\n",
       "\n",
       "    .dataframe thead th {\n",
       "        text-align: right;\n",
       "    }\n",
       "</style>\n",
       "<table border=\"1\" class=\"dataframe\">\n",
       "  <thead>\n",
       "    <tr style=\"text-align: right;\">\n",
       "      <th></th>\n",
       "      <th>Survived</th>\n",
       "      <th>Pclass</th>\n",
       "      <th>Name</th>\n",
       "      <th>Sex</th>\n",
       "      <th>Age</th>\n",
       "      <th>Fare</th>\n",
       "      <th>Embarked</th>\n",
       "      <th>FamilySize</th>\n",
       "    </tr>\n",
       "  </thead>\n",
       "  <tbody>\n",
       "    <tr>\n",
       "      <th>0</th>\n",
       "      <td>0</td>\n",
       "      <td>3</td>\n",
       "      <td>Braund, Mr. Owen Harris</td>\n",
       "      <td>1</td>\n",
       "      <td>2</td>\n",
       "      <td>7.2500</td>\n",
       "      <td>S</td>\n",
       "      <td>1</td>\n",
       "    </tr>\n",
       "    <tr>\n",
       "      <th>1</th>\n",
       "      <td>1</td>\n",
       "      <td>1</td>\n",
       "      <td>Cumings, Mrs. John Bradley (Florence Briggs Th...</td>\n",
       "      <td>0</td>\n",
       "      <td>3</td>\n",
       "      <td>71.2833</td>\n",
       "      <td>C</td>\n",
       "      <td>1</td>\n",
       "    </tr>\n",
       "    <tr>\n",
       "      <th>2</th>\n",
       "      <td>1</td>\n",
       "      <td>3</td>\n",
       "      <td>Heikkinen, Miss. Laina</td>\n",
       "      <td>0</td>\n",
       "      <td>2</td>\n",
       "      <td>7.9250</td>\n",
       "      <td>S</td>\n",
       "      <td>0</td>\n",
       "    </tr>\n",
       "    <tr>\n",
       "      <th>3</th>\n",
       "      <td>1</td>\n",
       "      <td>1</td>\n",
       "      <td>Futrelle, Mrs. Jacques Heath (Lily May Peel)</td>\n",
       "      <td>0</td>\n",
       "      <td>3</td>\n",
       "      <td>53.1000</td>\n",
       "      <td>S</td>\n",
       "      <td>1</td>\n",
       "    </tr>\n",
       "    <tr>\n",
       "      <th>4</th>\n",
       "      <td>0</td>\n",
       "      <td>3</td>\n",
       "      <td>Allen, Mr. William Henry</td>\n",
       "      <td>1</td>\n",
       "      <td>3</td>\n",
       "      <td>8.0500</td>\n",
       "      <td>S</td>\n",
       "      <td>0</td>\n",
       "    </tr>\n",
       "  </tbody>\n",
       "</table>\n",
       "</div>"
      ],
      "text/plain": [
       "   Survived  Pclass                                               Name  Sex  \\\n",
       "0         0       3                            Braund, Mr. Owen Harris    1   \n",
       "1         1       1  Cumings, Mrs. John Bradley (Florence Briggs Th...    0   \n",
       "2         1       3                             Heikkinen, Miss. Laina    0   \n",
       "3         1       1       Futrelle, Mrs. Jacques Heath (Lily May Peel)    0   \n",
       "4         0       3                           Allen, Mr. William Henry    1   \n",
       "\n",
       "   Age     Fare Embarked  FamilySize  \n",
       "0    2   7.2500        S           1  \n",
       "1    3  71.2833        C           1  \n",
       "2    2   7.9250        S           0  \n",
       "3    3  53.1000        S           1  \n",
       "4    3   8.0500        S           0  "
      ]
     },
     "execution_count": 44,
     "metadata": {},
     "output_type": "execute_result"
    }
   ],
   "source": [
    "Embarking_freq = train.Embarked.dropna().mode()[0]\n",
    "for dataset in train_test_data:\n",
    "    dataset['Embarked'] = dataset['Embarked'].fillna(Embarking_freq)\n",
    "train, test = train_test_data[0], train_test_data[1]\n",
    "train.head()   "
   ]
  },
  {
   "cell_type": "markdown",
   "metadata": {
    "_cell_guid": "e8fafe2b-06f2-4eed-b988-527ccc2818d2",
    "_uuid": "7ff88977d894eedbf16ffce8d4a56bcd6a68ac17"
   },
   "source": [
    "- Embarked feature correlation with survival by pivoting on embarked feature"
   ]
  },
  {
   "cell_type": "code",
   "execution_count": 45,
   "metadata": {
    "_cell_guid": "58443b37-417f-4969-8340-c00b49a4ebdf",
    "_execution_state": "idle",
    "_uuid": "f9665b7d90a4264b04e3aa46df312e480ad500c6"
   },
   "outputs": [
    {
     "data": {
      "text/html": [
       "<div>\n",
       "<style scoped>\n",
       "    .dataframe tbody tr th:only-of-type {\n",
       "        vertical-align: middle;\n",
       "    }\n",
       "\n",
       "    .dataframe tbody tr th {\n",
       "        vertical-align: top;\n",
       "    }\n",
       "\n",
       "    .dataframe thead th {\n",
       "        text-align: right;\n",
       "    }\n",
       "</style>\n",
       "<table border=\"1\" class=\"dataframe\">\n",
       "  <thead>\n",
       "    <tr style=\"text-align: right;\">\n",
       "      <th></th>\n",
       "      <th>Embarked</th>\n",
       "      <th>Survived</th>\n",
       "    </tr>\n",
       "  </thead>\n",
       "  <tbody>\n",
       "    <tr>\n",
       "      <th>0</th>\n",
       "      <td>C</td>\n",
       "      <td>0.553571</td>\n",
       "    </tr>\n",
       "    <tr>\n",
       "      <th>1</th>\n",
       "      <td>Q</td>\n",
       "      <td>0.389610</td>\n",
       "    </tr>\n",
       "    <tr>\n",
       "      <th>2</th>\n",
       "      <td>S</td>\n",
       "      <td>0.339009</td>\n",
       "    </tr>\n",
       "  </tbody>\n",
       "</table>\n",
       "</div>"
      ],
      "text/plain": [
       "  Embarked  Survived\n",
       "0        C  0.553571\n",
       "1        Q  0.389610\n",
       "2        S  0.339009"
      ]
     },
     "execution_count": 45,
     "metadata": {},
     "output_type": "execute_result"
    }
   ],
   "source": [
    "train[['Embarked', 'Survived']].groupby(['Embarked'], \n",
    "                                       as_index = False).mean().sort_values(by = 'Survived', ascending = False)"
   ]
  },
  {
   "cell_type": "markdown",
   "metadata": {
    "_cell_guid": "6d78acfc-b3af-424d-a543-27c10f66f036",
    "_uuid": "210a611853723035ffc515a116433f9299f55c2b"
   },
   "source": [
    "#### Transform the Embarked categorical values into discrete numeric values   (S = 0, C = 1, and Q = 2 )"
   ]
  },
  {
   "cell_type": "code",
   "execution_count": 46,
   "metadata": {
    "_cell_guid": "9fe3bade-7226-4ae3-b44e-0cede1100ce5",
    "_execution_state": "idle",
    "_uuid": "727187c1b6fb3a4c2003757e0d99ace8ed0d588d"
   },
   "outputs": [
    {
     "data": {
      "text/html": [
       "<div>\n",
       "<style scoped>\n",
       "    .dataframe tbody tr th:only-of-type {\n",
       "        vertical-align: middle;\n",
       "    }\n",
       "\n",
       "    .dataframe tbody tr th {\n",
       "        vertical-align: top;\n",
       "    }\n",
       "\n",
       "    .dataframe thead th {\n",
       "        text-align: right;\n",
       "    }\n",
       "</style>\n",
       "<table border=\"1\" class=\"dataframe\">\n",
       "  <thead>\n",
       "    <tr style=\"text-align: right;\">\n",
       "      <th></th>\n",
       "      <th>Survived</th>\n",
       "      <th>Pclass</th>\n",
       "      <th>Name</th>\n",
       "      <th>Sex</th>\n",
       "      <th>Age</th>\n",
       "      <th>Fare</th>\n",
       "      <th>Embarked</th>\n",
       "      <th>FamilySize</th>\n",
       "    </tr>\n",
       "  </thead>\n",
       "  <tbody>\n",
       "    <tr>\n",
       "      <th>0</th>\n",
       "      <td>0</td>\n",
       "      <td>3</td>\n",
       "      <td>Braund, Mr. Owen Harris</td>\n",
       "      <td>1</td>\n",
       "      <td>2</td>\n",
       "      <td>7.2500</td>\n",
       "      <td>0</td>\n",
       "      <td>1</td>\n",
       "    </tr>\n",
       "    <tr>\n",
       "      <th>1</th>\n",
       "      <td>1</td>\n",
       "      <td>1</td>\n",
       "      <td>Cumings, Mrs. John Bradley (Florence Briggs Th...</td>\n",
       "      <td>0</td>\n",
       "      <td>3</td>\n",
       "      <td>71.2833</td>\n",
       "      <td>1</td>\n",
       "      <td>1</td>\n",
       "    </tr>\n",
       "    <tr>\n",
       "      <th>2</th>\n",
       "      <td>1</td>\n",
       "      <td>3</td>\n",
       "      <td>Heikkinen, Miss. Laina</td>\n",
       "      <td>0</td>\n",
       "      <td>2</td>\n",
       "      <td>7.9250</td>\n",
       "      <td>0</td>\n",
       "      <td>0</td>\n",
       "    </tr>\n",
       "    <tr>\n",
       "      <th>3</th>\n",
       "      <td>1</td>\n",
       "      <td>1</td>\n",
       "      <td>Futrelle, Mrs. Jacques Heath (Lily May Peel)</td>\n",
       "      <td>0</td>\n",
       "      <td>3</td>\n",
       "      <td>53.1000</td>\n",
       "      <td>0</td>\n",
       "      <td>1</td>\n",
       "    </tr>\n",
       "    <tr>\n",
       "      <th>4</th>\n",
       "      <td>0</td>\n",
       "      <td>3</td>\n",
       "      <td>Allen, Mr. William Henry</td>\n",
       "      <td>1</td>\n",
       "      <td>3</td>\n",
       "      <td>8.0500</td>\n",
       "      <td>0</td>\n",
       "      <td>0</td>\n",
       "    </tr>\n",
       "  </tbody>\n",
       "</table>\n",
       "</div>"
      ],
      "text/plain": [
       "   Survived  Pclass                                               Name  Sex  \\\n",
       "0         0       3                            Braund, Mr. Owen Harris    1   \n",
       "1         1       1  Cumings, Mrs. John Bradley (Florence Briggs Th...    0   \n",
       "2         1       3                             Heikkinen, Miss. Laina    0   \n",
       "3         1       1       Futrelle, Mrs. Jacques Heath (Lily May Peel)    0   \n",
       "4         0       3                           Allen, Mr. William Henry    1   \n",
       "\n",
       "   Age     Fare  Embarked  FamilySize  \n",
       "0    2   7.2500         0           1  \n",
       "1    3  71.2833         1           1  \n",
       "2    2   7.9250         0           0  \n",
       "3    3  53.1000         0           1  \n",
       "4    3   8.0500         0           0  "
      ]
     },
     "execution_count": 46,
     "metadata": {},
     "output_type": "execute_result"
    }
   ],
   "source": [
    "for dataset in train_test_data:\n",
    "    dataset['Embarked'] = dataset['Embarked'].map({'S': 0, 'C': 1, 'Q': 2}).astype(int)\n",
    "train.head()"
   ]
  },
  {
   "cell_type": "markdown",
   "metadata": {
    "_cell_guid": "1dbe4347-25ec-4fa3-b662-5ba3fc1a23dd",
    "_uuid": "404cf99f3031302cc992e0220857b243ff5b233f"
   },
   "source": [
    "##  2. 6. Fare"
   ]
  },
  {
   "cell_type": "markdown",
   "metadata": {
    "_cell_guid": "4b93526a-5265-499f-82df-2dcfbfb64974",
    "_uuid": "868a615fee10dbb8b0525ff96d8729af23864c35"
   },
   "source": [
    "- The train data has no missing data\n",
    "- The test data has one missing value and we will replace it with the most frequent\n",
    "- This is a continuous feature \n",
    "- We will lamp the fare feature into bins to develop the predictive model\n",
    "- We use qcut method from pandas to divide the fare into ranges"
   ]
  },
  {
   "cell_type": "code",
   "execution_count": 47,
   "metadata": {},
   "outputs": [
    {
     "data": {
      "application/vnd.plotly.v1+json": {
       "config": {
        "linkText": "Export to plot.ly",
        "plotlyServerURL": "https://plot.ly",
        "showLink": false
       },
       "data": [
        {
         "mode": "lines",
         "name": "No",
         "type": "scatter",
         "uid": "8eb79113-b5e3-416f-9ce9-72cd4caa615f",
         "x": [
          0,
          4.0125,
          5,
          6.2375,
          6.4375,
          6.45,
          6.4958,
          6.75,
          6.8583,
          6.95,
          6.975,
          7.0458,
          7.05,
          7.0542,
          7.125,
          7.1417,
          7.225,
          7.2292,
          7.25,
          7.3125,
          7.4958,
          7.5208,
          7.55,
          7.6292,
          7.65,
          7.725,
          7.7292,
          7.7333,
          7.7375,
          7.7417,
          7.75,
          7.775,
          7.7875,
          7.7958,
          7.8,
          7.8292,
          7.8542,
          7.875,
          7.8792,
          7.8875,
          7.8958,
          7.925,
          8.0292,
          8.05,
          8.1125,
          8.1375,
          8.1583,
          8.3,
          8.3625,
          8.4042,
          8.4333,
          8.4583,
          8.5167,
          8.6542,
          8.6625,
          8.6833,
          8.7125,
          8.85,
          9,
          9.2167,
          9.225,
          9.35,
          9.475,
          9.4833,
          9.5,
          9.5875,
          9.825,
          9.8375,
          9.8417,
          9.8458,
          10.1708,
          10.4625,
          10.5,
          10.5167,
          11.1333,
          11.2417,
          11.5,
          12,
          12.275,
          12.2875,
          12.35,
          12.475,
          12.525,
          12.65,
          12.875,
          13,
          13.4167,
          13.5,
          13.7917,
          13.8583,
          13.8625,
          14,
          14.1083,
          14.4,
          14.4542,
          14.4583,
          14.5,
          15,
          15.0458,
          15.05,
          15.1,
          15.2458,
          15.5,
          15.55,
          15.7417,
          15.75,
          15.85,
          15.9,
          16,
          16.1,
          16.7,
          17.4,
          17.8,
          18,
          18.75,
          18.7875,
          19.2583,
          19.5,
          19.9667,
          20.2125,
          20.25,
          20.525,
          20.575,
          21,
          21.075,
          21.6792,
          22.025,
          22.3583,
          22.525,
          23,
          23.25,
          23.45,
          24,
          24.15,
          25.4667,
          25.5875,
          25.925,
          25.9292,
          26,
          26.25,
          26.2833,
          26.2875,
          26.3875,
          26.55,
          27,
          27.7208,
          27.75,
          27.9,
          28.5,
          28.7125,
          29,
          29.125,
          29.7,
          30,
          30.0708,
          30.5,
          30.6958,
          31,
          31.275,
          31.3875,
          32.3208,
          32.5,
          33,
          33.5,
          34.0208,
          34.375,
          34.6542,
          35,
          35.5,
          36.75,
          37.0042,
          38.5,
          39,
          39.4,
          39.6,
          39.6875,
          40.125,
          41.5792,
          42.4,
          46.9,
          47.1,
          49.5,
          49.5042,
          50,
          50.4958,
          51.4792,
          51.8625,
          52,
          52.5542,
          53.1,
          55,
          55.4417,
          55.9,
          56.4958,
          56.9292,
          57,
          57.9792,
          59.4,
          61.175,
          61.3792,
          61.9792,
          63.3583,
          65,
          66.6,
          69.3,
          69.55,
          71,
          71.2833,
          73.5,
          75.25,
          76.2917,
          76.7292,
          77.2875,
          77.9583,
          78.2667,
          78.85,
          79.2,
          79.65,
          80,
          81.8583,
          82.1708,
          83.1583,
          83.475,
          86.5,
          89.1042,
          90,
          91.0792,
          93.5,
          106.425,
          108.9,
          110.8833,
          113.275,
          120,
          133.65,
          134.5,
          135.6333,
          146.5208,
          151.55,
          153.4625,
          164.8667,
          211.3375,
          211.5,
          221.7792,
          227.525,
          247.5208,
          262.375,
          263,
          512.3292
         ],
         "y": [
          14,
          1,
          1,
          1,
          1,
          1,
          2,
          2,
          1,
          1,
          1,
          1,
          7,
          2,
          4,
          0,
          9,
          11,
          12,
          1,
          2,
          1,
          3,
          1,
          3,
          1,
          1,
          2,
          1,
          1,
          22,
          13,
          0,
          4,
          1,
          1,
          10,
          1,
          0,
          1,
          37,
          10,
          0,
          38,
          0,
          1,
          1,
          1,
          1,
          1,
          1,
          1,
          0,
          1,
          12,
          0,
          1,
          1,
          2,
          1,
          2,
          1,
          1,
          1,
          7,
          1,
          2,
          1,
          0,
          1,
          1,
          2,
          15,
          1,
          0,
          0,
          4,
          0,
          1,
          0,
          1,
          0,
          1,
          0,
          1,
          26,
          0,
          3,
          0,
          0,
          0,
          1,
          1,
          2,
          6,
          3,
          5,
          1,
          1,
          1,
          1,
          2,
          5,
          1,
          0,
          0,
          2,
          0,
          0,
          7,
          0,
          0,
          2,
          3,
          0,
          1,
          0,
          0,
          2,
          2,
          1,
          1,
          1,
          4,
          4,
          1,
          0,
          0,
          1,
          0,
          0,
          2,
          1,
          7,
          4,
          1,
          1,
          0,
          16,
          2,
          0,
          0,
          0,
          7,
          1,
          4,
          2,
          6,
          1,
          1,
          0,
          5,
          2,
          1,
          1,
          1,
          2,
          1,
          7,
          1,
          1,
          0,
          1,
          1,
          1,
          4,
          1,
          1,
          1,
          1,
          1,
          1,
          1,
          0,
          1,
          6,
          1,
          1,
          1,
          6,
          1,
          0,
          1,
          1,
          1,
          0,
          1,
          4,
          0,
          2,
          0,
          0,
          1,
          2,
          0,
          0,
          0,
          0,
          1,
          1,
          1,
          0,
          0,
          1,
          0,
          7,
          1,
          0,
          5,
          0,
          0,
          0,
          2,
          0,
          0,
          1,
          2,
          1,
          0,
          0,
          1,
          0,
          1,
          0,
          0,
          1,
          0,
          0,
          1,
          1,
          1,
          1,
          0,
          0,
          0,
          1,
          0,
          2,
          1,
          0,
          0,
          1,
          1,
          1,
          1,
          0,
          2,
          0
         ]
        },
        {
         "mode": "lines",
         "name": "Yes",
         "type": "scatter",
         "uid": "46824a0c-580b-415a-a2bc-c04696273f2b",
         "x": [
          0,
          4.0125,
          5,
          6.2375,
          6.4375,
          6.45,
          6.4958,
          6.75,
          6.8583,
          6.95,
          6.975,
          7.0458,
          7.05,
          7.0542,
          7.125,
          7.1417,
          7.225,
          7.2292,
          7.25,
          7.3125,
          7.4958,
          7.5208,
          7.55,
          7.6292,
          7.65,
          7.725,
          7.7292,
          7.7333,
          7.7375,
          7.7417,
          7.75,
          7.775,
          7.7875,
          7.7958,
          7.8,
          7.8292,
          7.8542,
          7.875,
          7.8792,
          7.8875,
          7.8958,
          7.925,
          8.0292,
          8.05,
          8.1125,
          8.1375,
          8.1583,
          8.3,
          8.3625,
          8.4042,
          8.4333,
          8.4583,
          8.5167,
          8.6542,
          8.6625,
          8.6833,
          8.7125,
          8.85,
          9,
          9.2167,
          9.225,
          9.35,
          9.475,
          9.4833,
          9.5,
          9.5875,
          9.825,
          9.8375,
          9.8417,
          9.8458,
          10.1708,
          10.4625,
          10.5,
          10.5167,
          11.1333,
          11.2417,
          11.5,
          12,
          12.275,
          12.2875,
          12.35,
          12.475,
          12.525,
          12.65,
          12.875,
          13,
          13.4167,
          13.5,
          13.7917,
          13.8583,
          13.8625,
          14,
          14.1083,
          14.4,
          14.4542,
          14.4583,
          14.5,
          15,
          15.0458,
          15.05,
          15.1,
          15.2458,
          15.5,
          15.55,
          15.7417,
          15.75,
          15.85,
          15.9,
          16,
          16.1,
          16.7,
          17.4,
          17.8,
          18,
          18.75,
          18.7875,
          19.2583,
          19.5,
          19.9667,
          20.2125,
          20.25,
          20.525,
          20.575,
          21,
          21.075,
          21.6792,
          22.025,
          22.3583,
          22.525,
          23,
          23.25,
          23.45,
          24,
          24.15,
          25.4667,
          25.5875,
          25.925,
          25.9292,
          26,
          26.25,
          26.2833,
          26.2875,
          26.3875,
          26.55,
          27,
          27.7208,
          27.75,
          27.9,
          28.5,
          28.7125,
          29,
          29.125,
          29.7,
          30,
          30.0708,
          30.5,
          30.6958,
          31,
          31.275,
          31.3875,
          32.3208,
          32.5,
          33,
          33.5,
          34.0208,
          34.375,
          34.6542,
          35,
          35.5,
          36.75,
          37.0042,
          38.5,
          39,
          39.4,
          39.6,
          39.6875,
          40.125,
          41.5792,
          42.4,
          46.9,
          47.1,
          49.5,
          49.5042,
          50,
          50.4958,
          51.4792,
          51.8625,
          52,
          52.5542,
          53.1,
          55,
          55.4417,
          55.9,
          56.4958,
          56.9292,
          57,
          57.9792,
          59.4,
          61.175,
          61.3792,
          61.9792,
          63.3583,
          65,
          66.6,
          69.3,
          69.55,
          71,
          71.2833,
          73.5,
          75.25,
          76.2917,
          76.7292,
          77.2875,
          77.9583,
          78.2667,
          78.85,
          79.2,
          79.65,
          80,
          81.8583,
          82.1708,
          83.1583,
          83.475,
          86.5,
          89.1042,
          90,
          91.0792,
          93.5,
          106.425,
          108.9,
          110.8833,
          113.275,
          120,
          133.65,
          134.5,
          135.6333,
          146.5208,
          151.55,
          153.4625,
          164.8667,
          211.3375,
          211.5,
          221.7792,
          227.525,
          247.5208,
          262.375,
          263,
          512.3292
         ],
         "y": [
          1,
          0,
          0,
          0,
          0,
          0,
          0,
          0,
          0,
          0,
          1,
          0,
          0,
          0,
          0,
          1,
          3,
          4,
          1,
          0,
          1,
          0,
          1,
          0,
          1,
          0,
          0,
          2,
          1,
          0,
          12,
          3,
          1,
          2,
          0,
          1,
          3,
          0,
          4,
          0,
          1,
          8,
          1,
          5,
          1,
          0,
          0,
          0,
          0,
          0,
          0,
          0,
          1,
          0,
          1,
          1,
          0,
          0,
          0,
          0,
          0,
          1,
          0,
          0,
          2,
          1,
          0,
          0,
          1,
          0,
          0,
          0,
          9,
          0,
          3,
          2,
          0,
          1,
          0,
          1,
          2,
          4,
          0,
          1,
          0,
          16,
          1,
          1,
          1,
          1,
          1,
          0,
          0,
          0,
          1,
          0,
          2,
          0,
          0,
          0,
          0,
          3,
          3,
          0,
          2,
          1,
          2,
          2,
          1,
          2,
          2,
          1,
          0,
          0,
          3,
          1,
          4,
          2,
          0,
          0,
          1,
          2,
          1,
          2,
          0,
          0,
          1,
          2,
          0,
          4,
          2,
          0,
          1,
          1,
          0,
          0,
          0,
          2,
          15,
          4,
          1,
          3,
          1,
          8,
          1,
          1,
          2,
          0,
          0,
          0,
          2,
          0,
          1,
          5,
          1,
          4,
          0,
          2,
          0,
          3,
          0,
          1,
          2,
          0,
          0,
          0,
          0,
          0,
          3,
          1,
          1,
          0,
          3,
          1,
          1,
          0,
          0,
          2,
          0,
          0,
          0,
          1,
          1,
          0,
          0,
          1,
          1,
          3,
          3,
          3,
          2,
          1,
          1,
          5,
          2,
          2,
          2,
          1,
          0,
          0,
          0,
          1,
          2,
          1,
          2,
          0,
          1,
          1,
          0,
          1,
          1,
          3,
          0,
          3,
          2,
          1,
          2,
          2,
          2,
          1,
          1,
          3,
          1,
          3,
          2,
          3,
          2,
          2,
          1,
          1,
          3,
          2,
          4,
          2,
          2,
          2,
          2,
          2,
          2,
          2,
          3,
          0,
          0,
          3,
          1,
          2,
          2,
          3
         ]
        }
       ],
       "layout": {
        "autosize": false,
        "height": 500,
        "title": {
         "text": "Survival based on Fare"
        },
        "width": 800,
        "xaxis": {
         "title": {
          "text": "Fare"
         }
        },
        "yaxis": {
         "title": {
          "text": "Number of people"
         }
        }
       }
      },
      "text/html": [
       "<div id=\"ff1cd691-2321-417f-8c6c-88c74b085cf6\" style=\"height: 500px; width: 800px;\" class=\"plotly-graph-div\"></div><script type=\"text/javascript\">require([\"plotly\"], function(Plotly) { window.PLOTLYENV=window.PLOTLYENV || {};window.PLOTLYENV.BASE_URL=\"https://plot.ly\";Plotly.newPlot(\"ff1cd691-2321-417f-8c6c-88c74b085cf6\", [{\"mode\": \"lines\", \"name\": \"No\", \"x\": [0.0, 4.0125, 5.0, 6.2375, 6.4375, 6.45, 6.4958, 6.75, 6.8583, 6.95, 6.975, 7.0458, 7.05, 7.0542, 7.125, 7.1417, 7.225, 7.2292, 7.25, 7.3125, 7.4958, 7.5208, 7.55, 7.6292, 7.65, 7.725, 7.7292, 7.7333, 7.7375, 7.7417, 7.75, 7.775, 7.7875, 7.7958, 7.8, 7.8292, 7.8542, 7.875, 7.8792, 7.8875, 7.8958, 7.925, 8.0292, 8.05, 8.1125, 8.1375, 8.1583, 8.3, 8.3625, 8.4042, 8.4333, 8.4583, 8.5167, 8.6542, 8.6625, 8.6833, 8.7125, 8.85, 9.0, 9.2167, 9.225, 9.35, 9.475, 9.4833, 9.5, 9.5875, 9.825, 9.8375, 9.8417, 9.8458, 10.1708, 10.4625, 10.5, 10.5167, 11.1333, 11.2417, 11.5, 12.0, 12.275, 12.2875, 12.35, 12.475, 12.525, 12.65, 12.875, 13.0, 13.4167, 13.5, 13.7917, 13.8583, 13.8625, 14.0, 14.1083, 14.4, 14.4542, 14.4583, 14.5, 15.0, 15.0458, 15.05, 15.1, 15.2458, 15.5, 15.55, 15.7417, 15.75, 15.85, 15.9, 16.0, 16.1, 16.7, 17.4, 17.8, 18.0, 18.75, 18.7875, 19.2583, 19.5, 19.9667, 20.2125, 20.25, 20.525, 20.575, 21.0, 21.075, 21.6792, 22.025, 22.3583, 22.525, 23.0, 23.25, 23.45, 24.0, 24.15, 25.4667, 25.5875, 25.925, 25.9292, 26.0, 26.25, 26.2833, 26.2875, 26.3875, 26.55, 27.0, 27.7208, 27.75, 27.9, 28.5, 28.7125, 29.0, 29.125, 29.7, 30.0, 30.0708, 30.5, 30.6958, 31.0, 31.275, 31.3875, 32.3208, 32.5, 33.0, 33.5, 34.0208, 34.375, 34.6542, 35.0, 35.5, 36.75, 37.0042, 38.5, 39.0, 39.4, 39.6, 39.6875, 40.125, 41.5792, 42.4, 46.9, 47.1, 49.5, 49.5042, 50.0, 50.4958, 51.4792, 51.8625, 52.0, 52.5542, 53.1, 55.0, 55.4417, 55.9, 56.4958, 56.9292, 57.0, 57.9792, 59.4, 61.175, 61.3792, 61.9792, 63.3583, 65.0, 66.6, 69.3, 69.55, 71.0, 71.2833, 73.5, 75.25, 76.2917, 76.7292, 77.2875, 77.9583, 78.2667, 78.85, 79.2, 79.65, 80.0, 81.8583, 82.1708, 83.1583, 83.475, 86.5, 89.1042, 90.0, 91.0792, 93.5, 106.425, 108.9, 110.8833, 113.275, 120.0, 133.65, 134.5, 135.6333, 146.5208, 151.55, 153.4625, 164.8667, 211.3375, 211.5, 221.7792, 227.525, 247.5208, 262.375, 263.0, 512.3292], \"y\": [14, 1, 1, 1, 1, 1, 2, 2, 1, 1, 1, 1, 7, 2, 4, 0, 9, 11, 12, 1, 2, 1, 3, 1, 3, 1, 1, 2, 1, 1, 22, 13, 0, 4, 1, 1, 10, 1, 0, 1, 37, 10, 0, 38, 0, 1, 1, 1, 1, 1, 1, 1, 0, 1, 12, 0, 1, 1, 2, 1, 2, 1, 1, 1, 7, 1, 2, 1, 0, 1, 1, 2, 15, 1, 0, 0, 4, 0, 1, 0, 1, 0, 1, 0, 1, 26, 0, 3, 0, 0, 0, 1, 1, 2, 6, 3, 5, 1, 1, 1, 1, 2, 5, 1, 0, 0, 2, 0, 0, 7, 0, 0, 2, 3, 0, 1, 0, 0, 2, 2, 1, 1, 1, 4, 4, 1, 0, 0, 1, 0, 0, 2, 1, 7, 4, 1, 1, 0, 16, 2, 0, 0, 0, 7, 1, 4, 2, 6, 1, 1, 0, 5, 2, 1, 1, 1, 2, 1, 7, 1, 1, 0, 1, 1, 1, 4, 1, 1, 1, 1, 1, 1, 1, 0, 1, 6, 1, 1, 1, 6, 1, 0, 1, 1, 1, 0, 1, 4, 0, 2, 0, 0, 1, 2, 0, 0, 0, 0, 1, 1, 1, 0, 0, 1, 0, 7, 1, 0, 5, 0, 0, 0, 2, 0, 0, 1, 2, 1, 0, 0, 1, 0, 1, 0, 0, 1, 0, 0, 1, 1, 1, 1, 0, 0, 0, 1, 0, 2, 1, 0, 0, 1, 1, 1, 1, 0, 2, 0], \"type\": \"scatter\", \"uid\": \"d0a03f40-df2e-4f62-a439-d5bc77ba3c53\"}, {\"mode\": \"lines\", \"name\": \"Yes\", \"x\": [0.0, 4.0125, 5.0, 6.2375, 6.4375, 6.45, 6.4958, 6.75, 6.8583, 6.95, 6.975, 7.0458, 7.05, 7.0542, 7.125, 7.1417, 7.225, 7.2292, 7.25, 7.3125, 7.4958, 7.5208, 7.55, 7.6292, 7.65, 7.725, 7.7292, 7.7333, 7.7375, 7.7417, 7.75, 7.775, 7.7875, 7.7958, 7.8, 7.8292, 7.8542, 7.875, 7.8792, 7.8875, 7.8958, 7.925, 8.0292, 8.05, 8.1125, 8.1375, 8.1583, 8.3, 8.3625, 8.4042, 8.4333, 8.4583, 8.5167, 8.6542, 8.6625, 8.6833, 8.7125, 8.85, 9.0, 9.2167, 9.225, 9.35, 9.475, 9.4833, 9.5, 9.5875, 9.825, 9.8375, 9.8417, 9.8458, 10.1708, 10.4625, 10.5, 10.5167, 11.1333, 11.2417, 11.5, 12.0, 12.275, 12.2875, 12.35, 12.475, 12.525, 12.65, 12.875, 13.0, 13.4167, 13.5, 13.7917, 13.8583, 13.8625, 14.0, 14.1083, 14.4, 14.4542, 14.4583, 14.5, 15.0, 15.0458, 15.05, 15.1, 15.2458, 15.5, 15.55, 15.7417, 15.75, 15.85, 15.9, 16.0, 16.1, 16.7, 17.4, 17.8, 18.0, 18.75, 18.7875, 19.2583, 19.5, 19.9667, 20.2125, 20.25, 20.525, 20.575, 21.0, 21.075, 21.6792, 22.025, 22.3583, 22.525, 23.0, 23.25, 23.45, 24.0, 24.15, 25.4667, 25.5875, 25.925, 25.9292, 26.0, 26.25, 26.2833, 26.2875, 26.3875, 26.55, 27.0, 27.7208, 27.75, 27.9, 28.5, 28.7125, 29.0, 29.125, 29.7, 30.0, 30.0708, 30.5, 30.6958, 31.0, 31.275, 31.3875, 32.3208, 32.5, 33.0, 33.5, 34.0208, 34.375, 34.6542, 35.0, 35.5, 36.75, 37.0042, 38.5, 39.0, 39.4, 39.6, 39.6875, 40.125, 41.5792, 42.4, 46.9, 47.1, 49.5, 49.5042, 50.0, 50.4958, 51.4792, 51.8625, 52.0, 52.5542, 53.1, 55.0, 55.4417, 55.9, 56.4958, 56.9292, 57.0, 57.9792, 59.4, 61.175, 61.3792, 61.9792, 63.3583, 65.0, 66.6, 69.3, 69.55, 71.0, 71.2833, 73.5, 75.25, 76.2917, 76.7292, 77.2875, 77.9583, 78.2667, 78.85, 79.2, 79.65, 80.0, 81.8583, 82.1708, 83.1583, 83.475, 86.5, 89.1042, 90.0, 91.0792, 93.5, 106.425, 108.9, 110.8833, 113.275, 120.0, 133.65, 134.5, 135.6333, 146.5208, 151.55, 153.4625, 164.8667, 211.3375, 211.5, 221.7792, 227.525, 247.5208, 262.375, 263.0, 512.3292], \"y\": [1, 0, 0, 0, 0, 0, 0, 0, 0, 0, 1, 0, 0, 0, 0, 1, 3, 4, 1, 0, 1, 0, 1, 0, 1, 0, 0, 2, 1, 0, 12, 3, 1, 2, 0, 1, 3, 0, 4, 0, 1, 8, 1, 5, 1, 0, 0, 0, 0, 0, 0, 0, 1, 0, 1, 1, 0, 0, 0, 0, 0, 1, 0, 0, 2, 1, 0, 0, 1, 0, 0, 0, 9, 0, 3, 2, 0, 1, 0, 1, 2, 4, 0, 1, 0, 16, 1, 1, 1, 1, 1, 0, 0, 0, 1, 0, 2, 0, 0, 0, 0, 3, 3, 0, 2, 1, 2, 2, 1, 2, 2, 1, 0, 0, 3, 1, 4, 2, 0, 0, 1, 2, 1, 2, 0, 0, 1, 2, 0, 4, 2, 0, 1, 1, 0, 0, 0, 2, 15, 4, 1, 3, 1, 8, 1, 1, 2, 0, 0, 0, 2, 0, 1, 5, 1, 4, 0, 2, 0, 3, 0, 1, 2, 0, 0, 0, 0, 0, 3, 1, 1, 0, 3, 1, 1, 0, 0, 2, 0, 0, 0, 1, 1, 0, 0, 1, 1, 3, 3, 3, 2, 1, 1, 5, 2, 2, 2, 1, 0, 0, 0, 1, 2, 1, 2, 0, 1, 1, 0, 1, 1, 3, 0, 3, 2, 1, 2, 2, 2, 1, 1, 3, 1, 3, 2, 3, 2, 2, 1, 1, 3, 2, 4, 2, 2, 2, 2, 2, 2, 2, 3, 0, 0, 3, 1, 2, 2, 3], \"type\": \"scatter\", \"uid\": \"41250f68-27ea-453c-8f57-437aab6887ac\"}], {\"autosize\": false, \"height\": 500, \"title\": {\"text\": \"Survival based on Fare\"}, \"width\": 800, \"xaxis\": {\"title\": {\"text\": \"Fare\"}}, \"yaxis\": {\"title\": {\"text\": \"Number of people\"}}}, {\"showLink\": false, \"linkText\": \"Export to plot.ly\", \"plotlyServerURL\": \"https://plot.ly\"})});</script>"
      ],
      "text/vnd.plotly.v1+html": [
       "<div id=\"ff1cd691-2321-417f-8c6c-88c74b085cf6\" style=\"height: 500px; width: 800px;\" class=\"plotly-graph-div\"></div><script type=\"text/javascript\">require([\"plotly\"], function(Plotly) { window.PLOTLYENV=window.PLOTLYENV || {};window.PLOTLYENV.BASE_URL=\"https://plot.ly\";Plotly.newPlot(\"ff1cd691-2321-417f-8c6c-88c74b085cf6\", [{\"mode\": \"lines\", \"name\": \"No\", \"x\": [0.0, 4.0125, 5.0, 6.2375, 6.4375, 6.45, 6.4958, 6.75, 6.8583, 6.95, 6.975, 7.0458, 7.05, 7.0542, 7.125, 7.1417, 7.225, 7.2292, 7.25, 7.3125, 7.4958, 7.5208, 7.55, 7.6292, 7.65, 7.725, 7.7292, 7.7333, 7.7375, 7.7417, 7.75, 7.775, 7.7875, 7.7958, 7.8, 7.8292, 7.8542, 7.875, 7.8792, 7.8875, 7.8958, 7.925, 8.0292, 8.05, 8.1125, 8.1375, 8.1583, 8.3, 8.3625, 8.4042, 8.4333, 8.4583, 8.5167, 8.6542, 8.6625, 8.6833, 8.7125, 8.85, 9.0, 9.2167, 9.225, 9.35, 9.475, 9.4833, 9.5, 9.5875, 9.825, 9.8375, 9.8417, 9.8458, 10.1708, 10.4625, 10.5, 10.5167, 11.1333, 11.2417, 11.5, 12.0, 12.275, 12.2875, 12.35, 12.475, 12.525, 12.65, 12.875, 13.0, 13.4167, 13.5, 13.7917, 13.8583, 13.8625, 14.0, 14.1083, 14.4, 14.4542, 14.4583, 14.5, 15.0, 15.0458, 15.05, 15.1, 15.2458, 15.5, 15.55, 15.7417, 15.75, 15.85, 15.9, 16.0, 16.1, 16.7, 17.4, 17.8, 18.0, 18.75, 18.7875, 19.2583, 19.5, 19.9667, 20.2125, 20.25, 20.525, 20.575, 21.0, 21.075, 21.6792, 22.025, 22.3583, 22.525, 23.0, 23.25, 23.45, 24.0, 24.15, 25.4667, 25.5875, 25.925, 25.9292, 26.0, 26.25, 26.2833, 26.2875, 26.3875, 26.55, 27.0, 27.7208, 27.75, 27.9, 28.5, 28.7125, 29.0, 29.125, 29.7, 30.0, 30.0708, 30.5, 30.6958, 31.0, 31.275, 31.3875, 32.3208, 32.5, 33.0, 33.5, 34.0208, 34.375, 34.6542, 35.0, 35.5, 36.75, 37.0042, 38.5, 39.0, 39.4, 39.6, 39.6875, 40.125, 41.5792, 42.4, 46.9, 47.1, 49.5, 49.5042, 50.0, 50.4958, 51.4792, 51.8625, 52.0, 52.5542, 53.1, 55.0, 55.4417, 55.9, 56.4958, 56.9292, 57.0, 57.9792, 59.4, 61.175, 61.3792, 61.9792, 63.3583, 65.0, 66.6, 69.3, 69.55, 71.0, 71.2833, 73.5, 75.25, 76.2917, 76.7292, 77.2875, 77.9583, 78.2667, 78.85, 79.2, 79.65, 80.0, 81.8583, 82.1708, 83.1583, 83.475, 86.5, 89.1042, 90.0, 91.0792, 93.5, 106.425, 108.9, 110.8833, 113.275, 120.0, 133.65, 134.5, 135.6333, 146.5208, 151.55, 153.4625, 164.8667, 211.3375, 211.5, 221.7792, 227.525, 247.5208, 262.375, 263.0, 512.3292], \"y\": [14, 1, 1, 1, 1, 1, 2, 2, 1, 1, 1, 1, 7, 2, 4, 0, 9, 11, 12, 1, 2, 1, 3, 1, 3, 1, 1, 2, 1, 1, 22, 13, 0, 4, 1, 1, 10, 1, 0, 1, 37, 10, 0, 38, 0, 1, 1, 1, 1, 1, 1, 1, 0, 1, 12, 0, 1, 1, 2, 1, 2, 1, 1, 1, 7, 1, 2, 1, 0, 1, 1, 2, 15, 1, 0, 0, 4, 0, 1, 0, 1, 0, 1, 0, 1, 26, 0, 3, 0, 0, 0, 1, 1, 2, 6, 3, 5, 1, 1, 1, 1, 2, 5, 1, 0, 0, 2, 0, 0, 7, 0, 0, 2, 3, 0, 1, 0, 0, 2, 2, 1, 1, 1, 4, 4, 1, 0, 0, 1, 0, 0, 2, 1, 7, 4, 1, 1, 0, 16, 2, 0, 0, 0, 7, 1, 4, 2, 6, 1, 1, 0, 5, 2, 1, 1, 1, 2, 1, 7, 1, 1, 0, 1, 1, 1, 4, 1, 1, 1, 1, 1, 1, 1, 0, 1, 6, 1, 1, 1, 6, 1, 0, 1, 1, 1, 0, 1, 4, 0, 2, 0, 0, 1, 2, 0, 0, 0, 0, 1, 1, 1, 0, 0, 1, 0, 7, 1, 0, 5, 0, 0, 0, 2, 0, 0, 1, 2, 1, 0, 0, 1, 0, 1, 0, 0, 1, 0, 0, 1, 1, 1, 1, 0, 0, 0, 1, 0, 2, 1, 0, 0, 1, 1, 1, 1, 0, 2, 0], \"type\": \"scatter\", \"uid\": \"d0a03f40-df2e-4f62-a439-d5bc77ba3c53\"}, {\"mode\": \"lines\", \"name\": \"Yes\", \"x\": [0.0, 4.0125, 5.0, 6.2375, 6.4375, 6.45, 6.4958, 6.75, 6.8583, 6.95, 6.975, 7.0458, 7.05, 7.0542, 7.125, 7.1417, 7.225, 7.2292, 7.25, 7.3125, 7.4958, 7.5208, 7.55, 7.6292, 7.65, 7.725, 7.7292, 7.7333, 7.7375, 7.7417, 7.75, 7.775, 7.7875, 7.7958, 7.8, 7.8292, 7.8542, 7.875, 7.8792, 7.8875, 7.8958, 7.925, 8.0292, 8.05, 8.1125, 8.1375, 8.1583, 8.3, 8.3625, 8.4042, 8.4333, 8.4583, 8.5167, 8.6542, 8.6625, 8.6833, 8.7125, 8.85, 9.0, 9.2167, 9.225, 9.35, 9.475, 9.4833, 9.5, 9.5875, 9.825, 9.8375, 9.8417, 9.8458, 10.1708, 10.4625, 10.5, 10.5167, 11.1333, 11.2417, 11.5, 12.0, 12.275, 12.2875, 12.35, 12.475, 12.525, 12.65, 12.875, 13.0, 13.4167, 13.5, 13.7917, 13.8583, 13.8625, 14.0, 14.1083, 14.4, 14.4542, 14.4583, 14.5, 15.0, 15.0458, 15.05, 15.1, 15.2458, 15.5, 15.55, 15.7417, 15.75, 15.85, 15.9, 16.0, 16.1, 16.7, 17.4, 17.8, 18.0, 18.75, 18.7875, 19.2583, 19.5, 19.9667, 20.2125, 20.25, 20.525, 20.575, 21.0, 21.075, 21.6792, 22.025, 22.3583, 22.525, 23.0, 23.25, 23.45, 24.0, 24.15, 25.4667, 25.5875, 25.925, 25.9292, 26.0, 26.25, 26.2833, 26.2875, 26.3875, 26.55, 27.0, 27.7208, 27.75, 27.9, 28.5, 28.7125, 29.0, 29.125, 29.7, 30.0, 30.0708, 30.5, 30.6958, 31.0, 31.275, 31.3875, 32.3208, 32.5, 33.0, 33.5, 34.0208, 34.375, 34.6542, 35.0, 35.5, 36.75, 37.0042, 38.5, 39.0, 39.4, 39.6, 39.6875, 40.125, 41.5792, 42.4, 46.9, 47.1, 49.5, 49.5042, 50.0, 50.4958, 51.4792, 51.8625, 52.0, 52.5542, 53.1, 55.0, 55.4417, 55.9, 56.4958, 56.9292, 57.0, 57.9792, 59.4, 61.175, 61.3792, 61.9792, 63.3583, 65.0, 66.6, 69.3, 69.55, 71.0, 71.2833, 73.5, 75.25, 76.2917, 76.7292, 77.2875, 77.9583, 78.2667, 78.85, 79.2, 79.65, 80.0, 81.8583, 82.1708, 83.1583, 83.475, 86.5, 89.1042, 90.0, 91.0792, 93.5, 106.425, 108.9, 110.8833, 113.275, 120.0, 133.65, 134.5, 135.6333, 146.5208, 151.55, 153.4625, 164.8667, 211.3375, 211.5, 221.7792, 227.525, 247.5208, 262.375, 263.0, 512.3292], \"y\": [1, 0, 0, 0, 0, 0, 0, 0, 0, 0, 1, 0, 0, 0, 0, 1, 3, 4, 1, 0, 1, 0, 1, 0, 1, 0, 0, 2, 1, 0, 12, 3, 1, 2, 0, 1, 3, 0, 4, 0, 1, 8, 1, 5, 1, 0, 0, 0, 0, 0, 0, 0, 1, 0, 1, 1, 0, 0, 0, 0, 0, 1, 0, 0, 2, 1, 0, 0, 1, 0, 0, 0, 9, 0, 3, 2, 0, 1, 0, 1, 2, 4, 0, 1, 0, 16, 1, 1, 1, 1, 1, 0, 0, 0, 1, 0, 2, 0, 0, 0, 0, 3, 3, 0, 2, 1, 2, 2, 1, 2, 2, 1, 0, 0, 3, 1, 4, 2, 0, 0, 1, 2, 1, 2, 0, 0, 1, 2, 0, 4, 2, 0, 1, 1, 0, 0, 0, 2, 15, 4, 1, 3, 1, 8, 1, 1, 2, 0, 0, 0, 2, 0, 1, 5, 1, 4, 0, 2, 0, 3, 0, 1, 2, 0, 0, 0, 0, 0, 3, 1, 1, 0, 3, 1, 1, 0, 0, 2, 0, 0, 0, 1, 1, 0, 0, 1, 1, 3, 3, 3, 2, 1, 1, 5, 2, 2, 2, 1, 0, 0, 0, 1, 2, 1, 2, 0, 1, 1, 0, 1, 1, 3, 0, 3, 2, 1, 2, 2, 2, 1, 1, 3, 1, 3, 2, 3, 2, 2, 1, 1, 3, 2, 4, 2, 2, 2, 2, 2, 2, 2, 3, 0, 0, 3, 1, 2, 2, 3], \"type\": \"scatter\", \"uid\": \"41250f68-27ea-453c-8f57-437aab6887ac\"}], {\"autosize\": false, \"height\": 500, \"title\": {\"text\": \"Survival based on Fare\"}, \"width\": 800, \"xaxis\": {\"title\": {\"text\": \"Fare\"}}, \"yaxis\": {\"title\": {\"text\": \"Number of people\"}}}, {\"showLink\": false, \"linkText\": \"Export to plot.ly\", \"plotlyServerURL\": \"https://plot.ly\"})});</script>"
      ]
     },
     "metadata": {},
     "output_type": "display_data"
    }
   ],
   "source": [
    "Fare = pd.crosstab([train.Survived],train.Fare)\n",
    "plotLine(Fare,'Survival based on Fare')"
   ]
  },
  {
   "cell_type": "code",
   "execution_count": 48,
   "metadata": {
    "_cell_guid": "4a5c57ac-bb02-4c67-afa2-118ca5cf884c",
    "_execution_state": "idle",
    "_uuid": "78930a95d3da1d541df32a11f4669e828b171f44"
   },
   "outputs": [],
   "source": [
    "Fare_freq = test.Fare.dropna().mode()[0]\n",
    "for dataset in train_test_data:\n",
    "    dataset['Fare'] = dataset['Fare'].fillna(Fare_freq)"
   ]
  },
  {
   "cell_type": "markdown",
   "metadata": {
    "_cell_guid": "30ef34b4-d91f-41d7-9e67-ed1183c32556",
    "_uuid": "66205c430208165d36654762a6dcafb560241607"
   },
   "source": [
    "- Fare feature correlation with Survival by pivoting on Fare feature"
   ]
  },
  {
   "cell_type": "code",
   "execution_count": 49,
   "metadata": {
    "_cell_guid": "b70d1c38-c054-4823-989c-8d62e21248a2",
    "_execution_state": "idle",
    "_uuid": "d03e3ad9f14f706d5d57eb96316c88d03b873304"
   },
   "outputs": [
    {
     "data": {
      "text/html": [
       "<div>\n",
       "<style scoped>\n",
       "    .dataframe tbody tr th:only-of-type {\n",
       "        vertical-align: middle;\n",
       "    }\n",
       "\n",
       "    .dataframe tbody tr th {\n",
       "        vertical-align: top;\n",
       "    }\n",
       "\n",
       "    .dataframe thead th {\n",
       "        text-align: right;\n",
       "    }\n",
       "</style>\n",
       "<table border=\"1\" class=\"dataframe\">\n",
       "  <thead>\n",
       "    <tr style=\"text-align: right;\">\n",
       "      <th></th>\n",
       "      <th>FareBins</th>\n",
       "      <th>Survived</th>\n",
       "    </tr>\n",
       "  </thead>\n",
       "  <tbody>\n",
       "    <tr>\n",
       "      <th>1</th>\n",
       "      <td>(7.854, 10.5]</td>\n",
       "      <td>0.201087</td>\n",
       "    </tr>\n",
       "    <tr>\n",
       "      <th>0</th>\n",
       "      <td>(-0.001, 7.854]</td>\n",
       "      <td>0.217877</td>\n",
       "    </tr>\n",
       "    <tr>\n",
       "      <th>2</th>\n",
       "      <td>(10.5, 21.679]</td>\n",
       "      <td>0.424419</td>\n",
       "    </tr>\n",
       "    <tr>\n",
       "      <th>3</th>\n",
       "      <td>(21.679, 39.688]</td>\n",
       "      <td>0.444444</td>\n",
       "    </tr>\n",
       "    <tr>\n",
       "      <th>4</th>\n",
       "      <td>(39.688, 512.329]</td>\n",
       "      <td>0.642045</td>\n",
       "    </tr>\n",
       "  </tbody>\n",
       "</table>\n",
       "</div>"
      ],
      "text/plain": [
       "            FareBins  Survived\n",
       "1      (7.854, 10.5]  0.201087\n",
       "0    (-0.001, 7.854]  0.217877\n",
       "2     (10.5, 21.679]  0.424419\n",
       "3   (21.679, 39.688]  0.444444\n",
       "4  (39.688, 512.329]  0.642045"
      ]
     },
     "execution_count": 49,
     "metadata": {},
     "output_type": "execute_result"
    }
   ],
   "source": [
    "train['FareBins'] = pd.qcut(train['Fare'], 5)\n",
    "train[['FareBins', 'Survived']].groupby(['FareBins'], \n",
    "                                        as_index = False).mean().sort_values(by = 'Survived', ascending = True)"
   ]
  },
  {
   "cell_type": "markdown",
   "metadata": {
    "_cell_guid": "48194690-55d4-49a7-9be7-7edf83b708ae",
    "_uuid": "5e54c04d1bdec03e567dd3c8cb9063e2bebed79a"
   },
   "source": [
    "- Transforming the Fare feature into ordinal values based in the FareBins"
   ]
  },
  {
   "cell_type": "code",
   "execution_count": 50,
   "metadata": {
    "_cell_guid": "00d6d6c2-9ec5-4b7c-b44c-e67c48108451",
    "_execution_state": "idle",
    "_uuid": "d0712b761547204bfdf1a8db0d83b081140bcb1e"
   },
   "outputs": [],
   "source": [
    "for dataset in train_test_data:    \n",
    "    dataset.loc[dataset['Fare']  <=7.854, 'Fare'] = 0\n",
    "    dataset.loc[(dataset['Fare'] > 7.84)   & (dataset['Fare'] <= 10.5), 'Fare'] = 1\n",
    "    dataset.loc[(dataset['Fare'] > 10.5)   & (dataset['Fare'] <= 21.679), 'Fare'] = 2\n",
    "    dataset.loc[(dataset['Fare'] > 21.679) & (dataset['Fare'] <= 39.688), 'Fare'] = 3\n",
    "    dataset.loc[(dataset['Fare'] > 39.688) & (dataset['Fare'] <= 5512.329), 'Fare'] = 4"
   ]
  },
  {
   "cell_type": "code",
   "execution_count": 51,
   "metadata": {
    "_cell_guid": "2ed40153-d054-4a81-8cfc-709b2b5c0323",
    "_execution_state": "idle",
    "_uuid": "e157bf803bc4644746b23cc31f5cf231990d132f"
   },
   "outputs": [
    {
     "data": {
      "text/html": [
       "<div>\n",
       "<style scoped>\n",
       "    .dataframe tbody tr th:only-of-type {\n",
       "        vertical-align: middle;\n",
       "    }\n",
       "\n",
       "    .dataframe tbody tr th {\n",
       "        vertical-align: top;\n",
       "    }\n",
       "\n",
       "    .dataframe thead th {\n",
       "        text-align: right;\n",
       "    }\n",
       "</style>\n",
       "<table border=\"1\" class=\"dataframe\">\n",
       "  <thead>\n",
       "    <tr style=\"text-align: right;\">\n",
       "      <th></th>\n",
       "      <th>Survived</th>\n",
       "      <th>Pclass</th>\n",
       "      <th>Name</th>\n",
       "      <th>Sex</th>\n",
       "      <th>Age</th>\n",
       "      <th>Fare</th>\n",
       "      <th>Embarked</th>\n",
       "      <th>FamilySize</th>\n",
       "    </tr>\n",
       "  </thead>\n",
       "  <tbody>\n",
       "    <tr>\n",
       "      <th>0</th>\n",
       "      <td>0</td>\n",
       "      <td>3</td>\n",
       "      <td>Braund, Mr. Owen Harris</td>\n",
       "      <td>1</td>\n",
       "      <td>2</td>\n",
       "      <td>0.0</td>\n",
       "      <td>0</td>\n",
       "      <td>1</td>\n",
       "    </tr>\n",
       "    <tr>\n",
       "      <th>1</th>\n",
       "      <td>1</td>\n",
       "      <td>1</td>\n",
       "      <td>Cumings, Mrs. John Bradley (Florence Briggs Th...</td>\n",
       "      <td>0</td>\n",
       "      <td>3</td>\n",
       "      <td>4.0</td>\n",
       "      <td>1</td>\n",
       "      <td>1</td>\n",
       "    </tr>\n",
       "    <tr>\n",
       "      <th>2</th>\n",
       "      <td>1</td>\n",
       "      <td>3</td>\n",
       "      <td>Heikkinen, Miss. Laina</td>\n",
       "      <td>0</td>\n",
       "      <td>2</td>\n",
       "      <td>1.0</td>\n",
       "      <td>0</td>\n",
       "      <td>0</td>\n",
       "    </tr>\n",
       "    <tr>\n",
       "      <th>3</th>\n",
       "      <td>1</td>\n",
       "      <td>1</td>\n",
       "      <td>Futrelle, Mrs. Jacques Heath (Lily May Peel)</td>\n",
       "      <td>0</td>\n",
       "      <td>3</td>\n",
       "      <td>4.0</td>\n",
       "      <td>0</td>\n",
       "      <td>1</td>\n",
       "    </tr>\n",
       "    <tr>\n",
       "      <th>4</th>\n",
       "      <td>0</td>\n",
       "      <td>3</td>\n",
       "      <td>Allen, Mr. William Henry</td>\n",
       "      <td>1</td>\n",
       "      <td>3</td>\n",
       "      <td>1.0</td>\n",
       "      <td>0</td>\n",
       "      <td>0</td>\n",
       "    </tr>\n",
       "    <tr>\n",
       "      <th>5</th>\n",
       "      <td>0</td>\n",
       "      <td>3</td>\n",
       "      <td>Moran, Mr. James</td>\n",
       "      <td>1</td>\n",
       "      <td>2</td>\n",
       "      <td>1.0</td>\n",
       "      <td>2</td>\n",
       "      <td>0</td>\n",
       "    </tr>\n",
       "  </tbody>\n",
       "</table>\n",
       "</div>"
      ],
      "text/plain": [
       "   Survived  Pclass                                               Name  Sex  \\\n",
       "0         0       3                            Braund, Mr. Owen Harris    1   \n",
       "1         1       1  Cumings, Mrs. John Bradley (Florence Briggs Th...    0   \n",
       "2         1       3                             Heikkinen, Miss. Laina    0   \n",
       "3         1       1       Futrelle, Mrs. Jacques Heath (Lily May Peel)    0   \n",
       "4         0       3                           Allen, Mr. William Henry    1   \n",
       "5         0       3                                   Moran, Mr. James    1   \n",
       "\n",
       "   Age  Fare  Embarked  FamilySize  \n",
       "0    2   0.0         0           1  \n",
       "1    3   4.0         1           1  \n",
       "2    2   1.0         0           0  \n",
       "3    3   4.0         0           1  \n",
       "4    3   1.0         0           0  \n",
       "5    2   1.0         2           0  "
      ]
     },
     "execution_count": 51,
     "metadata": {},
     "output_type": "execute_result"
    }
   ],
   "source": [
    "train, test = train_test_data[0], train_test_data[1]\n",
    "train = train.drop(['FareBins'], axis = 1)\n",
    "train.head(6)"
   ]
  },
  {
   "cell_type": "code",
   "execution_count": 52,
   "metadata": {
    "_cell_guid": "61f706a0-fd3c-4852-9a4d-120cfe43b0a7",
    "_execution_state": "idle",
    "_uuid": "0d580059724024a9b0852d592684778c0a376a04"
   },
   "outputs": [
    {
     "data": {
      "text/html": [
       "<div>\n",
       "<style scoped>\n",
       "    .dataframe tbody tr th:only-of-type {\n",
       "        vertical-align: middle;\n",
       "    }\n",
       "\n",
       "    .dataframe tbody tr th {\n",
       "        vertical-align: top;\n",
       "    }\n",
       "\n",
       "    .dataframe thead th {\n",
       "        text-align: right;\n",
       "    }\n",
       "</style>\n",
       "<table border=\"1\" class=\"dataframe\">\n",
       "  <thead>\n",
       "    <tr style=\"text-align: right;\">\n",
       "      <th></th>\n",
       "      <th>Pclass</th>\n",
       "      <th>Name</th>\n",
       "      <th>Sex</th>\n",
       "      <th>Age</th>\n",
       "      <th>Fare</th>\n",
       "      <th>Embarked</th>\n",
       "      <th>FamilySize</th>\n",
       "    </tr>\n",
       "  </thead>\n",
       "  <tbody>\n",
       "    <tr>\n",
       "      <th>0</th>\n",
       "      <td>3</td>\n",
       "      <td>Kelly, Mr. James</td>\n",
       "      <td>1</td>\n",
       "      <td>3</td>\n",
       "      <td>0.0</td>\n",
       "      <td>2</td>\n",
       "      <td>0</td>\n",
       "    </tr>\n",
       "    <tr>\n",
       "      <th>1</th>\n",
       "      <td>3</td>\n",
       "      <td>Wilkes, Mrs. James (Ellen Needs)</td>\n",
       "      <td>0</td>\n",
       "      <td>4</td>\n",
       "      <td>0.0</td>\n",
       "      <td>0</td>\n",
       "      <td>1</td>\n",
       "    </tr>\n",
       "    <tr>\n",
       "      <th>2</th>\n",
       "      <td>2</td>\n",
       "      <td>Myles, Mr. Thomas Francis</td>\n",
       "      <td>1</td>\n",
       "      <td>6</td>\n",
       "      <td>1.0</td>\n",
       "      <td>2</td>\n",
       "      <td>0</td>\n",
       "    </tr>\n",
       "    <tr>\n",
       "      <th>3</th>\n",
       "      <td>3</td>\n",
       "      <td>Wirz, Mr. Albert</td>\n",
       "      <td>1</td>\n",
       "      <td>2</td>\n",
       "      <td>1.0</td>\n",
       "      <td>0</td>\n",
       "      <td>0</td>\n",
       "    </tr>\n",
       "    <tr>\n",
       "      <th>4</th>\n",
       "      <td>3</td>\n",
       "      <td>Hirvonen, Mrs. Alexander (Helga E Lindqvist)</td>\n",
       "      <td>0</td>\n",
       "      <td>2</td>\n",
       "      <td>2.0</td>\n",
       "      <td>0</td>\n",
       "      <td>2</td>\n",
       "    </tr>\n",
       "    <tr>\n",
       "      <th>5</th>\n",
       "      <td>3</td>\n",
       "      <td>Svensson, Mr. Johan Cervin</td>\n",
       "      <td>1</td>\n",
       "      <td>1</td>\n",
       "      <td>1.0</td>\n",
       "      <td>0</td>\n",
       "      <td>0</td>\n",
       "    </tr>\n",
       "  </tbody>\n",
       "</table>\n",
       "</div>"
      ],
      "text/plain": [
       "   Pclass                                          Name  Sex  Age  Fare  \\\n",
       "0       3                              Kelly, Mr. James    1    3   0.0   \n",
       "1       3              Wilkes, Mrs. James (Ellen Needs)    0    4   0.0   \n",
       "2       2                     Myles, Mr. Thomas Francis    1    6   1.0   \n",
       "3       3                              Wirz, Mr. Albert    1    2   1.0   \n",
       "4       3  Hirvonen, Mrs. Alexander (Helga E Lindqvist)    0    2   2.0   \n",
       "5       3                    Svensson, Mr. Johan Cervin    1    1   1.0   \n",
       "\n",
       "   Embarked  FamilySize  \n",
       "0         2           0  \n",
       "1         0           1  \n",
       "2         2           0  \n",
       "3         0           0  \n",
       "4         0           2  \n",
       "5         0           0  "
      ]
     },
     "execution_count": 52,
     "metadata": {},
     "output_type": "execute_result"
    }
   ],
   "source": [
    "test.head(6)"
   ]
  },
  {
   "cell_type": "markdown",
   "metadata": {
    "_cell_guid": "23bd171a-4554-47ec-a054-aaf6145cda7c",
    "_uuid": "dc4763e472af083198ba5ff91e1f1bf5a18e375d"
   },
   "source": [
    "##  2. 7. Title"
   ]
  },
  {
   "cell_type": "markdown",
   "metadata": {
    "_cell_guid": "4c3899a4-c24c-4849-a53d-8804eb85849e",
    "_uuid": "91d79bbcc0815e97a8ff111c4f9026b36e0d6598"
   },
   "source": [
    "##### For our data analysis and developing the predictive model, the full name doesn't have importance but I assume the title does.  So, let us extract the title of each person and add a new  feature  \"Title\""
   ]
  },
  {
   "cell_type": "code",
   "execution_count": 53,
   "metadata": {
    "_cell_guid": "34337438-1f1e-434c-ba19-b27b2d1286c4",
    "_execution_state": "idle",
    "_uuid": "3c1f83762a752fca4276c9eec95abe19d6151b3c"
   },
   "outputs": [],
   "source": [
    "def extract_title(df):\n",
    "    # the Name feature includes last name, title, and first name. After splitting \n",
    "    # the title is in the second column or at index 1\n",
    "    df[\"Title\"] = df.Name.apply(lambda x: x.split(',')[1].split('.')[0].strip()) \n",
    "    return df\n",
    "train = extract_title(train)\n",
    "test = extract_title(test)"
   ]
  },
  {
   "cell_type": "code",
   "execution_count": 54,
   "metadata": {
    "_cell_guid": "d2dd9daf-e64d-48a9-97df-208663ed68b4",
    "_execution_state": "idle",
    "_uuid": "0cdd4c49cf17e566588ea9b17ca543121874f1d7"
   },
   "outputs": [
    {
     "data": {
      "image/png": "[encoded data removed]",
      "text/plain": [
       "<Figure size 432x288 with 1 Axes>"
      ]
     },
     "metadata": {},
     "output_type": "display_data"
    }
   ],
   "source": [
    "fig = sns.countplot(x = 'Title', data = train, palette = \"GnBu_d\")\n",
    "fig = plt.setp(fig.get_xticklabels(), rotation = 45)"
   ]
  },
  {
   "cell_type": "markdown",
   "metadata": {
    "_cell_guid": "992fd86f-1dc0-4d1c-aaed-f172d72e3126",
    "_uuid": "7f2573577a3e6bf7a3473a0162ab6c95a49e7505"
   },
   "source": [
    "![](http://)- Looking at the figure, some of the titles were used only once and we will lamped them "
   ]
  },
  {
   "cell_type": "code",
   "execution_count": 55,
   "metadata": {
    "_cell_guid": "050005a7-79bb-4508-a7bb-d94d99f7b8b9",
    "_execution_state": "idle",
    "_uuid": "962e4e1ca335d1488e674640a08ed0382151faaf"
   },
   "outputs": [],
   "source": [
    "#for dset in train:\n",
    "train_test_data = [train, test]\n",
    "for dset in train_test_data:\n",
    "    dset[\"Title\"] = dset[\"Title\"].replace([\"Melkebeke\", \"Countess\", \"Capt\", \"the Countess\", \"Col\", \"Don\",\n",
    "                                         \"Dr\", \"Major\", \"Rev\", \"Sir\", \"Jonkheer\", \"Dona\"] , \"Lamped\")\n",
    "    dset[\"Title\"] = dset[\"Title\"].replace([\"Lady\", \"Mlle\", \"Ms\", \"Mme\"] , \"Miss\")\n"
   ]
  },
  {
   "cell_type": "code",
   "execution_count": 56,
   "metadata": {
    "_cell_guid": "41635146-ab54-45d9-8e6e-8b85a3ded4ff",
    "_execution_state": "idle",
    "_uuid": "0260c83dceaa7b5715c7794243c877d8fbefed34"
   },
   "outputs": [
    {
     "data": {
      "image/png": "[encoded data removed]",
      "text/plain": [
       "<Figure size 432x288 with 1 Axes>"
      ]
     },
     "metadata": {},
     "output_type": "display_data"
    }
   ],
   "source": [
    "fig2 = sns.countplot(x = 'Title', data = train, palette = \"GnBu_d\")\n",
    "fig2 = plt.setp(fig2.get_xticklabels(), rotation = 45)"
   ]
  },
  {
   "cell_type": "markdown",
   "metadata": {
    "_cell_guid": "b400d5a4-e1fa-4e5f-8d0f-6e92db8acfcc",
    "_uuid": "2cf68be4ae4f43202dd96db79fee06f0e4f68223"
   },
   "source": [
    "- Title has Mr, Mrs, Miss, Master, and Lamped categorical variables with the most frequent being Mr\n",
    "- Title feature correlation with survival by pivoting on title feature"
   ]
  },
  {
   "cell_type": "code",
   "execution_count": 57,
   "metadata": {
    "_cell_guid": "8ff96029-e37a-4cab-b0eb-fbee6480bcdc",
    "_execution_state": "idle",
    "_uuid": "1e4d49b90e46c8b2a536c2943860e6e3f4dea133"
   },
   "outputs": [
    {
     "data": {
      "text/html": [
       "<div>\n",
       "<style scoped>\n",
       "    .dataframe tbody tr th:only-of-type {\n",
       "        vertical-align: middle;\n",
       "    }\n",
       "\n",
       "    .dataframe tbody tr th {\n",
       "        vertical-align: top;\n",
       "    }\n",
       "\n",
       "    .dataframe thead th {\n",
       "        text-align: right;\n",
       "    }\n",
       "</style>\n",
       "<table border=\"1\" class=\"dataframe\">\n",
       "  <thead>\n",
       "    <tr style=\"text-align: right;\">\n",
       "      <th></th>\n",
       "      <th>Title</th>\n",
       "      <th>Survived</th>\n",
       "    </tr>\n",
       "  </thead>\n",
       "  <tbody>\n",
       "    <tr>\n",
       "      <th>4</th>\n",
       "      <td>Mrs</td>\n",
       "      <td>0.792000</td>\n",
       "    </tr>\n",
       "    <tr>\n",
       "      <th>2</th>\n",
       "      <td>Miss</td>\n",
       "      <td>0.705882</td>\n",
       "    </tr>\n",
       "    <tr>\n",
       "      <th>1</th>\n",
       "      <td>Master</td>\n",
       "      <td>0.575000</td>\n",
       "    </tr>\n",
       "    <tr>\n",
       "      <th>0</th>\n",
       "      <td>Lamped</td>\n",
       "      <td>0.318182</td>\n",
       "    </tr>\n",
       "    <tr>\n",
       "      <th>3</th>\n",
       "      <td>Mr</td>\n",
       "      <td>0.156673</td>\n",
       "    </tr>\n",
       "  </tbody>\n",
       "</table>\n",
       "</div>"
      ],
      "text/plain": [
       "    Title  Survived\n",
       "4     Mrs  0.792000\n",
       "2    Miss  0.705882\n",
       "1  Master  0.575000\n",
       "0  Lamped  0.318182\n",
       "3      Mr  0.156673"
      ]
     },
     "execution_count": 57,
     "metadata": {},
     "output_type": "execute_result"
    }
   ],
   "source": [
    "train[['Title', 'Survived']].groupby(['Title'], \n",
    "                                        as_index = False).mean().sort_values(by = 'Survived', ascending = False)"
   ]
  },
  {
   "cell_type": "markdown",
   "metadata": {
    "_cell_guid": "eeca56a7-d86e-4407-9903-62fbaf4ef0c6",
    "_uuid": "99653606a6b302fe10df7ddb85041aea46839695"
   },
   "source": [
    "- Map the categorical title feature into numerical values (Mr = 1, Miss = 2, Mrs = 3, Master = 4, Lamped = 5) "
   ]
  },
  {
   "cell_type": "code",
   "execution_count": 58,
   "metadata": {
    "_cell_guid": "6d1b4d35-7860-48e7-ade2-aedc615c8f69",
    "_execution_state": "idle",
    "_uuid": "fbcd137f460dec8271b2c14bf55420a808f8a61d"
   },
   "outputs": [
    {
     "data": {
      "text/html": [
       "<div>\n",
       "<style scoped>\n",
       "    .dataframe tbody tr th:only-of-type {\n",
       "        vertical-align: middle;\n",
       "    }\n",
       "\n",
       "    .dataframe tbody tr th {\n",
       "        vertical-align: top;\n",
       "    }\n",
       "\n",
       "    .dataframe thead th {\n",
       "        text-align: right;\n",
       "    }\n",
       "</style>\n",
       "<table border=\"1\" class=\"dataframe\">\n",
       "  <thead>\n",
       "    <tr style=\"text-align: right;\">\n",
       "      <th></th>\n",
       "      <th>Survived</th>\n",
       "      <th>Pclass</th>\n",
       "      <th>Name</th>\n",
       "      <th>Sex</th>\n",
       "      <th>Age</th>\n",
       "      <th>Fare</th>\n",
       "      <th>Embarked</th>\n",
       "      <th>FamilySize</th>\n",
       "      <th>Title</th>\n",
       "    </tr>\n",
       "  </thead>\n",
       "  <tbody>\n",
       "    <tr>\n",
       "      <th>0</th>\n",
       "      <td>0</td>\n",
       "      <td>3</td>\n",
       "      <td>Braund, Mr. Owen Harris</td>\n",
       "      <td>1</td>\n",
       "      <td>2</td>\n",
       "      <td>0.0</td>\n",
       "      <td>0</td>\n",
       "      <td>1</td>\n",
       "      <td>1</td>\n",
       "    </tr>\n",
       "    <tr>\n",
       "      <th>1</th>\n",
       "      <td>1</td>\n",
       "      <td>1</td>\n",
       "      <td>Cumings, Mrs. John Bradley (Florence Briggs Th...</td>\n",
       "      <td>0</td>\n",
       "      <td>3</td>\n",
       "      <td>4.0</td>\n",
       "      <td>1</td>\n",
       "      <td>1</td>\n",
       "      <td>3</td>\n",
       "    </tr>\n",
       "    <tr>\n",
       "      <th>2</th>\n",
       "      <td>1</td>\n",
       "      <td>3</td>\n",
       "      <td>Heikkinen, Miss. Laina</td>\n",
       "      <td>0</td>\n",
       "      <td>2</td>\n",
       "      <td>1.0</td>\n",
       "      <td>0</td>\n",
       "      <td>0</td>\n",
       "      <td>2</td>\n",
       "    </tr>\n",
       "    <tr>\n",
       "      <th>3</th>\n",
       "      <td>1</td>\n",
       "      <td>1</td>\n",
       "      <td>Futrelle, Mrs. Jacques Heath (Lily May Peel)</td>\n",
       "      <td>0</td>\n",
       "      <td>3</td>\n",
       "      <td>4.0</td>\n",
       "      <td>0</td>\n",
       "      <td>1</td>\n",
       "      <td>3</td>\n",
       "    </tr>\n",
       "    <tr>\n",
       "      <th>4</th>\n",
       "      <td>0</td>\n",
       "      <td>3</td>\n",
       "      <td>Allen, Mr. William Henry</td>\n",
       "      <td>1</td>\n",
       "      <td>3</td>\n",
       "      <td>1.0</td>\n",
       "      <td>0</td>\n",
       "      <td>0</td>\n",
       "      <td>1</td>\n",
       "    </tr>\n",
       "  </tbody>\n",
       "</table>\n",
       "</div>"
      ],
      "text/plain": [
       "   Survived  Pclass                                               Name  Sex  \\\n",
       "0         0       3                            Braund, Mr. Owen Harris    1   \n",
       "1         1       1  Cumings, Mrs. John Bradley (Florence Briggs Th...    0   \n",
       "2         1       3                             Heikkinen, Miss. Laina    0   \n",
       "3         1       1       Futrelle, Mrs. Jacques Heath (Lily May Peel)    0   \n",
       "4         0       3                           Allen, Mr. William Henry    1   \n",
       "\n",
       "   Age  Fare  Embarked  FamilySize  Title  \n",
       "0    2   0.0         0           1      1  \n",
       "1    3   4.0         1           1      3  \n",
       "2    2   1.0         0           0      2  \n",
       "3    3   4.0         0           1      3  \n",
       "4    3   1.0         0           0      1  "
      ]
     },
     "execution_count": 58,
     "metadata": {},
     "output_type": "execute_result"
    }
   ],
   "source": [
    "for dataset in train_test_data:\n",
    "    dataset['Title'] = dataset['Title'].map({'Mr': 1, 'Miss': 2, 'Mrs': 3, \n",
    "                                             'Master': 4, 'Lamped': 5}).astype(int)\n",
    "train.head()"
   ]
  },
  {
   "cell_type": "code",
   "execution_count": 59,
   "metadata": {
    "_cell_guid": "31959186-31ec-4dd0-a5b0-f31d904e8e02",
    "_execution_state": "idle",
    "_uuid": "f5595ba17e563587d82f52c761d3b7d2ed923f75"
   },
   "outputs": [
    {
     "data": {
      "text/html": [
       "<div>\n",
       "<style scoped>\n",
       "    .dataframe tbody tr th:only-of-type {\n",
       "        vertical-align: middle;\n",
       "    }\n",
       "\n",
       "    .dataframe tbody tr th {\n",
       "        vertical-align: top;\n",
       "    }\n",
       "\n",
       "    .dataframe thead th {\n",
       "        text-align: right;\n",
       "    }\n",
       "</style>\n",
       "<table border=\"1\" class=\"dataframe\">\n",
       "  <thead>\n",
       "    <tr style=\"text-align: right;\">\n",
       "      <th></th>\n",
       "      <th>Survived</th>\n",
       "      <th>Pclass</th>\n",
       "      <th>Sex</th>\n",
       "      <th>Age</th>\n",
       "      <th>Fare</th>\n",
       "      <th>Embarked</th>\n",
       "      <th>FamilySize</th>\n",
       "      <th>Title</th>\n",
       "    </tr>\n",
       "  </thead>\n",
       "  <tbody>\n",
       "    <tr>\n",
       "      <th>0</th>\n",
       "      <td>0</td>\n",
       "      <td>3</td>\n",
       "      <td>1</td>\n",
       "      <td>2</td>\n",
       "      <td>0.0</td>\n",
       "      <td>0</td>\n",
       "      <td>1</td>\n",
       "      <td>1</td>\n",
       "    </tr>\n",
       "    <tr>\n",
       "      <th>1</th>\n",
       "      <td>1</td>\n",
       "      <td>1</td>\n",
       "      <td>0</td>\n",
       "      <td>3</td>\n",
       "      <td>4.0</td>\n",
       "      <td>1</td>\n",
       "      <td>1</td>\n",
       "      <td>3</td>\n",
       "    </tr>\n",
       "    <tr>\n",
       "      <th>2</th>\n",
       "      <td>1</td>\n",
       "      <td>3</td>\n",
       "      <td>0</td>\n",
       "      <td>2</td>\n",
       "      <td>1.0</td>\n",
       "      <td>0</td>\n",
       "      <td>0</td>\n",
       "      <td>2</td>\n",
       "    </tr>\n",
       "    <tr>\n",
       "      <th>3</th>\n",
       "      <td>1</td>\n",
       "      <td>1</td>\n",
       "      <td>0</td>\n",
       "      <td>3</td>\n",
       "      <td>4.0</td>\n",
       "      <td>0</td>\n",
       "      <td>1</td>\n",
       "      <td>3</td>\n",
       "    </tr>\n",
       "    <tr>\n",
       "      <th>4</th>\n",
       "      <td>0</td>\n",
       "      <td>3</td>\n",
       "      <td>1</td>\n",
       "      <td>3</td>\n",
       "      <td>1.0</td>\n",
       "      <td>0</td>\n",
       "      <td>0</td>\n",
       "      <td>1</td>\n",
       "    </tr>\n",
       "  </tbody>\n",
       "</table>\n",
       "</div>"
      ],
      "text/plain": [
       "   Survived  Pclass  Sex  Age  Fare  Embarked  FamilySize  Title\n",
       "0         0       3    1    2   0.0         0           1      1\n",
       "1         1       1    0    3   4.0         1           1      3\n",
       "2         1       3    0    2   1.0         0           0      2\n",
       "3         1       1    0    3   4.0         0           1      3\n",
       "4         0       3    1    3   1.0         0           0      1"
      ]
     },
     "execution_count": 59,
     "metadata": {},
     "output_type": "execute_result"
    }
   ],
   "source": [
    "train.drop(['Name'], axis = 1, inplace = True)\n",
    "test.drop(['Name'], axis=1, inplace = True)\n",
    "train.head()"
   ]
  },
  {
   "cell_type": "markdown",
   "metadata": {
    "_cell_guid": "46767f57-d141-4853-b207-9fc2f8ad8fce",
    "_uuid": "ceb61121a0677976ba61ccb12815f16bf32b8d72"
   },
   "source": [
    "## 2.8 Heat map for correlation between features"
   ]
  },
  {
   "cell_type": "markdown",
   "metadata": {
    "_cell_guid": "bef022ea-2aa9-4d3a-9728-b915bd3f08e4",
    "_uuid": "0265bfa17872cd2f9baac369f8cf0f52ad82cc52"
   },
   "source": [
    "In the next figure, we will see the correlation among all features using a heat map."
   ]
  },
  {
   "cell_type": "code",
   "execution_count": 60,
   "metadata": {
    "_cell_guid": "b08ef066-43fb-483a-8409-4acf32800f9f",
    "_execution_state": "idle",
    "_uuid": "e2700b477371033843913b23007e94e8e79956a6"
   },
   "outputs": [
    {
     "data": {
      "text/plain": [
       "<matplotlib.axes._subplots.AxesSubplot at 0x1a24994320>"
      ]
     },
     "execution_count": 60,
     "metadata": {},
     "output_type": "execute_result"
    },
    {
     "data": {
      "image/png": "[encoded data removed]",
      "text/plain": [
       "<Figure size 864x864 with 2 Axes>"
      ]
     },
     "metadata": {},
     "output_type": "display_data"
    }
   ],
   "source": [
    "colormap = plt.cm.viridis\n",
    "plt.figure(figsize=(12,12))\n",
    "plt.title('Correlation between Features', y=1.05, size = 15)\n",
    "sns.heatmap(train.corr(),\n",
    "            linewidths=0.1, \n",
    "            vmax=1.0, \n",
    "            square=True, \n",
    "            cmap=colormap, \n",
    "            linecolor='white', \n",
    "            annot=True)"
   ]
  },
  {
   "cell_type": "markdown",
   "metadata": {
    "_cell_guid": "0ae29fca-9153-4290-b802-90c3c369fca7",
    "_uuid": "d402b68dcdf65c292092e646ba147a823c4943c9"
   },
   "source": [
    "The figure shows the linear relationship between the individual features vs survival and also between each feature. Example, Pclass vs Survival corr_coef is - 0.34 that means they have -ve leaner relationship. Pclass = 1 has higher survival rate than Pclass = 3.  +Ve corr_coef_ mean the two variables have +ve linear relationship and -ve mean they have -ve linear relationship (slope = -ve), close to zero mean they are not correlated, close to +1 or -1 mean they are strongly positively and negatively correlated, respectively. "
   ]
  },
  {
   "cell_type": "markdown",
   "metadata": {
    "_cell_guid": "cd6b1065-987d-4014-96db-328dac033dca",
    "_uuid": "e82e060676da2c9416befffb3c97b7780aab123f"
   },
   "source": [
    "# 3. Machine Learning Algorithms\n",
    "\n",
    "We have gained some insights from the EDA part. But with that, we cannot accurately predict or tell whether a passenger will survive or die. So now we will predict the whether the Passenger will survive or not using some great Classification Algorithms.Following are the algorithms I will use to make the model:\n",
    "\n",
    "1. Logistic Regression\n",
    "\n",
    "2. Support Vector Machines (Linear and radial)\n",
    "\n",
    "3. Random Forest\n",
    "\n",
    "4. K-Nearest Neighbours\n",
    "\n",
    "5. Naive Bayes\n",
    "\n",
    "6. Decision Tree\n",
    "\n",
    "7. Logistic Regression\n",
    "\n",
    "8. Perceptron\n",
    "\n",
    "9. Stochastic Gradient Descent"
   ]
  },
  {
   "cell_type": "markdown",
   "metadata": {
    "_cell_guid": "7b82936f-84f0-41fe-8c30-3664b32510e5",
    "_uuid": "b422afdecde02edf51391158a65abfbe01df48af"
   },
   "source": [
    "Next, I will feed these features into various classification algorithms to determine the best performance using a simple framework: **Split, Fit, Predict, Score It.**"
   ]
  },
  {
   "cell_type": "code",
   "execution_count": 61,
   "metadata": {
    "_cell_guid": "0d841004-a466-421c-97cf-31e3046e4664",
    "_uuid": "a689beddfe63270136523d00ea7a1b774a52b26a"
   },
   "outputs": [],
   "source": [
    "# Split data to be used in the models\n",
    "# Create matrix of features\n",
    "x = train.drop('Survived', axis = 1) # grabs everything else but 'Survived'\n",
    "\n",
    "# Create target variable\n",
    "y = train['Survived'] # y is the column we're trying to predict\n",
    "\n",
    "# Use x and y variables to split the training data into train and test set\n",
    "from sklearn.model_selection import train_test_split\n",
    "x_train, x_test, y_train, y_test = train_test_split(x, y, test_size = .20, random_state = 101)"
   ]
  },
  {
   "cell_type": "code",
   "execution_count": 62,
   "metadata": {},
   "outputs": [
    {
     "name": "stdout",
     "output_type": "stream",
     "text": [
      "0.6320224719101124\n",
      "0.4853859202714164\n"
     ]
    }
   ],
   "source": [
    "from sklearn.metrics import roc_curve, auc\n",
    "from sklearn.metrics import roc_auc_score\n",
    "\n",
    "rand_class = np.random.choice([0, 1], size=y_train.shape)\n",
    "dummy_class = np.ones(shape=y_train.shape) - 1\n",
    "acc = np.sum(y_train == dummy_class)/len(y_train)\n",
    "print(acc)\n",
    "print(roc_auc_score(y_train, rand_class))"
   ]
  },
  {
   "cell_type": "markdown",
   "metadata": {},
   "source": [
    "Random and dummy classifiers metrics, we should not do worse than that !"
   ]
  },
  {
   "cell_type": "markdown",
   "metadata": {},
   "source": [
    "## 3.1. Logistic Regression"
   ]
  },
  {
   "cell_type": "code",
   "execution_count": 63,
   "metadata": {},
   "outputs": [
    {
     "name": "stdout",
     "output_type": "stream",
     "text": [
      "The accuracy of the Logistic Regression is 0.8044692737430168\n",
      "--------------------------------------------------------------------------------\n",
      "Classification Report:\n",
      "             precision    recall  f1-score   support\n",
      "\n",
      "          0       0.78      0.91      0.84        99\n",
      "          1       0.86      0.68      0.76        80\n",
      "\n",
      "avg / total       0.81      0.80      0.80       179\n",
      "\n",
      "--------------------------------------------------------------------------------\n",
      "ROC : 0.871 %\n"
     ]
    }
   ],
   "source": [
    "from sklearn import metrics #accuracy measure\n",
    "\n",
    "model = LogisticRegression()\n",
    "model.fit(x_train,y_train)\n",
    "prediction1 = model.predict(x_test)\n",
    "\n",
    "#Accuracy\n",
    "accuracy1 = metrics.accuracy_score(prediction1,y_test)\n",
    "print('The accuracy of the Logistic Regression is',accuracy1)\n",
    "\n",
    "print('--'*40)\n",
    "\n",
    "# Classification Report\n",
    "print('Classification Report:')\n",
    "print(classification_report(y_test,prediction1))\n",
    "\n",
    "print('--'*40)\n",
    "\n",
    "# Determine the false positive and true positive rates\n",
    "FPR, TPR, _ = roc_curve(y_test, model.predict_proba(x_test)[:,1])\n",
    "\n",
    "# Calculate the AUC\n",
    "roc_auc = auc(FPR, TPR)\n",
    "print ('ROC : %0.3f' % roc_auc , '%')"
   ]
  },
  {
   "cell_type": "markdown",
   "metadata": {},
   "source": [
    "## 3.2.1. Support Vector Machines Linear"
   ]
  },
  {
   "cell_type": "code",
   "execution_count": 64,
   "metadata": {},
   "outputs": [
    {
     "name": "stdout",
     "output_type": "stream",
     "text": [
      "Accuracy for linear SVM is 0.7988826815642458\n",
      "--------------------------------------------------------------------------------\n",
      "Classification Report\n",
      "             precision    recall  f1-score   support\n",
      "\n",
      "          0       0.78      0.88      0.83        99\n",
      "          1       0.82      0.70      0.76        80\n",
      "\n",
      "avg / total       0.80      0.80      0.80       179\n",
      "\n",
      "--------------------------------------------------------------------------------\n",
      "ROC : 0.869 %\n"
     ]
    }
   ],
   "source": [
    "from sklearn import svm #support vector Machine\n",
    "\n",
    "model=svm.SVC(kernel='linear',C=0.1,gamma=0.1, probability= True)\n",
    "model.fit(x_train,y_train)\n",
    "prediction2=model.predict(x_test)\n",
    "\n",
    "#Accuracy\n",
    "accuracy2 = metrics.accuracy_score(prediction2,y_test)\n",
    "print('Accuracy for linear SVM is',accuracy2)\n",
    "\n",
    "print('--'*40)\n",
    "\n",
    "# Classification Report\n",
    "print('Classification Report')\n",
    "print(classification_report(y_test,prediction2))\n",
    "\n",
    "print('--'*40)\n",
    "\n",
    "# Determine the false positive and true positive rates\n",
    "FPR, TPR, _ = roc_curve(y_test, model.predict_proba(x_test)[:,1])\n",
    "\n",
    "# Calculate the AUC\n",
    "roc_auc = auc(FPR, TPR)\n",
    "print ('ROC : %0.3f' % roc_auc , '%')"
   ]
  },
  {
   "cell_type": "markdown",
   "metadata": {},
   "source": [
    "## 3.2.2. Support Vector Machines Rbf"
   ]
  },
  {
   "cell_type": "code",
   "execution_count": 65,
   "metadata": {},
   "outputs": [
    {
     "name": "stdout",
     "output_type": "stream",
     "text": [
      "Accuracy for rbf SVM is  0.8324022346368715\n",
      "--------------------------------------------------------------------------------\n",
      "Classification Report\n",
      "             precision    recall  f1-score   support\n",
      "\n",
      "          0       0.79      0.94      0.86        99\n",
      "          1       0.90      0.70      0.79        80\n",
      "\n",
      "avg / total       0.84      0.83      0.83       179\n",
      "\n",
      "--------------------------------------------------------------------------------\n",
      "ROC : 0.885 %\n"
     ]
    }
   ],
   "source": [
    "model=svm.SVC(kernel='rbf',C=1,gamma=0.1, probability=True)\n",
    "model.fit(x_train,y_train)\n",
    "prediction3=model.predict(x_test)\n",
    "\n",
    "#Accuracy\n",
    "accuracy3 = metrics.accuracy_score(prediction3,y_test)\n",
    "print('Accuracy for rbf SVM is ',accuracy3)\n",
    "\n",
    "print('--'*40)\n",
    "\n",
    "# Classification Report\n",
    "print('Classification Report')\n",
    "print(classification_report(y_test,prediction3))\n",
    "\n",
    "print('--'*40)\n",
    "\n",
    "# Determine the false positive and true positive rates\n",
    "FPR, TPR, _ = roc_curve(y_test, model.predict_proba(x_test)[:,1])\n",
    "\n",
    "# Calculate the AUC\n",
    "roc_auc = auc(FPR, TPR)\n",
    "print ('ROC : %0.3f' % roc_auc , '%')"
   ]
  },
  {
   "cell_type": "markdown",
   "metadata": {},
   "source": [
    "## 3.3. Decision Tree"
   ]
  },
  {
   "cell_type": "code",
   "execution_count": 66,
   "metadata": {},
   "outputs": [
    {
     "name": "stdout",
     "output_type": "stream",
     "text": [
      "The accuracy of the Decision Tree is 0.7988826815642458\n",
      "--------------------------------------------------------------------------------\n",
      "Classification Report\n",
      "             precision    recall  f1-score   support\n",
      "\n",
      "          0       0.77      0.90      0.83        99\n",
      "          1       0.84      0.68      0.75        80\n",
      "\n",
      "avg / total       0.81      0.80      0.80       179\n",
      "\n",
      "--------------------------------------------------------------------------------\n",
      "ROC : 0.798 %\n"
     ]
    }
   ],
   "source": [
    "model = DecisionTreeClassifier()\n",
    "model.fit(x_train,y_train)\n",
    "prediction4 = model.predict(x_test)\n",
    "\n",
    "#Accuracy\n",
    "accuracy4 = metrics.accuracy_score(prediction4,y_test)\n",
    "print('The accuracy of the Decision Tree is',accuracy4)\n",
    "\n",
    "print('--'*40)\n",
    "\n",
    "# Classification Report\n",
    "print('Classification Report')\n",
    "print(classification_report(y_test,prediction4))\n",
    "\n",
    "print('--'*40)\n",
    "\n",
    "# Determine the false positive and true positive rates\n",
    "FPR, TPR, _ = roc_curve(y_test, model.predict_proba(x_test)[:,1])\n",
    "\n",
    "# Calculate the AUC\n",
    "roc_auc = auc(FPR, TPR)\n",
    "print ('ROC : %0.3f' % roc_auc , '%')"
   ]
  },
  {
   "cell_type": "markdown",
   "metadata": {},
   "source": [
    "## 3.4. K-Nearest Neighbours (KNN)"
   ]
  },
  {
   "cell_type": "code",
   "execution_count": 67,
   "metadata": {},
   "outputs": [
    {
     "data": {
      "text/plain": [
       "array([[ 0.82737724,  0.73769513, -0.27924861, ..., -0.56883712,\n",
       "         0.05915988, -0.70777314],\n",
       "       [-1.56610693, -1.35557354,  0.4816398 , ...,  1.00518113,\n",
       "         0.05915988,  1.24765591],\n",
       "       [ 0.82737724, -1.35557354, -0.27924861, ..., -0.56883712,\n",
       "        -0.56097483,  0.26994139],\n",
       "       ...,\n",
       "       [ 0.82737724, -1.35557354, -0.27924861, ..., -0.56883712,\n",
       "         1.29942929,  0.26994139],\n",
       "       [-1.56610693,  0.73769513, -0.27924861, ...,  1.00518113,\n",
       "        -0.56097483, -0.70777314],\n",
       "       [ 0.82737724,  0.73769513,  0.4816398 , ...,  2.57919938,\n",
       "        -0.56097483, -0.70777314]])"
      ]
     },
     "execution_count": 67,
     "metadata": {},
     "output_type": "execute_result"
    }
   ],
   "source": [
    "# Standardize the Variables\n",
    "\n",
    "# Import StandardScaler\n",
    "from sklearn.preprocessing import StandardScaler\n",
    "\n",
    "# Create instance of standard scaler\n",
    "scaler = StandardScaler()\n",
    "\n",
    "# Fit scaler object to feature columns\n",
    "scaler.fit(train.drop('Survived', axis = 1)) # Everything but target variable \n",
    "\n",
    "# Use scaler object to do a transform columns\n",
    "scaled_features = scaler.transform(train.drop('Survived', axis = 1)) # performs the standardization by centering and scaling\n",
    "scaled_features"
   ]
  },
  {
   "cell_type": "code",
   "execution_count": 68,
   "metadata": {},
   "outputs": [],
   "source": [
    "# Use scaled features variable to re-create a features dataframe\n",
    "df_feat = pd.DataFrame(scaled_features, columns = train.columns[:-1])"
   ]
  },
  {
   "cell_type": "code",
   "execution_count": 69,
   "metadata": {},
   "outputs": [],
   "source": [
    "# Split\n",
    "\n",
    "# Import\n",
    "from sklearn.model_selection import train_test_split\n",
    "\n",
    "# Create matrix of features\n",
    "x = df_feat\n",
    "\n",
    "# Create target variable\n",
    "y = train['Survived']\n",
    "\n",
    "x_train, x_test, y_train, y_test = train_test_split(x, y, test_size = .20, random_state = 101)"
   ]
  },
  {
   "cell_type": "code",
   "execution_count": 70,
   "metadata": {},
   "outputs": [
    {
     "name": "stdout",
     "output_type": "stream",
     "text": [
      "The accuracy of the KNN is 0.8044692737430168\n",
      "--------------------------------------------------------------------------------\n",
      "Classification Report\n",
      "             precision    recall  f1-score   support\n",
      "\n",
      "          0       0.78      0.91      0.84        99\n",
      "          1       0.86      0.68      0.76        80\n",
      "\n",
      "avg / total       0.81      0.80      0.80       179\n",
      "\n",
      "--------------------------------------------------------------------------------\n",
      "ROC : 0.870 %\n"
     ]
    }
   ],
   "source": [
    "model = KNeighborsClassifier() \n",
    "model.fit(x_train,y_train)\n",
    "prediction5 = model.predict(x_test)\n",
    "\n",
    "#Accuracy\n",
    "accuracy5 = metrics.accuracy_score(prediction5,y_test)\n",
    "print('The accuracy of the KNN is',metrics.accuracy_score(prediction5,y_test))\n",
    "\n",
    "print('--'*40)\n",
    "\n",
    "# Classification Report\n",
    "print('Classification Report')\n",
    "print(classification_report(y_test,prediction5))\n",
    "\n",
    "print('--'*40)\n",
    "\n",
    "# Determine the false positive and true positive rates\n",
    "FPR, TPR, _ = roc_curve(y_test, model.predict_proba(x_test)[:,1])\n",
    "\n",
    "# Calculate the AUC\n",
    "roc_auc = auc(FPR, TPR)\n",
    "print ('ROC : %0.3f' % roc_auc , '%')"
   ]
  },
  {
   "cell_type": "markdown",
   "metadata": {},
   "source": [
    "**KNN Parameter Tuning**  \n",
    "With a precision of 80.44%, the model's performance is accepatable using k = 5, but could be improved by choosing a better k value.  \n",
    "\n",
    "The best way to identify the optimal k value is with the 'Elbow' method, which interates many models using different k values and plots their error rates. The k with the lowest error rate is the optimal value we want to use.  "
   ]
  },
  {
   "cell_type": "code",
   "execution_count": 71,
   "metadata": {},
   "outputs": [
    {
     "data": {
      "image/png": "[encoded data removed]",
      "text/plain": [
       "<Figure size 720x432 with 1 Axes>"
      ]
     },
     "metadata": {},
     "output_type": "display_data"
    }
   ],
   "source": [
    "# Function\n",
    "error_rate = []\n",
    "\n",
    "for i in range (1,40):\n",
    "    knn = KNeighborsClassifier(n_neighbors = i)\n",
    "    knn.fit(x_train, y_train)\n",
    "    pred_i = knn.predict(x_test)\n",
    "    error_rate.append(np.mean(pred_i != y_test))\n",
    "\n",
    "# Plot error rate\n",
    "plt.figure(figsize = (10,6))\n",
    "plt.plot(range(1,40), error_rate, color = 'blue', linestyle = '--', marker = 'o', \n",
    "        markerfacecolor = 'green', markersize = 10)\n",
    "\n",
    "plt.title('Error Rate vs K Value')\n",
    "plt.xlabel('K')\n",
    "plt.ylabel('Error Rate')\n",
    "plt.show()"
   ]
  },
  {
   "cell_type": "markdown",
   "metadata": {},
   "source": [
    "At k=9, the error rate is at it's lowest, making 9 the optimal value for k.  I will retrain and test the model accordingly.  "
   ]
  },
  {
   "cell_type": "code",
   "execution_count": 72,
   "metadata": {},
   "outputs": [
    {
     "data": {
      "text/plain": [
       "KNeighborsClassifier(algorithm='auto', leaf_size=30, metric='minkowski',\n",
       "           metric_params=None, n_jobs=1, n_neighbors=9, p=2,\n",
       "           weights='uniform')"
      ]
     },
     "execution_count": 72,
     "metadata": {},
     "output_type": "execute_result"
    }
   ],
   "source": [
    "# Fit new KNN\n",
    "# Create model object\n",
    "model = KNeighborsClassifier(n_neighbors = 9)\n",
    "\n",
    "# Fit new KNN on training data\n",
    "model.fit(x_train, y_train)"
   ]
  },
  {
   "cell_type": "code",
   "execution_count": 73,
   "metadata": {},
   "outputs": [],
   "source": [
    "# Predict new KNN\n",
    "prediction5b = model.predict(x_test)"
   ]
  },
  {
   "cell_type": "code",
   "execution_count": 74,
   "metadata": {},
   "outputs": [
    {
     "name": "stdout",
     "output_type": "stream",
     "text": [
      "K-Nearest Neighbors(KNN)\n",
      "k = 9\n",
      "--------------------------------------------------------------------------------\n",
      "The accuracy of the KNN is 0.8435754189944135\n",
      "--------------------------------------------------------------------------------\n",
      "Classfication Report              precision    recall  f1-score   support\n",
      "\n",
      "          0       0.80      0.96      0.87        99\n",
      "          1       0.93      0.70      0.80        80\n",
      "\n",
      "avg / total       0.86      0.84      0.84       179\n",
      "\n",
      "--------------------------------------------------------------------------------\n",
      "ROC : 0.882 %\n"
     ]
    }
   ],
   "source": [
    "# Score it with new KNN\n",
    "print('K-Nearest Neighbors(KNN)')\n",
    "print('k = 9')\n",
    "\n",
    "print('--'*40)\n",
    "\n",
    "#Accuracy\n",
    "accuracy5b = metrics.accuracy_score(prediction5b,y_test)\n",
    "print('The accuracy of the KNN is',metrics.accuracy_score(prediction5b,y_test))\n",
    "\n",
    "# Classification Report\n",
    "print('--'*40)\n",
    "print('Classfication Report',classification_report(y_test, prediction5b))\n",
    "\n",
    "#Roc Accuracy\n",
    "print('--'*40)\n",
    "\n",
    "# Determine the false positive and true positive rates\n",
    "FPR, TPR, _ = roc_curve(y_test, model.predict_proba(x_test)[:,1])\n",
    "\n",
    "# Calculate the AUC\n",
    "roc_auc = auc(FPR, TPR)\n",
    "print ('ROC : %0.3f' % roc_auc , '%')"
   ]
  },
  {
   "cell_type": "markdown",
   "metadata": {},
   "source": [
    "## 3.5. Gaussian Naive Bayes"
   ]
  },
  {
   "cell_type": "code",
   "execution_count": 75,
   "metadata": {},
   "outputs": [
    {
     "name": "stdout",
     "output_type": "stream",
     "text": [
      "The accuracy of the NaiveBayes is 0.8044692737430168\n",
      "--------------------------------------------------------------------------------\n",
      "Classification Report\n",
      "             precision    recall  f1-score   support\n",
      "\n",
      "          0       0.81      0.84      0.83        99\n",
      "          1       0.79      0.76      0.78        80\n",
      "\n",
      "avg / total       0.80      0.80      0.80       179\n",
      "\n",
      "--------------------------------------------------------------------------------\n",
      "ROC : 0.859 %\n"
     ]
    }
   ],
   "source": [
    "from sklearn.naive_bayes import GaussianNB #Naive bayes\n",
    "\n",
    "model = GaussianNB()\n",
    "model.fit(x_train,y_train)\n",
    "prediction6 = model.predict(x_test)\n",
    "\n",
    "#Accuracy\n",
    "accuracy6 =  metrics.accuracy_score(prediction6,y_test)\n",
    "print('The accuracy of the NaiveBayes is',accuracy6)\n",
    "\n",
    "print('--'*40)\n",
    "\n",
    "# Classification Report\n",
    "print('Classification Report')\n",
    "print(classification_report(y_test,prediction6))\n",
    "\n",
    "print('--'*40)\n",
    "\n",
    "# Determine the false positive and true positive rates\n",
    "FPR, TPR, _ = roc_curve(y_test, model.predict_proba(x_test)[:,1])\n",
    "\n",
    "# Calculate the AUC\n",
    "roc_auc = auc(FPR, TPR)\n",
    "print ('ROC : %0.3f' % roc_auc , '%')"
   ]
  },
  {
   "cell_type": "markdown",
   "metadata": {},
   "source": [
    "## 3.6. Random Forests"
   ]
  },
  {
   "cell_type": "code",
   "execution_count": 76,
   "metadata": {},
   "outputs": [
    {
     "name": "stdout",
     "output_type": "stream",
     "text": [
      "The accuracy of the Random Forests is 0.8156424581005587\n",
      "--------------------------------------------------------------------------------\n",
      "Classification Report\n",
      "             precision    recall  f1-score   support\n",
      "\n",
      "          0       0.80      0.89      0.84        99\n",
      "          1       0.84      0.72      0.78        80\n",
      "\n",
      "avg / total       0.82      0.82      0.81       179\n",
      "\n",
      "--------------------------------------------------------------------------------\n",
      "ROC : 0.867 %\n"
     ]
    }
   ],
   "source": [
    "model = RandomForestClassifier(n_estimators=100)\n",
    "model.fit(x_train,y_train)\n",
    "prediction7 = model.predict(x_test)\n",
    "\n",
    "#Accuracy\n",
    "accuracy7 = metrics.accuracy_score(prediction7,y_test)\n",
    "print('The accuracy of the Random Forests is',accuracy7)\n",
    "\n",
    "print('--'*40)\n",
    "\n",
    "# Classification Report\n",
    "print('Classification Report')\n",
    "print(classification_report(y_test,prediction7))\n",
    "\n",
    "print('--'*40)\n",
    "\n",
    "# Determine the false positive and true positive rates\n",
    "FPR, TPR, _ = roc_curve(y_test, model.predict_proba(x_test)[:,1])\n",
    "\n",
    "# Calculate the AUC\n",
    "roc_auc = auc(FPR, TPR)\n",
    "print ('ROC : %0.3f' % roc_auc , '%')"
   ]
  },
  {
   "cell_type": "markdown",
   "metadata": {},
   "source": [
    "## 3.7. Perceptron"
   ]
  },
  {
   "cell_type": "code",
   "execution_count": 77,
   "metadata": {},
   "outputs": [
    {
     "name": "stdout",
     "output_type": "stream",
     "text": [
      "The accuracy of the Perceptron is 0.6871508379888268\n",
      "--------------------------------------------------------------------------------\n",
      "Classification Report\n",
      "             precision    recall  f1-score   support\n",
      "\n",
      "          0       0.73      0.69      0.71        99\n",
      "          1       0.64      0.69      0.66        80\n",
      "\n",
      "avg / total       0.69      0.69      0.69       179\n",
      "\n",
      "--------------------------------------------------------------------------------\n",
      "ROC : 0.746 %\n"
     ]
    }
   ],
   "source": [
    "model=Perceptron()\n",
    "model.fit(x_train,y_train)\n",
    "prediction8=model.predict(x_test)\n",
    "\n",
    "#Accuracy\n",
    "accuracy8 = metrics.accuracy_score(prediction8,y_test)\n",
    "print('The accuracy of the Perceptron is',accuracy8)\n",
    "\n",
    "print('--'*40)\n",
    "\n",
    "# Classification Report\n",
    "print('Classification Report')\n",
    "print(classification_report(y_test,prediction8))\n",
    "\n",
    "print('--'*40)\n",
    "\n",
    "# Determine the false positive and true positive rates\n",
    "FPR, TPR, _ = roc_curve(y_test, model.decision_function(x_test))\n",
    "\n",
    "# Calculate the AUC\n",
    "roc_auc = auc(FPR, TPR)\n",
    "print ('ROC : %0.3f' % roc_auc , '%')"
   ]
  },
  {
   "cell_type": "markdown",
   "metadata": {},
   "source": [
    "## 3.8. Stochastic Gradient Descent"
   ]
  },
  {
   "cell_type": "code",
   "execution_count": 93,
   "metadata": {},
   "outputs": [
    {
     "name": "stdout",
     "output_type": "stream",
     "text": [
      "The accuracy of the SGD is 0.6480446927374302\n",
      "--------------------------------------------------------------------------------\n",
      "Classification Report\n",
      "             precision    recall  f1-score   support\n",
      "\n",
      "          0       0.63      0.87      0.73        99\n",
      "          1       0.70      0.38      0.49        80\n",
      "\n",
      "avg / total       0.66      0.65      0.62       179\n",
      "\n",
      "--------------------------------------------------------------------------------\n",
      "ROC : 0.697 %\n"
     ]
    }
   ],
   "source": [
    "model=SGDClassifier()\n",
    "model.fit(x_train,y_train)\n",
    "prediction9=model.predict(x_test)\n",
    "\n",
    "#Accuracy\n",
    "accuracy9 = metrics.accuracy_score(prediction9,y_test)\n",
    "print('The accuracy of the SGD is',accuracy9)\n",
    "\n",
    "print('--'*40)\n",
    "\n",
    "# Classification Report\n",
    "print('Classification Report')\n",
    "print(classification_report(y_test,prediction9))\n",
    "\n",
    "print('--'*40)\n",
    "\n",
    "# Determine the false positive and true positive rates\n",
    "FPR, TPR, _ = roc_curve(y_test, model.decision_function(x_test))\n",
    "\n",
    "# Calculate the AUC\n",
    "roc_auc = auc(FPR, TPR)\n",
    "print ('ROC : %0.3f' % roc_auc , '%')"
   ]
  },
  {
   "cell_type": "markdown",
   "metadata": {},
   "source": [
    "The accuracy of a model is not the only factor that determines the robustness of the classifier. Let's say that a classifier is trained over a training data and tested over the test data and it scores an accuracy of 90%.\n",
    "\n",
    "Now this seems to be very good accuracy for a classifier, but can we confirm that it will be 90% for all the new test sets that come over??. The answer is No, because we can't determine which all instances will the classifier will use to train itself. As the training and testing data changes, the accuracy will also change. It may increase or decrease. This is known as model variance.\n",
    "\n",
    "To overcome this and get a generalized model, we use Cross Validation"
   ]
  },
  {
   "cell_type": "markdown",
   "metadata": {},
   "source": [
    "## 4. Evaluating Predictive Models"
   ]
  },
  {
   "cell_type": "code",
   "execution_count": 79,
   "metadata": {},
   "outputs": [
    {
     "data": {
      "text/html": [
       "<div>\n",
       "<style scoped>\n",
       "    .dataframe tbody tr th:only-of-type {\n",
       "        vertical-align: middle;\n",
       "    }\n",
       "\n",
       "    .dataframe tbody tr th {\n",
       "        vertical-align: top;\n",
       "    }\n",
       "\n",
       "    .dataframe thead th {\n",
       "        text-align: right;\n",
       "    }\n",
       "</style>\n",
       "<table border=\"1\" class=\"dataframe\">\n",
       "  <thead>\n",
       "    <tr style=\"text-align: right;\">\n",
       "      <th></th>\n",
       "      <th>Model</th>\n",
       "      <th>Score</th>\n",
       "    </tr>\n",
       "  </thead>\n",
       "  <tbody>\n",
       "    <tr>\n",
       "      <th>4</th>\n",
       "      <td>K-Nearest Neighbours</td>\n",
       "      <td>0.843575</td>\n",
       "    </tr>\n",
       "    <tr>\n",
       "      <th>2</th>\n",
       "      <td>Rbf SVC</td>\n",
       "      <td>0.832402</td>\n",
       "    </tr>\n",
       "    <tr>\n",
       "      <th>8</th>\n",
       "      <td>Stochastic Gradient Descent</td>\n",
       "      <td>0.832402</td>\n",
       "    </tr>\n",
       "    <tr>\n",
       "      <th>6</th>\n",
       "      <td>Random Forests</td>\n",
       "      <td>0.815642</td>\n",
       "    </tr>\n",
       "    <tr>\n",
       "      <th>0</th>\n",
       "      <td>Logistic Regression</td>\n",
       "      <td>0.804469</td>\n",
       "    </tr>\n",
       "    <tr>\n",
       "      <th>5</th>\n",
       "      <td>Gaussian Naive Bayes</td>\n",
       "      <td>0.804469</td>\n",
       "    </tr>\n",
       "    <tr>\n",
       "      <th>1</th>\n",
       "      <td>Linear SVC</td>\n",
       "      <td>0.798883</td>\n",
       "    </tr>\n",
       "    <tr>\n",
       "      <th>3</th>\n",
       "      <td>Decision Tree</td>\n",
       "      <td>0.798883</td>\n",
       "    </tr>\n",
       "    <tr>\n",
       "      <th>7</th>\n",
       "      <td>Perceptron</td>\n",
       "      <td>0.687151</td>\n",
       "    </tr>\n",
       "  </tbody>\n",
       "</table>\n",
       "</div>"
      ],
      "text/plain": [
       "                         Model     Score\n",
       "4         K-Nearest Neighbours  0.843575\n",
       "2                      Rbf SVC  0.832402\n",
       "8  Stochastic Gradient Descent  0.832402\n",
       "6               Random Forests  0.815642\n",
       "0          Logistic Regression  0.804469\n",
       "5         Gaussian Naive Bayes  0.804469\n",
       "1                   Linear SVC  0.798883\n",
       "3                Decision Tree  0.798883\n",
       "7                   Perceptron  0.687151"
      ]
     },
     "execution_count": 79,
     "metadata": {},
     "output_type": "execute_result"
    }
   ],
   "source": [
    "models = pd.DataFrame({\n",
    "     'Model': ['Logistic Regression', 'Linear SVC','Rbf SVC',\n",
    "               'Decision Tree', 'K-Nearest Neighbours', 'Gaussian Naive Bayes', 'Random Forests', 'Perceptron', 'Stochastic Gradient Descent'],\n",
    "    'Score': [accuracy1, accuracy2,accuracy3,\n",
    "               accuracy4, accuracy5b, accuracy6, accuracy7, accuracy8, accuracy9]})\n",
    "models.sort_values(by='Score', ascending=False)"
   ]
  },
  {
   "cell_type": "markdown",
   "metadata": {},
   "source": [
    "## 5.1. Cross Validation"
   ]
  },
  {
   "cell_type": "markdown",
   "metadata": {},
   "source": [
    "Many a times, the data is imbalanced, i.e there may be a high number of class1 instances but less number of other class instances. Thus we should train and test our algorithm on each and every instance of the dataset. Then we can take an average of all the noted accuracies over the dataset.\n",
    "\n",
    "1. The K-Fold Cross Validation works by first dividing the dataset into k-subsets.\n",
    "\n",
    "2. Let's say we divide the dataset into (k=5) parts. We reserve 1 part for testing and train the algorithm over the 4 parts.\n",
    "\n",
    "3. We continue the process by changing the testing part in each iteration and training the algorithm over the other parts. The accuracies and errors are then averaged to get a average accuracy of the algorithm.\n",
    "\n",
    "This is called K-Fold Cross Validation.\n",
    "\n",
    "4. An algorithm may underfit over a dataset for some training data and sometimes also overfit the data for other training set. Thus with cross-validation, we can achieve a generalised model"
   ]
  },
  {
   "cell_type": "code",
   "execution_count": 80,
   "metadata": {},
   "outputs": [
    {
     "data": {
      "text/html": [
       "<div>\n",
       "<style scoped>\n",
       "    .dataframe tbody tr th:only-of-type {\n",
       "        vertical-align: middle;\n",
       "    }\n",
       "\n",
       "    .dataframe tbody tr th {\n",
       "        vertical-align: top;\n",
       "    }\n",
       "\n",
       "    .dataframe thead th {\n",
       "        text-align: right;\n",
       "    }\n",
       "</style>\n",
       "<table border=\"1\" class=\"dataframe\">\n",
       "  <thead>\n",
       "    <tr style=\"text-align: right;\">\n",
       "      <th></th>\n",
       "      <th>CV Mean</th>\n",
       "      <th>Std</th>\n",
       "    </tr>\n",
       "  </thead>\n",
       "  <tbody>\n",
       "    <tr>\n",
       "      <th>Linear Svm</th>\n",
       "      <td>0.790089</td>\n",
       "      <td>0.029209</td>\n",
       "    </tr>\n",
       "    <tr>\n",
       "      <th>Radial Svm</th>\n",
       "      <td>0.824901</td>\n",
       "      <td>0.025066</td>\n",
       "    </tr>\n",
       "    <tr>\n",
       "      <th>Logistic Regression</th>\n",
       "      <td>0.810351</td>\n",
       "      <td>0.020264</td>\n",
       "    </tr>\n",
       "    <tr>\n",
       "      <th>KNN</th>\n",
       "      <td>0.804745</td>\n",
       "      <td>0.018207</td>\n",
       "    </tr>\n",
       "    <tr>\n",
       "      <th>Decision Tree</th>\n",
       "      <td>0.783397</td>\n",
       "      <td>0.017154</td>\n",
       "    </tr>\n",
       "    <tr>\n",
       "      <th>Naive Bayes</th>\n",
       "      <td>0.785701</td>\n",
       "      <td>0.033231</td>\n",
       "    </tr>\n",
       "    <tr>\n",
       "      <th>Random Forest</th>\n",
       "      <td>0.810320</td>\n",
       "      <td>0.018312</td>\n",
       "    </tr>\n",
       "    <tr>\n",
       "      <th>Perceptron</th>\n",
       "      <td>0.738642</td>\n",
       "      <td>0.073207</td>\n",
       "    </tr>\n",
       "    <tr>\n",
       "      <th>Stochastic Gradient Descent</th>\n",
       "      <td>0.705926</td>\n",
       "      <td>0.045993</td>\n",
       "    </tr>\n",
       "  </tbody>\n",
       "</table>\n",
       "</div>"
      ],
      "text/plain": [
       "                              CV Mean       Std\n",
       "Linear Svm                   0.790089  0.029209\n",
       "Radial Svm                   0.824901  0.025066\n",
       "Logistic Regression          0.810351  0.020264\n",
       "KNN                          0.804745  0.018207\n",
       "Decision Tree                0.783397  0.017154\n",
       "Naive Bayes                  0.785701  0.033231\n",
       "Random Forest                0.810320  0.018312\n",
       "Perceptron                   0.738642  0.073207\n",
       "Stochastic Gradient Descent  0.705926  0.045993"
      ]
     },
     "execution_count": 80,
     "metadata": {},
     "output_type": "execute_result"
    }
   ],
   "source": [
    "from sklearn.model_selection import KFold #for K-fold cross validation\n",
    "from sklearn.model_selection import cross_val_score #score evaluation\n",
    "from sklearn.model_selection import cross_val_predict #prediction\n",
    "\n",
    "\n",
    "X=train[train.columns[1:]]\n",
    "Y=train['Survived']\n",
    "\n",
    "kfold = KFold(n_splits=5, random_state=22) # k=5, split the data into 5 equal parts\n",
    "xyz=[]\n",
    "accuracy=[]\n",
    "std=[]\n",
    "classifiers=['Linear Svm','Radial Svm','Logistic Regression','KNN','Decision Tree','Naive Bayes','Random Forest', 'Perceptron', 'Stochastic Gradient Descent']\n",
    "models=[svm.SVC(kernel='linear'),svm.SVC(kernel='rbf'),LogisticRegression(),KNeighborsClassifier(n_neighbors=9),DecisionTreeClassifier(),GaussianNB(),RandomForestClassifier(n_estimators=100), Perceptron(), SGDClassifier()]\n",
    "for i in models:\n",
    "    model = i\n",
    "    cv_result = cross_val_score(model,X,Y, cv = kfold,scoring = \"accuracy\")\n",
    "    cv_result=cv_result\n",
    "    xyz.append(cv_result.mean())\n",
    "    std.append(cv_result.std())\n",
    "    accuracy.append(cv_result)\n",
    "new_models_dataframe2=pd.DataFrame({'CV Mean':xyz,'Std':std},index=classifiers)       \n",
    "new_models_dataframe2"
   ]
  },
  {
   "cell_type": "code",
   "execution_count": 81,
   "metadata": {},
   "outputs": [
    {
     "data": {
      "image/png": "[encoded data removed]",
      "text/plain": [
       "<Figure size 576x360 with 1 Axes>"
      ]
     },
     "metadata": {},
     "output_type": "display_data"
    }
   ],
   "source": [
    "new_models_dataframe2['CV Mean'].plot.barh(width=0.8)\n",
    "plt.title('Average CV Mean Accuracy')\n",
    "fig=plt.gcf()\n",
    "fig.set_size_inches(8,5)\n",
    "plt.show()"
   ]
  },
  {
   "cell_type": "markdown",
   "metadata": {},
   "source": [
    "The classification accuracy can be sometimes misleading due to imbalance. We can get a summarized result with the help of confusion matrix, which shows where did the model go wrong, or which class did the model predict wrong."
   ]
  },
  {
   "cell_type": "markdown",
   "metadata": {},
   "source": [
    "## 5.2. Confusion Matrix\n",
    "\n",
    "It gives the number of correct and incorrect classifications made by the classifier."
   ]
  },
  {
   "cell_type": "code",
   "execution_count": 82,
   "metadata": {},
   "outputs": [
    {
     "data": {
      "image/png": "[encoded data removed]",
      "text/plain": [
       "<Figure size 864x720 with 18 Axes>"
      ]
     },
     "metadata": {},
     "output_type": "display_data"
    }
   ],
   "source": [
    "from sklearn.metrics import confusion_matrix\n",
    "\n",
    "\n",
    "f,ax = plt.subplots(3,3,figsize=(12,10))\n",
    "\n",
    "y_pred = cross_val_predict(svm.SVC(kernel='rbf'),X,Y,cv=10)\n",
    "sns.heatmap(confusion_matrix(Y,y_pred),ax=ax[0,0],annot=True,fmt='2.0f')\n",
    "ax[0,0].set_title('Matrix for rbf-SVM')\n",
    "\n",
    "y_pred = cross_val_predict(svm.SVC(kernel='linear'),X,Y,cv=10)\n",
    "sns.heatmap(confusion_matrix(Y,y_pred),ax=ax[0,1],annot=True,fmt='2.0f')\n",
    "ax[0,1].set_title('Matrix for Linear-SVM')\n",
    "\n",
    "y_pred = cross_val_predict(KNeighborsClassifier(n_neighbors=9),X,Y,cv=10)\n",
    "sns.heatmap(confusion_matrix(Y,y_pred),ax=ax[0,2],annot=True,fmt='2.0f')\n",
    "ax[0,2].set_title('Matrix for KNN')\n",
    "\n",
    "y_pred = cross_val_predict(RandomForestClassifier(n_estimators=100),X,Y,cv=10)\n",
    "sns.heatmap(confusion_matrix(Y,y_pred),ax=ax[1,0],annot=True,fmt='2.0f')\n",
    "ax[1,0].set_title('Matrix for Random-Forests')\n",
    "\n",
    "y_pred = cross_val_predict(LogisticRegression(),X,Y,cv=10)\n",
    "sns.heatmap(confusion_matrix(Y,y_pred),ax=ax[1,1],annot=True,fmt='2.0f')\n",
    "ax[1,1].set_title('Matrix for Logistic Regression')\n",
    "\n",
    "y_pred = cross_val_predict(DecisionTreeClassifier(),X,Y,cv=10)\n",
    "sns.heatmap(confusion_matrix(Y,y_pred),ax=ax[1,2],annot=True,fmt='2.0f')\n",
    "ax[1,2].set_title('Matrix for Decision Tree')\n",
    "\n",
    "y_pred = cross_val_predict(GaussianNB(),X,Y,cv=10)\n",
    "sns.heatmap(confusion_matrix(Y,y_pred),ax=ax[2,0],annot=True,fmt='2.0f')\n",
    "ax[2,0].set_title('Matrix for Naive Bayes')\n",
    "\n",
    "y_pred = cross_val_predict(Perceptron(),X,Y,cv=10)\n",
    "sns.heatmap(confusion_matrix(Y,y_pred),ax=ax[2,1],annot=True,fmt='2.0f')\n",
    "ax[2,1].set_title('Matrix for Perceptron')\n",
    "\n",
    "y_pred = cross_val_predict(SGDClassifier(),X,Y,cv=10)\n",
    "sns.heatmap(confusion_matrix(Y,y_pred),ax=ax[2,2],annot=True,fmt='2.0f')\n",
    "ax[2,2].set_title('Matrix for SGD')\n",
    "\n",
    "plt.subplots_adjust(hspace=0.2,wspace=0.2)\n",
    "plt.show()"
   ]
  },
  {
   "cell_type": "markdown",
   "metadata": {},
   "source": [
    "**Interpreting Confusion Matrix**\n",
    "\n",
    "The left diagonal shows the number of correct predictions made for each class while the right diagonal shows the number of wrong prredictions made. Lets consider the first plot for rbf-SVM:\n",
    "\n",
    "1. The no. of correct predictions are 491(for dead) + 245(for survived) with the mean CV accuracy being (491+245)/891 = 82.4% which we did get earlier.\n",
    "\n",
    "2. Errors--> Wrongly Classified 58 dead people as survived and 97 survived as dead. Thus it has made more mistakes by predicting dead as survived.\n",
    "\n",
    "By looking at all the matrices, we can say that rbf-SVM has a higher chance in correctly predicting dead passengers but NaiveBayes, SGD, Perceptron has a higher chance in correctly predicting passengers who survived."
   ]
  },
  {
   "cell_type": "markdown",
   "metadata": {},
   "source": [
    "## 5.3. Hyper-Parameters Tuning"
   ]
  },
  {
   "cell_type": "markdown",
   "metadata": {},
   "source": [
    "The machine learning models are like a Black-Box. There are some default parameter values for this Black-Box, which we can tune or change to get a better model. Like the C and gamma in the SVM model and similarly different parameters for different classifiers, are called the hyper-parameters, which we can tune to change the learning rate of the algorithm and get a better model. This is known as Hyper-Parameter Tuning.\n",
    "\n",
    "We will tune the hyper-parameters for the 2 best classifiers i.e the SVM and RandomForests."
   ]
  },
  {
   "cell_type": "markdown",
   "metadata": {},
   "source": [
    "### 5.3.1. SVM"
   ]
  },
  {
   "cell_type": "code",
   "execution_count": 83,
   "metadata": {},
   "outputs": [
    {
     "name": "stdout",
     "output_type": "stream",
     "text": [
      "Fitting 3 folds for each of 240 candidates, totalling 720 fits\n",
      "0.8305274971941639\n",
      "SVC(C=0.4, cache_size=200, class_weight=None, coef0=0.0,\n",
      "  decision_function_shape='ovr', degree=3, gamma=0.3, kernel='rbf',\n",
      "  max_iter=-1, probability=False, random_state=None, shrinking=True,\n",
      "  tol=0.001, verbose=False)\n"
     ]
    },
    {
     "name": "stderr",
     "output_type": "stream",
     "text": [
      "[Parallel(n_jobs=1)]: Done 720 out of 720 | elapsed:   12.3s finished\n"
     ]
    }
   ],
   "source": [
    "from sklearn.model_selection import GridSearchCV\n",
    "C=[0.05,0.1,0.2,0.3,0.25,0.4,0.5,0.6,0.7,0.8,0.9,1]\n",
    "gamma=[0.1,0.2,0.3,0.4,0.5,0.6,0.7,0.8,0.9,1.0]\n",
    "kernel=['rbf','linear']\n",
    "hyper={'kernel':kernel,'C':C,'gamma':gamma}\n",
    "gd=GridSearchCV(estimator=svm.SVC(),param_grid=hyper,verbose=True)\n",
    "gd.fit(X,Y)\n",
    "print(gd.best_score_)\n",
    "print(gd.best_estimator_)"
   ]
  },
  {
   "cell_type": "markdown",
   "metadata": {},
   "source": [
    "### 5.3.2. Random Forests"
   ]
  },
  {
   "cell_type": "code",
   "execution_count": 84,
   "metadata": {},
   "outputs": [
    {
     "name": "stdout",
     "output_type": "stream",
     "text": [
      "Fitting 3 folds for each of 9 candidates, totalling 27 fits\n"
     ]
    },
    {
     "name": "stderr",
     "output_type": "stream",
     "text": [
      "[Parallel(n_jobs=1)]: Done  27 out of  27 | elapsed:   35.6s finished\n"
     ]
    },
    {
     "name": "stdout",
     "output_type": "stream",
     "text": [
      "0.8080808080808081\n",
      "RandomForestClassifier(bootstrap=True, class_weight=None, criterion='gini',\n",
      "            max_depth=None, max_features='auto', max_leaf_nodes=None,\n",
      "            min_impurity_decrease=0.0, min_impurity_split=None,\n",
      "            min_samples_leaf=1, min_samples_split=2,\n",
      "            min_weight_fraction_leaf=0.0, n_estimators=600, n_jobs=1,\n",
      "            oob_score=False, random_state=0, verbose=0, warm_start=False)\n"
     ]
    }
   ],
   "source": [
    "n_estimators=range(100,1000,100)\n",
    "hyper={'n_estimators':n_estimators}\n",
    "gd=GridSearchCV(estimator=RandomForestClassifier(random_state=0),param_grid=hyper,verbose=True)\n",
    "gd.fit(X,Y)\n",
    "print(gd.best_score_)\n",
    "print(gd.best_estimator_)"
   ]
  },
  {
   "cell_type": "markdown",
   "metadata": {},
   "source": [
    "The best score for Rbf-Svm is **83.05%** with C=0.4 and gamma=0.3. For RandomForest, score is abt **80.8%** with n_estimators=600."
   ]
  },
  {
   "cell_type": "markdown",
   "metadata": {},
   "source": [
    "## 5.4. Ensembling\n",
    "\n",
    "Ensembling is a good way to increase the accuracy or performance of a model. In simple words, it is the combination of various simple models to create a single powerful model.\n",
    "\n",
    "Lets say we want to buy a phone and ask many people about it based on various parameters. So then we can make a strong judgement about a single product after analysing all different parameters. This is Ensembling, which improves the stability of the model. Ensembling can be done in ways like:\n",
    "\n",
    "1. Voting Classifier\n",
    "\n",
    "2. Bagging\n",
    "\n",
    "3. Boosting."
   ]
  },
  {
   "cell_type": "markdown",
   "metadata": {},
   "source": [
    "### 5.4.1. Voting Classifier\n",
    "\n",
    "It is the simplest way of combining predictions from many different simple machine learning models. It gives an average prediction result based on the prediction of all the submodels. The submodels or the basemodels are all of diiferent types."
   ]
  },
  {
   "cell_type": "code",
   "execution_count": 85,
   "metadata": {},
   "outputs": [
    {
     "name": "stderr",
     "output_type": "stream",
     "text": [
      "/usr/local/anaconda3/envs/szczygiel/lib/python3.6/site-packages/sklearn/preprocessing/label.py:151: DeprecationWarning:\n",
      "\n",
      "The truth value of an empty array is ambiguous. Returning False, but in future this will result in an error. Use `array.size > 0` to check that an array is not empty.\n",
      "\n"
     ]
    },
    {
     "name": "stdout",
     "output_type": "stream",
     "text": [
      "The accuracy for ensembled model is: 0.8324022346368715\n"
     ]
    },
    {
     "name": "stderr",
     "output_type": "stream",
     "text": [
      "/usr/local/anaconda3/envs/szczygiel/lib/python3.6/site-packages/sklearn/preprocessing/label.py:151: DeprecationWarning:\n",
      "\n",
      "The truth value of an empty array is ambiguous. Returning False, but in future this will result in an error. Use `array.size > 0` to check that an array is not empty.\n",
      "\n",
      "/usr/local/anaconda3/envs/szczygiel/lib/python3.6/site-packages/sklearn/preprocessing/label.py:151: DeprecationWarning:\n",
      "\n",
      "The truth value of an empty array is ambiguous. Returning False, but in future this will result in an error. Use `array.size > 0` to check that an array is not empty.\n",
      "\n",
      "/usr/local/anaconda3/envs/szczygiel/lib/python3.6/site-packages/sklearn/preprocessing/label.py:151: DeprecationWarning:\n",
      "\n",
      "The truth value of an empty array is ambiguous. Returning False, but in future this will result in an error. Use `array.size > 0` to check that an array is not empty.\n",
      "\n",
      "/usr/local/anaconda3/envs/szczygiel/lib/python3.6/site-packages/sklearn/preprocessing/label.py:151: DeprecationWarning:\n",
      "\n",
      "The truth value of an empty array is ambiguous. Returning False, but in future this will result in an error. Use `array.size > 0` to check that an array is not empty.\n",
      "\n",
      "/usr/local/anaconda3/envs/szczygiel/lib/python3.6/site-packages/sklearn/preprocessing/label.py:151: DeprecationWarning:\n",
      "\n",
      "The truth value of an empty array is ambiguous. Returning False, but in future this will result in an error. Use `array.size > 0` to check that an array is not empty.\n",
      "\n",
      "/usr/local/anaconda3/envs/szczygiel/lib/python3.6/site-packages/sklearn/preprocessing/label.py:151: DeprecationWarning:\n",
      "\n",
      "The truth value of an empty array is ambiguous. Returning False, but in future this will result in an error. Use `array.size > 0` to check that an array is not empty.\n",
      "\n",
      "/usr/local/anaconda3/envs/szczygiel/lib/python3.6/site-packages/sklearn/preprocessing/label.py:151: DeprecationWarning:\n",
      "\n",
      "The truth value of an empty array is ambiguous. Returning False, but in future this will result in an error. Use `array.size > 0` to check that an array is not empty.\n",
      "\n",
      "/usr/local/anaconda3/envs/szczygiel/lib/python3.6/site-packages/sklearn/preprocessing/label.py:151: DeprecationWarning:\n",
      "\n",
      "The truth value of an empty array is ambiguous. Returning False, but in future this will result in an error. Use `array.size > 0` to check that an array is not empty.\n",
      "\n",
      "/usr/local/anaconda3/envs/szczygiel/lib/python3.6/site-packages/sklearn/preprocessing/label.py:151: DeprecationWarning:\n",
      "\n",
      "The truth value of an empty array is ambiguous. Returning False, but in future this will result in an error. Use `array.size > 0` to check that an array is not empty.\n",
      "\n"
     ]
    },
    {
     "name": "stdout",
     "output_type": "stream",
     "text": [
      "The cross validated score is 0.8204335489728749\n"
     ]
    },
    {
     "name": "stderr",
     "output_type": "stream",
     "text": [
      "/usr/local/anaconda3/envs/szczygiel/lib/python3.6/site-packages/sklearn/preprocessing/label.py:151: DeprecationWarning:\n",
      "\n",
      "The truth value of an empty array is ambiguous. Returning False, but in future this will result in an error. Use `array.size > 0` to check that an array is not empty.\n",
      "\n"
     ]
    }
   ],
   "source": [
    "from sklearn.ensemble import VotingClassifier\n",
    "\n",
    "ensemble_lin_rbf=VotingClassifier(estimators=[('KNN',KNeighborsClassifier(n_neighbors=7)),\n",
    "                                              ('RBF',svm.SVC(probability=True,kernel='rbf',C=0.4,gamma=0.3)),\n",
    "                                              ('RFor',RandomForestClassifier(n_estimators=500,random_state=0)),\n",
    "                                              ('LR',LogisticRegression(C=0.05)),\n",
    "                                              ('DT',DecisionTreeClassifier(random_state=0)),\n",
    "                                              ('svm',svm.SVC(kernel='linear',probability=True))], voting='soft').fit(x_train,y_train)\n",
    "print('The accuracy for ensembled model is:',ensemble_lin_rbf.score(x_test,y_test))\n",
    "cross=cross_val_score(ensemble_lin_rbf,X,Y, cv = 10,scoring = \"accuracy\")\n",
    "print('The cross validated score is',cross.mean())"
   ]
  },
  {
   "cell_type": "markdown",
   "metadata": {},
   "source": [
    "## 5.4.2. Bagging\n",
    "\n",
    "Bagging is a general ensemble method. It works by applying similar classifiers on small partitions of the dataset and then taking the average of all the predictions. Due to the averaging,there is reduction in variance. Unlike Voting Classifier, Bagging makes use of similar classifiers.\n"
   ]
  },
  {
   "cell_type": "markdown",
   "metadata": {},
   "source": [
    "** Bagged DecisionTree**"
   ]
  },
  {
   "cell_type": "code",
   "execution_count": 86,
   "metadata": {},
   "outputs": [
    {
     "name": "stdout",
     "output_type": "stream",
     "text": [
      "The accuracy for bagged Decision Tree is: 0.8044692737430168\n",
      "The cross validated score for bagged Decision Tree is: 0.8047653501305186\n"
     ]
    }
   ],
   "source": [
    "from sklearn.ensemble import BaggingClassifier\n",
    "model=BaggingClassifier(base_estimator=DecisionTreeClassifier(),random_state=0,n_estimators=100)\n",
    "model.fit(x_train,y_train)\n",
    "prediction=model.predict(x_test)\n",
    "\n",
    "print('The accuracy for bagged Decision Tree is:',metrics.accuracy_score(prediction,y_test))\n",
    "result=cross_val_score(model,X,Y,cv=10,scoring='accuracy')\n",
    "print('The cross validated score for bagged Decision Tree is:',result.mean())"
   ]
  },
  {
   "cell_type": "markdown",
   "metadata": {},
   "source": [
    "## 5.4.3. Boosting\n",
    "\n",
    "Boosting is an ensembling technique which uses sequential learning of classifiers. It is a step by step enhancement of a weak model.Boosting works as follows:\n",
    "\n",
    "A model is first trained on the complete dataset. Now the model will get some instances right while some wrong. Now in the next iteration, the learner will focus more on the wrongly predicted instances or give more weight to it. Thus it will try to predict the wrong instance correctly. Now this iterative process continous, and new classifers are added to the model until the limit is reached on the accuracy."
   ]
  },
  {
   "cell_type": "markdown",
   "metadata": {},
   "source": [
    "**5.4.3.1. AdaBoost (Adaptive Boosting)**\n",
    "\n",
    "The weak learner or estimator in this case is a Decsion Tree. But we can change the dafault base_estimator to any algorithm of our choice."
   ]
  },
  {
   "cell_type": "code",
   "execution_count": 87,
   "metadata": {},
   "outputs": [
    {
     "name": "stdout",
     "output_type": "stream",
     "text": [
      "The cross validated score for AdaBoost is: 0.8238040517534898\n"
     ]
    }
   ],
   "source": [
    "from sklearn.ensemble import AdaBoostClassifier \n",
    "\n",
    "ada=AdaBoostClassifier(n_estimators=200,random_state=0,learning_rate=0.1)\n",
    "result=cross_val_score(ada,X,Y,cv=10,scoring='accuracy')\n",
    "print('The cross validated score for AdaBoost is:',result.mean())"
   ]
  },
  {
   "cell_type": "markdown",
   "metadata": {},
   "source": [
    "**5.4.3.2. Stochastic Gradient Boosting**\n",
    "\n",
    "Here too the weak learner is a Decision Tree"
   ]
  },
  {
   "cell_type": "code",
   "execution_count": 88,
   "metadata": {},
   "outputs": [
    {
     "name": "stdout",
     "output_type": "stream",
     "text": [
      "The cross validated score for Gradient Boosting is: 0.8126174668028601\n"
     ]
    }
   ],
   "source": [
    "from sklearn.ensemble import GradientBoostingClassifier\n",
    "\n",
    "grad=GradientBoostingClassifier(n_estimators=500,random_state=0,learning_rate=0.1)\n",
    "result=cross_val_score(grad,X,Y,cv=10,scoring='accuracy')\n",
    "print('The cross validated score for Gradient Boosting is:',result.mean())"
   ]
  },
  {
   "cell_type": "markdown",
   "metadata": {},
   "source": [
    "**5.4.3.3. XGBoost**"
   ]
  },
  {
   "cell_type": "code",
   "execution_count": 89,
   "metadata": {},
   "outputs": [
    {
     "name": "stderr",
     "output_type": "stream",
     "text": [
      "/usr/local/anaconda3/envs/szczygiel/lib/python3.6/site-packages/sklearn/preprocessing/label.py:151: DeprecationWarning:\n",
      "\n",
      "The truth value of an empty array is ambiguous. Returning False, but in future this will result in an error. Use `array.size > 0` to check that an array is not empty.\n",
      "\n",
      "/usr/local/anaconda3/envs/szczygiel/lib/python3.6/site-packages/sklearn/preprocessing/label.py:151: DeprecationWarning:\n",
      "\n",
      "The truth value of an empty array is ambiguous. Returning False, but in future this will result in an error. Use `array.size > 0` to check that an array is not empty.\n",
      "\n",
      "/usr/local/anaconda3/envs/szczygiel/lib/python3.6/site-packages/sklearn/preprocessing/label.py:151: DeprecationWarning:\n",
      "\n",
      "The truth value of an empty array is ambiguous. Returning False, but in future this will result in an error. Use `array.size > 0` to check that an array is not empty.\n",
      "\n",
      "/usr/local/anaconda3/envs/szczygiel/lib/python3.6/site-packages/sklearn/preprocessing/label.py:151: DeprecationWarning:\n",
      "\n",
      "The truth value of an empty array is ambiguous. Returning False, but in future this will result in an error. Use `array.size > 0` to check that an array is not empty.\n",
      "\n",
      "/usr/local/anaconda3/envs/szczygiel/lib/python3.6/site-packages/sklearn/preprocessing/label.py:151: DeprecationWarning:\n",
      "\n",
      "The truth value of an empty array is ambiguous. Returning False, but in future this will result in an error. Use `array.size > 0` to check that an array is not empty.\n",
      "\n",
      "/usr/local/anaconda3/envs/szczygiel/lib/python3.6/site-packages/sklearn/preprocessing/label.py:151: DeprecationWarning:\n",
      "\n",
      "The truth value of an empty array is ambiguous. Returning False, but in future this will result in an error. Use `array.size > 0` to check that an array is not empty.\n",
      "\n",
      "/usr/local/anaconda3/envs/szczygiel/lib/python3.6/site-packages/sklearn/preprocessing/label.py:151: DeprecationWarning:\n",
      "\n",
      "The truth value of an empty array is ambiguous. Returning False, but in future this will result in an error. Use `array.size > 0` to check that an array is not empty.\n",
      "\n",
      "/usr/local/anaconda3/envs/szczygiel/lib/python3.6/site-packages/sklearn/preprocessing/label.py:151: DeprecationWarning:\n",
      "\n",
      "The truth value of an empty array is ambiguous. Returning False, but in future this will result in an error. Use `array.size > 0` to check that an array is not empty.\n",
      "\n",
      "/usr/local/anaconda3/envs/szczygiel/lib/python3.6/site-packages/sklearn/preprocessing/label.py:151: DeprecationWarning:\n",
      "\n",
      "The truth value of an empty array is ambiguous. Returning False, but in future this will result in an error. Use `array.size > 0` to check that an array is not empty.\n",
      "\n"
     ]
    },
    {
     "name": "stdout",
     "output_type": "stream",
     "text": [
      "The cross validated score for XGBoost is: 0.8160265577119509\n"
     ]
    },
    {
     "name": "stderr",
     "output_type": "stream",
     "text": [
      "/usr/local/anaconda3/envs/szczygiel/lib/python3.6/site-packages/sklearn/preprocessing/label.py:151: DeprecationWarning:\n",
      "\n",
      "The truth value of an empty array is ambiguous. Returning False, but in future this will result in an error. Use `array.size > 0` to check that an array is not empty.\n",
      "\n"
     ]
    }
   ],
   "source": [
    "import xgboost as xg  \n",
    "\n",
    "xgboost=xg.XGBClassifier(n_estimators=900,learning_rate=0.1)\n",
    "result=cross_val_score(xgboost,X,Y,cv=10,scoring='accuracy')\n",
    "print('The cross validated score for XGBoost is:',result.mean())"
   ]
  },
  {
   "cell_type": "markdown",
   "metadata": {},
   "source": [
    "We got the highest accuracy for AdaBoost. We will try to increase it with Hyper-Parameter Tuning"
   ]
  },
  {
   "cell_type": "markdown",
   "metadata": {},
   "source": [
    "**Hyper-Parameter Tuning for AdaBoost**"
   ]
  },
  {
   "cell_type": "code",
   "execution_count": 90,
   "metadata": {},
   "outputs": [
    {
     "name": "stdout",
     "output_type": "stream",
     "text": [
      "Fitting 3 folds for each of 120 candidates, totalling 360 fits\n"
     ]
    },
    {
     "name": "stderr",
     "output_type": "stream",
     "text": [
      "[Parallel(n_jobs=1)]: Done 360 out of 360 | elapsed:  6.3min finished\n"
     ]
    },
    {
     "name": "stdout",
     "output_type": "stream",
     "text": [
      "0.8181818181818182\n",
      "AdaBoostClassifier(algorithm='SAMME.R', base_estimator=None,\n",
      "          learning_rate=0.05, n_estimators=200, random_state=None)\n"
     ]
    }
   ],
   "source": [
    "n_estimators=list(range(100,1100,100))\n",
    "learn_rate=[0.05,0.1,0.2,0.3,0.25,0.4,0.5,0.6,0.7,0.8,0.9,1]\n",
    "hyper={'n_estimators':n_estimators,'learning_rate':learn_rate}\n",
    "gd=GridSearchCV(estimator=AdaBoostClassifier(),param_grid=hyper,verbose=True)\n",
    "gd.fit(X,Y)\n",
    "print(gd.best_score_)\n",
    "print(gd.best_estimator_)"
   ]
  },
  {
   "cell_type": "markdown",
   "metadata": {},
   "source": [
    "The maximum accuracy we can get with AdaBoost is 82.38% with n_estimators=200 and learning_rate=0.05"
   ]
  },
  {
   "cell_type": "markdown",
   "metadata": {},
   "source": [
    "## 5.4.4. Confusion Matrix for the Best Model of Boosting "
   ]
  },
  {
   "cell_type": "code",
   "execution_count": 91,
   "metadata": {},
   "outputs": [
    {
     "data": {
      "image/png": "[encoded data removed]",
      "text/plain": [
       "<Figure size 432x288 with 2 Axes>"
      ]
     },
     "metadata": {},
     "output_type": "display_data"
    }
   ],
   "source": [
    "ada = AdaBoostClassifier(n_estimators=200,random_state=0,learning_rate=0.05)\n",
    "result=cross_val_predict(ada,X,Y,cv=10)\n",
    "sns.heatmap(confusion_matrix(Y,result),cmap='winter',annot=True,fmt='2.0f')\n",
    "plt.show()"
   ]
  },
  {
   "cell_type": "markdown",
   "metadata": {},
   "source": [
    "## 6. Feature Importance"
   ]
  },
  {
   "cell_type": "code",
   "execution_count": 92,
   "metadata": {
    "scrolled": true
   },
   "outputs": [
    {
     "data": {
      "image/png": "[encoded data removed]",
      "text/plain": [
       "<Figure size 1080x864 with 4 Axes>"
      ]
     },
     "metadata": {},
     "output_type": "display_data"
    }
   ],
   "source": [
    "f,ax=plt.subplots(2,2,figsize=(15,12))\n",
    "model=RandomForestClassifier(n_estimators=500,random_state=0)\n",
    "model.fit(X,Y)\n",
    "pd.Series(model.feature_importances_,X.columns).sort_values(ascending=True).plot.barh(width=0.8,ax=ax[0,0])\n",
    "ax[0,0].set_title('Feature Importance in Random Forests')\n",
    "model=AdaBoostClassifier(n_estimators=200,learning_rate=0.05,random_state=0)\n",
    "model.fit(X,Y)\n",
    "pd.Series(model.feature_importances_,X.columns).sort_values(ascending=True).plot.barh(width=0.8,ax=ax[0,1],color='#ddff11')\n",
    "ax[0,1].set_title('Feature Importance in AdaBoost')\n",
    "model=GradientBoostingClassifier(n_estimators=500,learning_rate=0.1,random_state=0)\n",
    "model.fit(X,Y)\n",
    "pd.Series(model.feature_importances_,X.columns).sort_values(ascending=True).plot.barh(width=0.8,ax=ax[1,0],cmap='RdYlGn_r')\n",
    "ax[1,0].set_title('Feature Importance in Gradient Boosting')\n",
    "model=xg.XGBClassifier(n_estimators=900,learning_rate=0.1)\n",
    "model.fit(X,Y)\n",
    "pd.Series(model.feature_importances_,X.columns).sort_values(ascending=True).plot.barh(width=0.8,ax=ax[1,1],color='#FD0F00')\n",
    "ax[1,1].set_title('Feature Importance in XgBoost')\n",
    "plt.show()"
   ]
  },
  {
   "cell_type": "markdown",
   "metadata": {},
   "source": [
    "We can see the important features for various classifiers like RandomForests, AdaBoost,etc.\n",
    "\n",
    "**Observations:**\n",
    "1. Some of the common important features are Initial,Fare_cat,Pclass,Family_Size.\n",
    "\n",
    "2. The Sex feature doesn't seem to give any importance, which is shocking as we had seen earlier that Sex combined with Pclass was giving a very good differentiating factor. Sex looks to be important only in RandomForests.\n",
    "\n",
    "3. Similarly the Pclass and Fare_cat refer to the status of the passengers and Family_Size with Alone,Parch and SibSp."
   ]
  },
  {
   "cell_type": "markdown",
   "metadata": {},
   "source": [
    " ### **AND THE WINNER IS...**\n",
    "K-Nearest Neighbors with K = 9 with the highest overall performance in accuracy, recall, and precision (~ 84% across the board).  The other classification models also performed well, but were a few percentage points lower in their evaluation metrics.  Additional parameter tuning could improve each model's performance even more, but this initial analysis proved to be a good starting point. We tried to improve decision tree by paramter tuning (~ 83 %), bui it is still worse than KNN. "
   ]
  }
 ],
 "metadata": {
  "kernelspec": {
   "display_name": "Python 3",
   "language": "python",
   "name": "python3"
  },
  "language_info": {
   "codemirror_mode": {
    "name": "ipython",
    "version": 3
   },
   "file_extension": ".py",
   "mimetype": "text/x-python",
   "name": "python",
   "nbconvert_exporter": "python",
   "pygments_lexer": "ipython3",
   "version": "3.6.8"
  }
 },
 "nbformat": 4,
 "nbformat_minor": 2
}
